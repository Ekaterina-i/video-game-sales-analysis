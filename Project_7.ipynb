{
 "cells": [
  {
   "cell_type": "markdown",
   "id": "e06910dd",
   "metadata": {
    "id": "e06910dd"
   },
   "source": [
    "# \"Секреты Темнолесья\" изучение развития игровой индустрии\n",
    "\n",
    "- Автор: Игнатьева Екатерина"
   ]
  },
  {
   "cell_type": "markdown",
   "id": "4149134c",
   "metadata": {
    "id": "4149134c"
   },
   "source": [
    "### Цели и задачи проекта\n",
    "В этой тетрадке используем датасет `/datasets/new_games.csv` который содержит информацию о продажах игр разных жанров и платформ, а также пользовательские и экспертные оценки игр. Изучим развитие игровой индустрии с 2000 по 2013 годю. Изучим объёмы продаж игр разных жанров и региональные предпочтения игроков.\n"
   ]
  },
  {
   "cell_type": "markdown",
   "id": "728986ea",
   "metadata": {
    "id": "728986ea"
   },
   "source": [
    "### Описание данных\n",
    "В проекте будут использованы данные датасета `/datasets/new_games.csv` с таким описанием:\n",
    "\n",
    "* `Name` — название игры.\n",
    "* `Platform` — название платформы.\n",
    "* `Year of Release` — год выпуска игры.\n",
    "* `Genre` — жанр игры.\n",
    "* `NA sales` — продажи в Северной Америке (в миллионах проданных копий).\n",
    "* `EU sales` — продажи в Европе (в миллионах проданных копий).\n",
    "* `JP sales` — продажи в Японии (в миллионах проданных копий).\n",
    "* `Other sales` — продажи в других странах (в миллионах проданных копий).\n",
    "* `Critic Score` — оценка критиков (от 0 до 100).\n",
    "* `User Score` — оценка пользователей (от 0 до 10).\n",
    "* `Rating` — рейтинг организации ESRB (англ. Entertainment Software Rating Board). Эта ассоциация определяет рейтинг компьютерных игр и присваивает им подходящую возрастную категорию."
   ]
  },
  {
   "cell_type": "markdown",
   "id": "4fecaf95",
   "metadata": {
    "id": "4fecaf95"
   },
   "source": [
    "### Содержимое проекта\n",
    "\n",
    "1. Загрузка данных и знакомство с ними\n",
    "2. Проверка ошибок в данных и их предобработка\n",
    "3. Фильтрация данных\n",
    "4. Категоризация данных\n",
    "5. Итоговый вывод"
   ]
  },
  {
   "cell_type": "markdown",
   "id": "6f7d21d6",
   "metadata": {
    "id": "6f7d21d6"
   },
   "source": [
    "## 1. Загрузка данных и знакомство с ними"
   ]
  },
  {
   "cell_type": "code",
   "execution_count": 6,
   "id": "ce87c1db",
   "metadata": {
    "id": "ce87c1db"
   },
   "outputs": [],
   "source": [
    "# Импортируем библиотеку pandas\n",
    "import pandas as pd "
   ]
  },
  {
   "cell_type": "code",
   "execution_count": 7,
   "id": "90fee493",
   "metadata": {
    "id": "90fee493"
   },
   "outputs": [],
   "source": [
    "# Выгружаем данные из датасета /datasets/new_games.csv датафрейм\n",
    "games = pd.read_csv('https://code.s3.yandex.net/datasets/new_games.csv')\n",
    "\n",
    "df = pd.DataFrame(games)"
   ]
  },
  {
   "cell_type": "code",
   "execution_count": 8,
   "id": "3937acf7",
   "metadata": {
    "id": "3937acf7"
   },
   "outputs": [
    {
     "data": {
      "text/html": [
       "<div>\n",
       "<style scoped>\n",
       "    .dataframe tbody tr th:only-of-type {\n",
       "        vertical-align: middle;\n",
       "    }\n",
       "\n",
       "    .dataframe tbody tr th {\n",
       "        vertical-align: top;\n",
       "    }\n",
       "\n",
       "    .dataframe thead th {\n",
       "        text-align: right;\n",
       "    }\n",
       "</style>\n",
       "<table border=\"1\" class=\"dataframe\">\n",
       "  <thead>\n",
       "    <tr style=\"text-align: right;\">\n",
       "      <th></th>\n",
       "      <th>Name</th>\n",
       "      <th>Platform</th>\n",
       "      <th>Year of Release</th>\n",
       "      <th>Genre</th>\n",
       "      <th>NA sales</th>\n",
       "      <th>EU sales</th>\n",
       "      <th>JP sales</th>\n",
       "      <th>Other sales</th>\n",
       "      <th>Critic Score</th>\n",
       "      <th>User Score</th>\n",
       "      <th>Rating</th>\n",
       "    </tr>\n",
       "  </thead>\n",
       "  <tbody>\n",
       "    <tr>\n",
       "      <th>0</th>\n",
       "      <td>Wii Sports</td>\n",
       "      <td>Wii</td>\n",
       "      <td>2006.0</td>\n",
       "      <td>Sports</td>\n",
       "      <td>41.36</td>\n",
       "      <td>28.96</td>\n",
       "      <td>3.77</td>\n",
       "      <td>8.45</td>\n",
       "      <td>76.0</td>\n",
       "      <td>8</td>\n",
       "      <td>E</td>\n",
       "    </tr>\n",
       "    <tr>\n",
       "      <th>1</th>\n",
       "      <td>Super Mario Bros.</td>\n",
       "      <td>NES</td>\n",
       "      <td>1985.0</td>\n",
       "      <td>Platform</td>\n",
       "      <td>29.08</td>\n",
       "      <td>3.58</td>\n",
       "      <td>6.81</td>\n",
       "      <td>0.77</td>\n",
       "      <td>NaN</td>\n",
       "      <td>NaN</td>\n",
       "      <td>NaN</td>\n",
       "    </tr>\n",
       "    <tr>\n",
       "      <th>2</th>\n",
       "      <td>Mario Kart Wii</td>\n",
       "      <td>Wii</td>\n",
       "      <td>2008.0</td>\n",
       "      <td>Racing</td>\n",
       "      <td>15.68</td>\n",
       "      <td>12.76</td>\n",
       "      <td>3.79</td>\n",
       "      <td>3.29</td>\n",
       "      <td>82.0</td>\n",
       "      <td>8.3</td>\n",
       "      <td>E</td>\n",
       "    </tr>\n",
       "    <tr>\n",
       "      <th>3</th>\n",
       "      <td>Wii Sports Resort</td>\n",
       "      <td>Wii</td>\n",
       "      <td>2009.0</td>\n",
       "      <td>Sports</td>\n",
       "      <td>15.61</td>\n",
       "      <td>10.93</td>\n",
       "      <td>3.28</td>\n",
       "      <td>2.95</td>\n",
       "      <td>80.0</td>\n",
       "      <td>8</td>\n",
       "      <td>E</td>\n",
       "    </tr>\n",
       "    <tr>\n",
       "      <th>4</th>\n",
       "      <td>Pokemon Red/Pokemon Blue</td>\n",
       "      <td>GB</td>\n",
       "      <td>1996.0</td>\n",
       "      <td>Role-Playing</td>\n",
       "      <td>11.27</td>\n",
       "      <td>8.89</td>\n",
       "      <td>10.22</td>\n",
       "      <td>1.00</td>\n",
       "      <td>NaN</td>\n",
       "      <td>NaN</td>\n",
       "      <td>NaN</td>\n",
       "    </tr>\n",
       "  </tbody>\n",
       "</table>\n",
       "</div>"
      ],
      "text/plain": [
       "                       Name Platform  Year of Release         Genre  NA sales  \\\n",
       "0                Wii Sports      Wii           2006.0        Sports     41.36   \n",
       "1         Super Mario Bros.      NES           1985.0      Platform     29.08   \n",
       "2            Mario Kart Wii      Wii           2008.0        Racing     15.68   \n",
       "3         Wii Sports Resort      Wii           2009.0        Sports     15.61   \n",
       "4  Pokemon Red/Pokemon Blue       GB           1996.0  Role-Playing     11.27   \n",
       "\n",
       "  EU sales JP sales  Other sales  Critic Score User Score Rating  \n",
       "0    28.96     3.77         8.45          76.0          8      E  \n",
       "1     3.58     6.81         0.77           NaN        NaN    NaN  \n",
       "2    12.76     3.79         3.29          82.0        8.3      E  \n",
       "3    10.93     3.28         2.95          80.0          8      E  \n",
       "4     8.89    10.22         1.00           NaN        NaN    NaN  "
      ]
     },
     "execution_count": 8,
     "metadata": {},
     "output_type": "execute_result"
    }
   ],
   "source": [
    "# Выводим первые 5 строк \n",
    "df.head()"
   ]
  },
  {
   "cell_type": "code",
   "execution_count": 9,
   "id": "d7c8eb4b",
   "metadata": {
    "id": "d7c8eb4b"
   },
   "outputs": [
    {
     "name": "stdout",
     "output_type": "stream",
     "text": [
      "<class 'pandas.core.frame.DataFrame'>\n",
      "RangeIndex: 16956 entries, 0 to 16955\n",
      "Data columns (total 11 columns):\n",
      " #   Column           Non-Null Count  Dtype  \n",
      "---  ------           --------------  -----  \n",
      " 0   Name             16954 non-null  object \n",
      " 1   Platform         16956 non-null  object \n",
      " 2   Year of Release  16681 non-null  float64\n",
      " 3   Genre            16954 non-null  object \n",
      " 4   NA sales         16956 non-null  float64\n",
      " 5   EU sales         16956 non-null  object \n",
      " 6   JP sales         16956 non-null  object \n",
      " 7   Other sales      16956 non-null  float64\n",
      " 8   Critic Score     8242 non-null   float64\n",
      " 9   User Score       10152 non-null  object \n",
      " 10  Rating           10085 non-null  object \n",
      "dtypes: float64(4), object(7)\n",
      "memory usage: 1.4+ MB\n"
     ]
    }
   ],
   "source": [
    "# Выводим общую информацию по датафрейму\n",
    "df.info()"
   ]
  },
  {
   "cell_type": "markdown",
   "id": "149879a3",
   "metadata": {
    "id": "fc561cac"
   },
   "source": [
    "\n",
    "\n",
    "Датасет `games_dataset.csv` содержит 11 столбцов и 16956 строк, в которых представлена информация о продажах игр разных жанров и платформ, а также пользовательские и экспертные оценки игр.\n",
    "\n",
    "Изучим типы данных и их корректность:\n",
    "\n",
    "**Числовые значения с плавающей запятой (float64)** Четыре столбца имеют тип данных `float64`:\n",
    "\n",
    "- Столбцыв `NA sales`,`Other sales`,`Critic Score` содержат продажи и оценку критиков. Это верное решение, так как цена может включать дробные значения.\n",
    "\n",
    "- Столбец `Year of Release` содержит инфомацию про год выпуска игры. Требуеться заметить тип данных на `int64`\n",
    "\n",
    "\n",
    "**Строковые данные (object)** Cемь столбцов имеют тип данных `object`:\n",
    "\n",
    "- Столбцы `Name`,`Platform`,`Genre` содержат строковую информацию, что логично для текстовых данных. Здесь тип данных `object` подходит. Столбец `Rating` имеет верный тип данных `object` т.к. представлены категориальные данные.\n",
    "\n",
    "\n",
    "- Cтолбцы `EU sales`,`JP sales` содержат данные о продажах в миллионах копий. Тип данных `object` представлен неверно. Требуется заметить тип данных на `float64`. Столбец `User Score` содержит тип данных числовой оценки от 0 до 10. Требуется заметить тип данных c `object` на `float64`. \n"
   ]
  },
  {
   "cell_type": "markdown",
   "id": "ba2b929d",
   "metadata": {},
   "source": [
    "После анализа типов данных видно, что большинство столбцов корректно представлены. Но также есть данные которые нужно скорректировать.\n",
    "\n",
    "Также стоит заметить, что название столбцов требуется заменить - убрать пробелы.\n",
    "Для удобства в работе."
   ]
  },
  {
   "cell_type": "markdown",
   "id": "c77938d0",
   "metadata": {
    "id": "81651b8d"
   },
   "source": [
    "Можно выделить 6 столбцов у которых есть пропуски:\n",
    "\n",
    "1. `Critic Score` - 8242 заполнено из 16956,тип float64\n",
    "2. `Rating` - 10085 заполнено из 16956,тип object \n",
    "3. `User Score` - 10152 заполнено из 16956,тип object \n",
    "4. `Year of Release` - 16681 заполнено из 16956, тип float64\n",
    "5. `Name` - 16954 заполнено из 16956, тип object\n",
    "6. `Genre` - 16954 заполнено из 16956,тип object"
   ]
  },
  {
   "cell_type": "markdown",
   "id": "774bf76e",
   "metadata": {
    "id": "774bf76e"
   },
   "source": [
    "---\n",
    "\n",
    "## 2.  Проверка ошибок в данных и их предобработка\n",
    "\n",
    "\n",
    "### 2.1. Названия, или метки, столбцов датафрейма\n"
   ]
  },
  {
   "cell_type": "code",
   "execution_count": 14,
   "id": "b9276a2b",
   "metadata": {
    "id": "b9276a2b"
   },
   "outputs": [
    {
     "data": {
      "text/plain": [
       "Index(['Name', 'Platform', 'Year of Release', 'Genre', 'NA sales', 'EU sales',\n",
       "       'JP sales', 'Other sales', 'Critic Score', 'User Score', 'Rating'],\n",
       "      dtype='object')"
      ]
     },
     "execution_count": 14,
     "metadata": {},
     "output_type": "execute_result"
    }
   ],
   "source": [
    "# Выводим название всех столбцов\n",
    "df.columns"
   ]
  },
  {
   "cell_type": "code",
   "execution_count": 15,
   "id": "d554563c",
   "metadata": {
    "id": "d554563c"
   },
   "outputs": [],
   "source": [
    "# Убираем пропуски и приводим к нижнему регистру\n",
    "columns_snake_case =['name','platform','year_of_release','genre','na_sales','eu_sales','jp_sales',\n",
    "                    'other_sales','critic_score', 'user_score','rating']\n",
    "df.columns = columns_snake_case"
   ]
  },
  {
   "cell_type": "code",
   "execution_count": 16,
   "id": "743c2401",
   "metadata": {},
   "outputs": [
    {
     "data": {
      "text/plain": [
       "Index(['name', 'platform', 'year_of_release', 'genre', 'na_sales', 'eu_sales',\n",
       "       'jp_sales', 'other_sales', 'critic_score', 'user_score', 'rating'],\n",
       "      dtype='object')"
      ]
     },
     "execution_count": 16,
     "metadata": {},
     "output_type": "execute_result"
    }
   ],
   "source": [
    "# Выводим новые названия столбцов\n",
    "df.columns"
   ]
  },
  {
   "cell_type": "markdown",
   "id": "41bc6bf8",
   "metadata": {
    "id": "41bc6bf8"
   },
   "source": [
    "### 2.2. Типы данных"
   ]
  },
  {
   "cell_type": "code",
   "execution_count": 18,
   "id": "92b89a82",
   "metadata": {},
   "outputs": [],
   "source": [
    "# Применяем fillna для замены пропусков на -1 к столбцу с годом выхода игры\n",
    "df ['year_of_release'] = df['year_of_release'].fillna(-1)"
   ]
  },
  {
   "cell_type": "code",
   "execution_count": 19,
   "id": "8305c7cc",
   "metadata": {},
   "outputs": [],
   "source": [
    "# Изменяем тип данных year_of_release c float64 на int64\n",
    "df ['year_of_release'] = df['year_of_release'].astype('int64')"
   ]
  },
  {
   "cell_type": "code",
   "execution_count": 20,
   "id": "44cb06ed",
   "metadata": {},
   "outputs": [],
   "source": [
    "# Создаем цыкл для изменения типа данных для столбцов с условием, что могут встретиться строковые значения\n",
    "for column in ['eu_sales','jp_sales','user_score','year_of_release']:\n",
    "    df[column] = pd.to_numeric(df[column], errors='coerce')"
   ]
  },
  {
   "cell_type": "code",
   "execution_count": 21,
   "id": "1107ace5",
   "metadata": {},
   "outputs": [
    {
     "name": "stdout",
     "output_type": "stream",
     "text": [
      "<class 'pandas.core.frame.DataFrame'>\n",
      "RangeIndex: 16956 entries, 0 to 16955\n",
      "Data columns (total 11 columns):\n",
      " #   Column           Non-Null Count  Dtype  \n",
      "---  ------           --------------  -----  \n",
      " 0   name             16954 non-null  object \n",
      " 1   platform         16956 non-null  object \n",
      " 2   year_of_release  16956 non-null  int64  \n",
      " 3   genre            16954 non-null  object \n",
      " 4   na_sales         16956 non-null  float64\n",
      " 5   eu_sales         16950 non-null  float64\n",
      " 6   jp_sales         16952 non-null  float64\n",
      " 7   other_sales      16956 non-null  float64\n",
      " 8   critic_score     8242 non-null   float64\n",
      " 9   user_score       7688 non-null   float64\n",
      " 10  rating           10085 non-null  object \n",
      "dtypes: float64(6), int64(1), object(4)\n",
      "memory usage: 1.4+ MB\n"
     ]
    }
   ],
   "source": [
    "df.info()"
   ]
  },
  {
   "cell_type": "markdown",
   "id": "b39893cb",
   "metadata": {
    "id": "b39893cb"
   },
   "source": [
    "### 2.3. Наличие пропусков в данных"
   ]
  },
  {
   "cell_type": "code",
   "execution_count": 23,
   "id": "0f1c91a8",
   "metadata": {
    "id": "0f1c91a8"
   },
   "outputs": [
    {
     "data": {
      "text/plain": [
       "'Пропуски по каждому столбцу:'"
      ]
     },
     "metadata": {},
     "output_type": "display_data"
    },
    {
     "data": {
      "text/plain": [
       "name                  2\n",
       "platform              0\n",
       "year_of_release       0\n",
       "genre                 2\n",
       "na_sales              0\n",
       "eu_sales              6\n",
       "jp_sales              4\n",
       "other_sales           0\n",
       "critic_score       8714\n",
       "user_score         9268\n",
       "rating             6871\n",
       "dtype: int64"
      ]
     },
     "metadata": {},
     "output_type": "display_data"
    }
   ],
   "source": [
    "# Выводим пропуски по каждому столбцу\n",
    "display('Пропуски по каждому столбцу:')\n",
    "display(df.isna().sum())"
   ]
  },
  {
   "cell_type": "code",
   "execution_count": 24,
   "id": "86cd1cc1",
   "metadata": {
    "id": "86cd1cc1"
   },
   "outputs": [
    {
     "data": {
      "text/plain": [
       "name                0.011795\n",
       "platform            0.000000\n",
       "year_of_release     0.000000\n",
       "genre               0.011795\n",
       "na_sales            0.000000\n",
       "eu_sales            0.035386\n",
       "jp_sales            0.023590\n",
       "other_sales         0.000000\n",
       "critic_score       51.391838\n",
       "user_score         54.659118\n",
       "rating             40.522529\n",
       "dtype: float64"
      ]
     },
     "execution_count": 24,
     "metadata": {},
     "output_type": "execute_result"
    }
   ],
   "source": [
    "# Выводим процент пропусков по каждому столбцу \n",
    "df.isna().sum() / df.shape[0] * 100"
   ]
  },
  {
   "cell_type": "code",
   "execution_count": 25,
   "id": "132dcd54",
   "metadata": {},
   "outputs": [
    {
     "data": {
      "text/plain": [
       "'Количество строк до удаления пропусков: 16956'"
      ]
     },
     "metadata": {},
     "output_type": "display_data"
    }
   ],
   "source": [
    "# Количество строк до удаления пропусков \n",
    "initial_row_count_pass = df.shape[0]\n",
    "display(f'Количество строк до удаления пропусков: {initial_row_count_pass}')"
   ]
  },
  {
   "cell_type": "markdown",
   "id": "380e57f9",
   "metadata": {
    "id": "247a6cf7"
   },
   "source": [
    "Большинство столбцов не содержат пропусков, что является положительным аспектом для анализа. Однако есть исключения.\n",
    "\n",
    "Наибольшее количество пропусков наблюдается в столбцах `user_score`- 54.65%,`critic_score` - 51.39%,`rating`- 40.52%, что является довольно высоким показателем.\n",
    "\n",
    "В столбцах `genre`, `name` - 0.01% пропусков, который не является критичным.\n",
    "\n",
    "В столбцах `eu_sales` - 0.03%, `eu_sales` - 0.02% пропусков, тоже результат не критичный."
   ]
  },
  {
   "cell_type": "markdown",
   "id": "a2ffa31a",
   "metadata": {},
   "source": [
    "1. **`user_score` и `critic_score`**:\n",
    "- Столбцы содержат оценки пользователей и критиков. Пропуски могут быть связаны с тем, что:\n",
    "    - Игра была выпущена недавно, и оценки еще не были собраны.\n",
    "    - Игра не была достаточно популярной, чтобы привлечь внимание критиков или пользователей.\n",
    "    - Данные об оценках могли быть утеряны или не были предоставлены издателем.\n",
    "     \n",
    "2. **`rating`**:\n",
    "- Рейтинг игры может отсутствовать, если:\n",
    "    - Игра была выпущена в регионах, где рейтинг не требуется.\n",
    "    - Данные о рейтинге не были предоставлены издателем.\n",
    "    \n",
    "3. **`genre` и `name`**:\n",
    "- Пропуски в этих столбцах минимальны (0.01%), что может быть связано с:\n",
    "    - Ошибками ввода данных.\n",
    "    - Отсутствием информации о жанре или названии для некоторых игр.\n",
    "    \n",
    "4. **`eu_sales` и `jp_sales`**: \n",
    "- Пропуски могут быть связаны с тем, что:\n",
    "    - Отсутствием данных о продажах в определенных регионах.\n",
    "    - Ошибками при сборе или обработке данных."
   ]
  },
  {
   "cell_type": "markdown",
   "id": "7d3b8aa3",
   "metadata": {
    "id": "bd69e642"
   },
   "source": [
    "Заполнение пропусков:\n",
    "\n",
    "- Для столбцов `genre` и `name`так как их доля крайне мала и незначительна пропуски можно как и удалить так и оставить без изменений.\n",
    "\n",
    "- Для `user_score` и `critic_score` так как рейтинг вещь индивидуальная можно заполнить нереалистичным '-1' в дальнейшем это не введет нас в заблуждение.\n",
    "    \n",
    "- Для `rating` можно заполнить их значением \"RP\",так как это стандартное обозначение для игр без рейтинга.\n",
    "\n",
    "- Для `eu_sales` и `jp_sales` можно заполнить пропуски нулями, если предполагается, \n",
    "    что игры не продавались в этих регионах."
   ]
  },
  {
   "cell_type": "code",
   "execution_count": 29,
   "id": "a952c254",
   "metadata": {},
   "outputs": [],
   "source": [
    "# Заполняем пропуски значением -1 в critic_score\n",
    "df ['critic_score'] = df['critic_score'].fillna(-1)"
   ]
  },
  {
   "cell_type": "code",
   "execution_count": 30,
   "id": "cc2d1374",
   "metadata": {
    "id": "cc2d1374"
   },
   "outputs": [],
   "source": [
    "# Заполняем пропуски значением -1 в user_score\n",
    "df ['user_score'] = df['user_score'].fillna(-1)"
   ]
  },
  {
   "cell_type": "code",
   "execution_count": 31,
   "id": "d7a45eba",
   "metadata": {},
   "outputs": [],
   "source": [
    "# Вычисляем и заполняем пропуски средним значением продаж по группе платформы и года eu_sales,jp_sales\n",
    "mean_sales = df.groupby(['platform','year_of_release'])[['eu_sales','jp_sales']].transform('mean')\n",
    "df[['eu_sales','jp_sales']] = df[['eu_sales','jp_sales']].fillna(mean_sales)"
   ]
  },
  {
   "cell_type": "code",
   "execution_count": 32,
   "id": "7c76286b",
   "metadata": {},
   "outputs": [],
   "source": [
    "# Заполняем пропуски значением 'RP' для игр без рейтинга.\n",
    "df.fillna({'rating': 'RP'}, inplace=True)\n"
   ]
  },
  {
   "cell_type": "code",
   "execution_count": 33,
   "id": "594ebfa0",
   "metadata": {},
   "outputs": [],
   "source": [
    "# Удаляем оставшиеся пропуски для столбцов genre и name\n",
    "df = df.dropna(subset=['genre','name']) "
   ]
  },
  {
   "cell_type": "code",
   "execution_count": 34,
   "id": "4a424118",
   "metadata": {},
   "outputs": [
    {
     "data": {
      "text/plain": [
       "name               0\n",
       "platform           0\n",
       "year_of_release    0\n",
       "genre              0\n",
       "na_sales           0\n",
       "eu_sales           0\n",
       "jp_sales           0\n",
       "other_sales        0\n",
       "critic_score       0\n",
       "user_score         0\n",
       "rating             0\n",
       "dtype: int64"
      ]
     },
     "execution_count": 34,
     "metadata": {},
     "output_type": "execute_result"
    }
   ],
   "source": [
    "# Проверяем наличие пропусков\n",
    "df.isna().sum()"
   ]
  },
  {
   "cell_type": "markdown",
   "id": "a63363fd",
   "metadata": {
    "id": "a63363fd"
   },
   "source": [
    "### 2.4. Явные и неявные дубликаты в данных"
   ]
  },
  {
   "cell_type": "code",
   "execution_count": 36,
   "id": "6070351d",
   "metadata": {},
   "outputs": [
    {
     "data": {
      "text/plain": [
       "array(['Sports', 'Platform', 'Racing', 'Role-Playing', 'Puzzle', 'Misc',\n",
       "       'Shooter', 'Simulation', 'Action', 'Fighting', 'Adventure',\n",
       "       'Strategy', 'MISC', 'ROLE-PLAYING', 'RACING', 'ACTION', 'SHOOTER',\n",
       "       'FIGHTING', 'SPORTS', 'PLATFORM', 'ADVENTURE', 'SIMULATION',\n",
       "       'PUZZLE', 'STRATEGY'], dtype=object)"
      ]
     },
     "metadata": {},
     "output_type": "display_data"
    },
    {
     "data": {
      "text/plain": [
       "array(['Wii', 'NES', 'GB', 'DS', 'X360', 'PS3', 'PS2', 'SNES', 'GBA',\n",
       "       'PS4', '3DS', 'N64', 'PS', 'XB', 'PC', '2600', 'PSP', 'XOne',\n",
       "       'WiiU', 'GC', 'GEN', 'DC', 'PSV', 'SAT', 'SCD', 'WS', 'NG', 'TG16',\n",
       "       '3DO', 'GG', 'PCFX'], dtype=object)"
      ]
     },
     "metadata": {},
     "output_type": "display_data"
    },
    {
     "data": {
      "text/plain": [
       "array(['E', 'RP', 'M', 'T', 'E10+', 'K-A', 'AO', 'EC'], dtype=object)"
      ]
     },
     "metadata": {},
     "output_type": "display_data"
    },
    {
     "data": {
      "text/plain": [
       "array([2006, 1985, 2008, 2009, 1996, 1989, 1984, 2005, 1999, 2007, 2010,\n",
       "       2013, 2004, 1990, 1988, 2002, 2001, 2011, 1998, 2015, 2012, 2014,\n",
       "       1992, 1997, 1993, 1994, 1982, 2016, 2003, 1986, 2000,   -1, 1995,\n",
       "       1991, 1981, 1987, 1980, 1983])"
      ]
     },
     "metadata": {},
     "output_type": "display_data"
    }
   ],
   "source": [
    "# Выводим все уникальные значения\n",
    "unique_genre = df['genre'].unique()\n",
    "unique_platform = df['platform'].unique()\n",
    "unique_rating = df['rating'].unique()\n",
    "unique_year = df['year_of_release'].unique()\n",
    "\n",
    "display(unique_genre, unique_platform, unique_rating, unique_year)"
   ]
  },
  {
   "cell_type": "code",
   "execution_count": 37,
   "id": "05207ae2",
   "metadata": {},
   "outputs": [],
   "source": [
    "# Заменяем значение 'К-А' на 'Е'\n",
    "df['rating'] = df['rating'].replace('K-A','E')"
   ]
  },
  {
   "cell_type": "code",
   "execution_count": 38,
   "id": "d73b4581",
   "metadata": {},
   "outputs": [
    {
     "data": {
      "text/plain": [
       "'Уникальные значения: (24, 31, 7, 38)'"
      ]
     },
     "metadata": {},
     "output_type": "display_data"
    }
   ],
   "source": [
    "# Выводим количество уникальных значений\n",
    "unique_genre_count = df['genre'].nunique()\n",
    "unique_platform_count = df['platform'].nunique()\n",
    "unique_rating_count = df['rating'].nunique()\n",
    "unique_year_count = df['year_of_release'].nunique()\n",
    "\n",
    "display(f\"Уникальные значения: {unique_genre_count, unique_platform_count, unique_rating_count, unique_year_count}\")"
   ]
  },
  {
   "cell_type": "code",
   "execution_count": 39,
   "id": "491c9c39",
   "metadata": {
    "id": "491c9c39"
   },
   "outputs": [
    {
     "data": {
      "text/plain": [
       "0              sports\n",
       "1            platform\n",
       "2              racing\n",
       "3              sports\n",
       "4        role-playing\n",
       "             ...     \n",
       "16951          action\n",
       "16952          sports\n",
       "16953       adventure\n",
       "16954        platform\n",
       "16955      simulation\n",
       "Name: genre, Length: 16954, dtype: object"
      ]
     },
     "metadata": {},
     "output_type": "display_data"
    }
   ],
   "source": [
    "# Приводим столбец genre к нижнему регистру, чтобы избавиться от неявных дубликатов\n",
    "df['genre'] = df['genre'].str.lower().str.strip()\n",
    "display(df['genre'])"
   ]
  },
  {
   "cell_type": "code",
   "execution_count": 40,
   "id": "d8c89bc3",
   "metadata": {},
   "outputs": [
    {
     "data": {
      "text/plain": [
       "0         E\n",
       "1        RP\n",
       "2         E\n",
       "3         E\n",
       "4        RP\n",
       "         ..\n",
       "16951    RP\n",
       "16952    RP\n",
       "16953    RP\n",
       "16954    RP\n",
       "16955    RP\n",
       "Name: rating, Length: 16954, dtype: object"
      ]
     },
     "metadata": {},
     "output_type": "display_data"
    }
   ],
   "source": [
    "# Приводим столбец rating к верхниму регистру\n",
    "df['rating'] = df['rating'].str.upper().str.strip()\n",
    "display(df['rating'])"
   ]
  },
  {
   "cell_type": "code",
   "execution_count": 41,
   "id": "fc5c91b5",
   "metadata": {
    "id": "fc5c91b5"
   },
   "outputs": [],
   "source": [
    "# Поиск дубликатов по ключевым полям\n",
    "duplicates = df[df.duplicated(subset=['name', 'platform', 'year_of_release'], keep=False)]"
   ]
  },
  {
   "cell_type": "code",
   "execution_count": 42,
   "id": "0fe9a4fd",
   "metadata": {
    "scrolled": true
   },
   "outputs": [
    {
     "data": {
      "text/html": [
       "<div>\n",
       "<style scoped>\n",
       "    .dataframe tbody tr th:only-of-type {\n",
       "        vertical-align: middle;\n",
       "    }\n",
       "\n",
       "    .dataframe tbody tr th {\n",
       "        vertical-align: top;\n",
       "    }\n",
       "\n",
       "    .dataframe thead th {\n",
       "        text-align: right;\n",
       "    }\n",
       "</style>\n",
       "<table border=\"1\" class=\"dataframe\">\n",
       "  <thead>\n",
       "    <tr style=\"text-align: right;\">\n",
       "      <th></th>\n",
       "      <th>name</th>\n",
       "      <th>platform</th>\n",
       "      <th>year_of_release</th>\n",
       "      <th>genre</th>\n",
       "      <th>na_sales</th>\n",
       "      <th>eu_sales</th>\n",
       "      <th>jp_sales</th>\n",
       "      <th>other_sales</th>\n",
       "      <th>critic_score</th>\n",
       "      <th>user_score</th>\n",
       "      <th>rating</th>\n",
       "    </tr>\n",
       "  </thead>\n",
       "  <tbody>\n",
       "    <tr>\n",
       "      <th>267</th>\n",
       "      <td>Batman: Arkham Asylum</td>\n",
       "      <td>PS3</td>\n",
       "      <td>2009</td>\n",
       "      <td>action</td>\n",
       "      <td>2.24</td>\n",
       "      <td>1.31</td>\n",
       "      <td>0.07</td>\n",
       "      <td>0.61</td>\n",
       "      <td>91.0</td>\n",
       "      <td>8.9</td>\n",
       "      <td>T</td>\n",
       "    </tr>\n",
       "    <tr>\n",
       "      <th>268</th>\n",
       "      <td>Batman: Arkham Asylum</td>\n",
       "      <td>PS3</td>\n",
       "      <td>2009</td>\n",
       "      <td>action</td>\n",
       "      <td>2.24</td>\n",
       "      <td>1.31</td>\n",
       "      <td>0.07</td>\n",
       "      <td>0.61</td>\n",
       "      <td>91.0</td>\n",
       "      <td>8.9</td>\n",
       "      <td>T</td>\n",
       "    </tr>\n",
       "    <tr>\n",
       "      <th>367</th>\n",
       "      <td>James Bond 007: Agent Under Fire</td>\n",
       "      <td>PS2</td>\n",
       "      <td>2001</td>\n",
       "      <td>shooter</td>\n",
       "      <td>1.90</td>\n",
       "      <td>1.13</td>\n",
       "      <td>0.10</td>\n",
       "      <td>0.41</td>\n",
       "      <td>72.0</td>\n",
       "      <td>7.9</td>\n",
       "      <td>T</td>\n",
       "    </tr>\n",
       "    <tr>\n",
       "      <th>368</th>\n",
       "      <td>James Bond 007: Agent Under Fire</td>\n",
       "      <td>PS2</td>\n",
       "      <td>2001</td>\n",
       "      <td>shooter</td>\n",
       "      <td>1.90</td>\n",
       "      <td>1.13</td>\n",
       "      <td>0.10</td>\n",
       "      <td>0.41</td>\n",
       "      <td>72.0</td>\n",
       "      <td>7.9</td>\n",
       "      <td>T</td>\n",
       "    </tr>\n",
       "    <tr>\n",
       "      <th>606</th>\n",
       "      <td>Madden NFL 13</td>\n",
       "      <td>PS3</td>\n",
       "      <td>2012</td>\n",
       "      <td>sports</td>\n",
       "      <td>2.11</td>\n",
       "      <td>0.22</td>\n",
       "      <td>0.00</td>\n",
       "      <td>0.23</td>\n",
       "      <td>83.0</td>\n",
       "      <td>5.5</td>\n",
       "      <td>E</td>\n",
       "    </tr>\n",
       "  </tbody>\n",
       "</table>\n",
       "</div>"
      ],
      "text/plain": [
       "                                 name platform  year_of_release    genre  \\\n",
       "267             Batman: Arkham Asylum      PS3             2009   action   \n",
       "268             Batman: Arkham Asylum      PS3             2009   action   \n",
       "367  James Bond 007: Agent Under Fire      PS2             2001  shooter   \n",
       "368  James Bond 007: Agent Under Fire      PS2             2001  shooter   \n",
       "606                     Madden NFL 13      PS3             2012   sports   \n",
       "\n",
       "     na_sales  eu_sales  jp_sales  other_sales  critic_score  user_score  \\\n",
       "267      2.24      1.31      0.07         0.61          91.0         8.9   \n",
       "268      2.24      1.31      0.07         0.61          91.0         8.9   \n",
       "367      1.90      1.13      0.10         0.41          72.0         7.9   \n",
       "368      1.90      1.13      0.10         0.41          72.0         7.9   \n",
       "606      2.11      0.22      0.00         0.23          83.0         5.5   \n",
       "\n",
       "    rating  \n",
       "267      T  \n",
       "268      T  \n",
       "367      T  \n",
       "368      T  \n",
       "606      E  "
      ]
     },
     "metadata": {},
     "output_type": "display_data"
    }
   ],
   "source": [
    "# Вывод дубликатов\n",
    "display(duplicates.head())"
   ]
  },
  {
   "cell_type": "code",
   "execution_count": 43,
   "id": "e96b1606",
   "metadata": {},
   "outputs": [
    {
     "data": {
      "text/plain": [
       "241"
      ]
     },
     "execution_count": 43,
     "metadata": {},
     "output_type": "execute_result"
    }
   ],
   "source": [
    "# Выводим количество дубликатов\n",
    "df.duplicated().sum()"
   ]
  },
  {
   "cell_type": "markdown",
   "id": "fbdc657b",
   "metadata": {
    "id": "8548f894"
   },
   "source": [
    "В ходе анализа данных было обнаружено ***241 дублирующаяся строка***. Для обработки дубликатов необходимо выполнить следующие действия.\n",
    "\n",
    "    - Принять решение о дальнейшей обработке: анализ дубликатов, удаление или сохранение.\n",
    "    - При выводе всех уникальных значений столбца 'rating' было принято решение заменить данные 'К-А' на 'Е', так как исторически рейтинг 'E' был введен в 1994 году, заменив собой предыдущую категорию 'K-A' (Kids to Adults), которая использовалась до 1998 года."
   ]
  },
  {
   "cell_type": "code",
   "execution_count": 45,
   "id": "970923c3",
   "metadata": {},
   "outputs": [
    {
     "data": {
      "text/plain": [
       "'Количество строк до удаления пропусков 16956'"
      ]
     },
     "metadata": {},
     "output_type": "display_data"
    }
   ],
   "source": [
    "display(f'Количество строк до удаления пропусков {initial_row_count_pass}')"
   ]
  },
  {
   "cell_type": "code",
   "execution_count": 46,
   "id": "2f61e076",
   "metadata": {
    "id": "2f61e076"
   },
   "outputs": [
    {
     "data": {
      "text/plain": [
       "'Количество строк до удаления дубликатов: 16954'"
      ]
     },
     "metadata": {},
     "output_type": "display_data"
    }
   ],
   "source": [
    "# Количество строк до удаления дубликатов \n",
    "initial_row_count = df.shape[0]\n",
    "display(f'Количество строк до удаления дубликатов: {initial_row_count}')"
   ]
  },
  {
   "cell_type": "code",
   "execution_count": 47,
   "id": "f9d8ee19",
   "metadata": {
    "id": "f9d8ee19"
   },
   "outputs": [],
   "source": [
    "# Удаляем дублирующиеся строки\n",
    "duplicat_clean = df.drop_duplicates()"
   ]
  },
  {
   "cell_type": "code",
   "execution_count": 48,
   "id": "3d7a9d8e",
   "metadata": {
    "id": "3d7a9d8e"
   },
   "outputs": [
    {
     "data": {
      "text/plain": [
       "'Количество строк после удаления дубликатов: 16713'"
      ]
     },
     "metadata": {},
     "output_type": "display_data"
    }
   ],
   "source": [
    "# Количество строк после удаления дубликатов\n",
    "final_row_count = len(duplicat_clean)\n",
    "display(f'Количество строк после удаления дубликатов: {final_row_count}')"
   ]
  },
  {
   "cell_type": "code",
   "execution_count": 49,
   "id": "ff6ea9f9",
   "metadata": {},
   "outputs": [
    {
     "data": {
      "text/plain": [
       "'Количество удаленных строк в абсолютном значении: 243'"
      ]
     },
     "metadata": {},
     "output_type": "display_data"
    },
    {
     "data": {
      "text/plain": [
       "'Количество удаленных строк в относительном значении: 1.43%'"
      ]
     },
     "metadata": {},
     "output_type": "display_data"
    }
   ],
   "source": [
    "# Расчет количества удаленных строк в абсолютном и относительном значениях\n",
    "rows_removed_abs = initial_row_count_pass - final_row_count\n",
    "rows_removed_rel = round((rows_removed_abs / initial_row_count_pass) * 100,2)\n",
    "\n",
    "display(f'Количество удаленных строк в абсолютном значении: {rows_removed_abs}')\n",
    "display(f'Количество удаленных строк в относительном значении: {rows_removed_rel}%')"
   ]
  },
  {
   "cell_type": "markdown",
   "id": "47613d75",
   "metadata": {
    "id": "47613d75"
   },
   "source": [
    "- После проведения предобработки данных напишите общий промежуточный вывод."
   ]
  },
  {
   "cell_type": "markdown",
   "id": "380fd559",
   "metadata": {
    "id": "5166fdf8"
   },
   "source": [
    "**Промежуточный общий вывод по результатам предобработки данных**\n",
    "\n",
    "1. Названия столбцов и их обработка:\n",
    "   - Названия столбцов были приведены к нижнему регистру для унификации.\n",
    "   - Пропуски в данных были удалены или заполнены в зависимости от контекста.\n",
    "   \n",
    "2. Типы данных:\n",
    "   - Типы данных были проверены и изменены при необходимости. Например, столбец `year_of_release` был преобразован из `float64` в `int64`.\n",
    "   - Для столбцов, где могли встретиться строковые значения, был применен цикл для корректного изменения типов данных.\n",
    "\n",
    "3. Обработка пропусков:\n",
    "   - Пропуски в столбце `year_of_release` были заполнены значением `-1`.\n",
    "   - Для столбцов с продажами (`eu_sales`, `jp_sales`) пропуски были заполнены средними значениями по группе платформы и года.\n",
    "   - Пропуски в столбце с рейтингом (`rating`) были заполнены значением `'RP'` (Rating Pending).\n",
    "   \n",
    "4. Анализ пропусков:\n",
    "   - Были выведены количество и процент пропусков по каждому столбцу.\n",
    "   - Пропуски в числовых столбцах были заполнены средними значениями.\n",
    "\n",
    "5. Обработка дубликатов:\n",
    "   - Были выведены все уникальные значения и их количество.\n",
    "   - Столбец `genre` был приведен к нижнему регистру, а столбец `rating` — к верхнему для устранения неявных дубликатов.\n",
    "   - Были найдены и выведены дубликаты по ключевым полям.\n",
    "   - Количество строк до удаления дубликатов: 16 956.\n",
    "   - Количество строк после удаления дубликатов: 16 715."
   ]
  },
  {
   "cell_type": "markdown",
   "id": "50f1d799",
   "metadata": {
    "id": "12a69dba"
   },
   "source": [
    "После удаления дубликатов количество строк уменьшилось на **241**. Данные стали более чистыми и готовы для дальнейшего анализа."
   ]
  },
  {
   "cell_type": "markdown",
   "id": "767a1c05",
   "metadata": {
    "id": "a2c09ca7"
   },
   "source": [
    "В результате данные стали более структурированными и пригодными для дальнейшего анализа. Удаление дубликатов и заполнение пропусков позволили улучшить качество данных, что важно для построения точных выводов."
   ]
  },
  {
   "cell_type": "markdown",
   "id": "613f0eb0",
   "metadata": {
    "id": "613f0eb0"
   },
   "source": [
    "---\n",
    "\n",
    "## 3. Фильтрация данных\n",
    "\n",
    "Коллеги хотят изучить историю продаж игр в начале XXI века, и их интересует период с 2000 по 2013 год включительно. "
   ]
  },
  {
   "cell_type": "code",
   "execution_count": 55,
   "id": "2344916d",
   "metadata": {
    "id": "2344916d"
   },
   "outputs": [],
   "source": [
    "# Устанавливаем фильтр на период с 2000 по 2013 год включительно \n",
    "filter_df = df[(df['year_of_release']>= 2000) & (df['year_of_release'] <= 2013)]"
   ]
  },
  {
   "cell_type": "code",
   "execution_count": 56,
   "id": "44d7529f",
   "metadata": {
    "id": "44d7529f"
   },
   "outputs": [],
   "source": [
    "# Создаем новый срез данных - независимую копию\n",
    "df_actual = filter_df.copy()"
   ]
  },
  {
   "cell_type": "code",
   "execution_count": 57,
   "id": "906577e8",
   "metadata": {
    "id": "906577e8"
   },
   "outputs": [
    {
     "name": "stdout",
     "output_type": "stream",
     "text": [
      "<class 'pandas.core.frame.DataFrame'>\n",
      "Index: 12980 entries, 0 to 16954\n",
      "Data columns (total 11 columns):\n",
      " #   Column           Non-Null Count  Dtype  \n",
      "---  ------           --------------  -----  \n",
      " 0   name             12980 non-null  object \n",
      " 1   platform         12980 non-null  object \n",
      " 2   year_of_release  12980 non-null  int64  \n",
      " 3   genre            12980 non-null  object \n",
      " 4   na_sales         12980 non-null  float64\n",
      " 5   eu_sales         12980 non-null  float64\n",
      " 6   jp_sales         12980 non-null  float64\n",
      " 7   other_sales      12980 non-null  float64\n",
      " 8   critic_score     12980 non-null  float64\n",
      " 9   user_score       12980 non-null  float64\n",
      " 10  rating           12980 non-null  object \n",
      "dtypes: float64(6), int64(1), object(4)\n",
      "memory usage: 1.2+ MB\n"
     ]
    }
   ],
   "source": [
    "# Выводим info для знакомства с новым датафреймом\n",
    "df_actual.info()"
   ]
  },
  {
   "cell_type": "markdown",
   "id": "a6f10b01",
   "metadata": {
    "id": "a6f10b01"
   },
   "source": [
    "---\n",
    "\n",
    "## 4. Категоризация данных\n",
    "    \n",
    "Проведите категоризацию данных:\n",
    "- Разделите все игры по оценкам пользователей и выделите такие категории: высокая оценка (от 8 до 10 включительно), средняя оценка (от 3 до 8, не включая правую границу интервала) и низкая оценка (от 0 до 3, не включая правую границу интервала)."
   ]
  },
  {
   "cell_type": "code",
   "execution_count": 59,
   "id": "3db87229",
   "metadata": {
    "id": "3db87229",
    "scrolled": true
   },
   "outputs": [
    {
     "data": {
      "text/html": [
       "<div>\n",
       "<style scoped>\n",
       "    .dataframe tbody tr th:only-of-type {\n",
       "        vertical-align: middle;\n",
       "    }\n",
       "\n",
       "    .dataframe tbody tr th {\n",
       "        vertical-align: top;\n",
       "    }\n",
       "\n",
       "    .dataframe thead th {\n",
       "        text-align: right;\n",
       "    }\n",
       "</style>\n",
       "<table border=\"1\" class=\"dataframe\">\n",
       "  <thead>\n",
       "    <tr style=\"text-align: right;\">\n",
       "      <th></th>\n",
       "      <th>name</th>\n",
       "      <th>platform</th>\n",
       "      <th>year_of_release</th>\n",
       "      <th>genre</th>\n",
       "      <th>na_sales</th>\n",
       "      <th>eu_sales</th>\n",
       "      <th>jp_sales</th>\n",
       "      <th>other_sales</th>\n",
       "      <th>critic_score</th>\n",
       "      <th>user_score</th>\n",
       "      <th>rating</th>\n",
       "      <th>user_score_group</th>\n",
       "    </tr>\n",
       "  </thead>\n",
       "  <tbody>\n",
       "    <tr>\n",
       "      <th>0</th>\n",
       "      <td>Wii Sports</td>\n",
       "      <td>Wii</td>\n",
       "      <td>2006</td>\n",
       "      <td>sports</td>\n",
       "      <td>41.36</td>\n",
       "      <td>28.96</td>\n",
       "      <td>3.77</td>\n",
       "      <td>8.45</td>\n",
       "      <td>76.0</td>\n",
       "      <td>8.0</td>\n",
       "      <td>E</td>\n",
       "      <td>высокая оценка</td>\n",
       "    </tr>\n",
       "    <tr>\n",
       "      <th>2</th>\n",
       "      <td>Mario Kart Wii</td>\n",
       "      <td>Wii</td>\n",
       "      <td>2008</td>\n",
       "      <td>racing</td>\n",
       "      <td>15.68</td>\n",
       "      <td>12.76</td>\n",
       "      <td>3.79</td>\n",
       "      <td>3.29</td>\n",
       "      <td>82.0</td>\n",
       "      <td>8.3</td>\n",
       "      <td>E</td>\n",
       "      <td>высокая оценка</td>\n",
       "    </tr>\n",
       "    <tr>\n",
       "      <th>3</th>\n",
       "      <td>Wii Sports Resort</td>\n",
       "      <td>Wii</td>\n",
       "      <td>2009</td>\n",
       "      <td>sports</td>\n",
       "      <td>15.61</td>\n",
       "      <td>10.93</td>\n",
       "      <td>3.28</td>\n",
       "      <td>2.95</td>\n",
       "      <td>80.0</td>\n",
       "      <td>8.0</td>\n",
       "      <td>E</td>\n",
       "      <td>высокая оценка</td>\n",
       "    </tr>\n",
       "    <tr>\n",
       "      <th>6</th>\n",
       "      <td>New Super Mario Bros.</td>\n",
       "      <td>DS</td>\n",
       "      <td>2006</td>\n",
       "      <td>platform</td>\n",
       "      <td>11.28</td>\n",
       "      <td>9.14</td>\n",
       "      <td>6.50</td>\n",
       "      <td>2.88</td>\n",
       "      <td>89.0</td>\n",
       "      <td>8.5</td>\n",
       "      <td>E</td>\n",
       "      <td>высокая оценка</td>\n",
       "    </tr>\n",
       "    <tr>\n",
       "      <th>7</th>\n",
       "      <td>Wii Play</td>\n",
       "      <td>Wii</td>\n",
       "      <td>2006</td>\n",
       "      <td>misc</td>\n",
       "      <td>13.96</td>\n",
       "      <td>9.18</td>\n",
       "      <td>2.93</td>\n",
       "      <td>2.84</td>\n",
       "      <td>58.0</td>\n",
       "      <td>6.6</td>\n",
       "      <td>E</td>\n",
       "      <td>средняя оценка</td>\n",
       "    </tr>\n",
       "    <tr>\n",
       "      <th>...</th>\n",
       "      <td>...</td>\n",
       "      <td>...</td>\n",
       "      <td>...</td>\n",
       "      <td>...</td>\n",
       "      <td>...</td>\n",
       "      <td>...</td>\n",
       "      <td>...</td>\n",
       "      <td>...</td>\n",
       "      <td>...</td>\n",
       "      <td>...</td>\n",
       "      <td>...</td>\n",
       "      <td>...</td>\n",
       "    </tr>\n",
       "    <tr>\n",
       "      <th>16947</th>\n",
       "      <td>Men in Black II: Alien Escape</td>\n",
       "      <td>GC</td>\n",
       "      <td>2003</td>\n",
       "      <td>shooter</td>\n",
       "      <td>0.01</td>\n",
       "      <td>0.00</td>\n",
       "      <td>0.00</td>\n",
       "      <td>0.00</td>\n",
       "      <td>-1.0</td>\n",
       "      <td>-1.0</td>\n",
       "      <td>T</td>\n",
       "      <td>NaN</td>\n",
       "    </tr>\n",
       "    <tr>\n",
       "      <th>16949</th>\n",
       "      <td>Woody Woodpecker in Crazy Castle 5</td>\n",
       "      <td>GBA</td>\n",
       "      <td>2002</td>\n",
       "      <td>platform</td>\n",
       "      <td>0.01</td>\n",
       "      <td>0.00</td>\n",
       "      <td>0.00</td>\n",
       "      <td>0.00</td>\n",
       "      <td>-1.0</td>\n",
       "      <td>-1.0</td>\n",
       "      <td>RP</td>\n",
       "      <td>NaN</td>\n",
       "    </tr>\n",
       "    <tr>\n",
       "      <th>16950</th>\n",
       "      <td>SCORE International Baja 1000: The Official Game</td>\n",
       "      <td>PS2</td>\n",
       "      <td>2008</td>\n",
       "      <td>racing</td>\n",
       "      <td>0.00</td>\n",
       "      <td>0.00</td>\n",
       "      <td>0.00</td>\n",
       "      <td>0.00</td>\n",
       "      <td>-1.0</td>\n",
       "      <td>-1.0</td>\n",
       "      <td>RP</td>\n",
       "      <td>NaN</td>\n",
       "    </tr>\n",
       "    <tr>\n",
       "      <th>16952</th>\n",
       "      <td>LMA Manager 2007</td>\n",
       "      <td>X360</td>\n",
       "      <td>2006</td>\n",
       "      <td>sports</td>\n",
       "      <td>0.00</td>\n",
       "      <td>0.01</td>\n",
       "      <td>0.00</td>\n",
       "      <td>0.00</td>\n",
       "      <td>-1.0</td>\n",
       "      <td>-1.0</td>\n",
       "      <td>RP</td>\n",
       "      <td>NaN</td>\n",
       "    </tr>\n",
       "    <tr>\n",
       "      <th>16954</th>\n",
       "      <td>Spirits &amp; Spells</td>\n",
       "      <td>GBA</td>\n",
       "      <td>2003</td>\n",
       "      <td>platform</td>\n",
       "      <td>0.01</td>\n",
       "      <td>0.00</td>\n",
       "      <td>0.00</td>\n",
       "      <td>0.00</td>\n",
       "      <td>-1.0</td>\n",
       "      <td>-1.0</td>\n",
       "      <td>RP</td>\n",
       "      <td>NaN</td>\n",
       "    </tr>\n",
       "  </tbody>\n",
       "</table>\n",
       "<p>12980 rows × 12 columns</p>\n",
       "</div>"
      ],
      "text/plain": [
       "                                                   name platform  \\\n",
       "0                                            Wii Sports      Wii   \n",
       "2                                        Mario Kart Wii      Wii   \n",
       "3                                     Wii Sports Resort      Wii   \n",
       "6                                 New Super Mario Bros.       DS   \n",
       "7                                              Wii Play      Wii   \n",
       "...                                                 ...      ...   \n",
       "16947                     Men in Black II: Alien Escape       GC   \n",
       "16949                Woody Woodpecker in Crazy Castle 5      GBA   \n",
       "16950  SCORE International Baja 1000: The Official Game      PS2   \n",
       "16952                                  LMA Manager 2007     X360   \n",
       "16954                                  Spirits & Spells      GBA   \n",
       "\n",
       "       year_of_release     genre  na_sales  eu_sales  jp_sales  other_sales  \\\n",
       "0                 2006    sports     41.36     28.96      3.77         8.45   \n",
       "2                 2008    racing     15.68     12.76      3.79         3.29   \n",
       "3                 2009    sports     15.61     10.93      3.28         2.95   \n",
       "6                 2006  platform     11.28      9.14      6.50         2.88   \n",
       "7                 2006      misc     13.96      9.18      2.93         2.84   \n",
       "...                ...       ...       ...       ...       ...          ...   \n",
       "16947             2003   shooter      0.01      0.00      0.00         0.00   \n",
       "16949             2002  platform      0.01      0.00      0.00         0.00   \n",
       "16950             2008    racing      0.00      0.00      0.00         0.00   \n",
       "16952             2006    sports      0.00      0.01      0.00         0.00   \n",
       "16954             2003  platform      0.01      0.00      0.00         0.00   \n",
       "\n",
       "       critic_score  user_score rating user_score_group  \n",
       "0              76.0         8.0      E   высокая оценка  \n",
       "2              82.0         8.3      E   высокая оценка  \n",
       "3              80.0         8.0      E   высокая оценка  \n",
       "6              89.0         8.5      E   высокая оценка  \n",
       "7              58.0         6.6      E   средняя оценка  \n",
       "...             ...         ...    ...              ...  \n",
       "16947          -1.0        -1.0      T              NaN  \n",
       "16949          -1.0        -1.0     RP              NaN  \n",
       "16950          -1.0        -1.0     RP              NaN  \n",
       "16952          -1.0        -1.0     RP              NaN  \n",
       "16954          -1.0        -1.0     RP              NaN  \n",
       "\n",
       "[12980 rows x 12 columns]"
      ]
     },
     "metadata": {},
     "output_type": "display_data"
    }
   ],
   "source": [
    "# Разделяем все игры по оценкам пользователей user_score\n",
    "df_actual['user_score_group'] = pd.cut(df_actual['user_score'], bins=[0, 3, 8, 10], labels=[\"низкая оценка\", \"средняя оценка\", \"высокая оценка\"], right=False)\n",
    "display(df_actual)"
   ]
  },
  {
   "cell_type": "code",
   "execution_count": 60,
   "id": "e3f7acb0",
   "metadata": {
    "id": "e3f7acb0"
   },
   "outputs": [
    {
     "data": {
      "text/html": [
       "<div>\n",
       "<style scoped>\n",
       "    .dataframe tbody tr th:only-of-type {\n",
       "        vertical-align: middle;\n",
       "    }\n",
       "\n",
       "    .dataframe tbody tr th {\n",
       "        vertical-align: top;\n",
       "    }\n",
       "\n",
       "    .dataframe thead th {\n",
       "        text-align: right;\n",
       "    }\n",
       "</style>\n",
       "<table border=\"1\" class=\"dataframe\">\n",
       "  <thead>\n",
       "    <tr style=\"text-align: right;\">\n",
       "      <th></th>\n",
       "      <th>name</th>\n",
       "      <th>platform</th>\n",
       "      <th>year_of_release</th>\n",
       "      <th>genre</th>\n",
       "      <th>na_sales</th>\n",
       "      <th>eu_sales</th>\n",
       "      <th>jp_sales</th>\n",
       "      <th>other_sales</th>\n",
       "      <th>critic_score</th>\n",
       "      <th>user_score</th>\n",
       "      <th>rating</th>\n",
       "      <th>user_score_group</th>\n",
       "      <th>critic_score_group</th>\n",
       "    </tr>\n",
       "  </thead>\n",
       "  <tbody>\n",
       "    <tr>\n",
       "      <th>0</th>\n",
       "      <td>Wii Sports</td>\n",
       "      <td>Wii</td>\n",
       "      <td>2006</td>\n",
       "      <td>sports</td>\n",
       "      <td>41.36</td>\n",
       "      <td>28.96</td>\n",
       "      <td>3.77</td>\n",
       "      <td>8.45</td>\n",
       "      <td>76.0</td>\n",
       "      <td>8.0</td>\n",
       "      <td>E</td>\n",
       "      <td>высокая оценка</td>\n",
       "      <td>средняя оценка</td>\n",
       "    </tr>\n",
       "    <tr>\n",
       "      <th>2</th>\n",
       "      <td>Mario Kart Wii</td>\n",
       "      <td>Wii</td>\n",
       "      <td>2008</td>\n",
       "      <td>racing</td>\n",
       "      <td>15.68</td>\n",
       "      <td>12.76</td>\n",
       "      <td>3.79</td>\n",
       "      <td>3.29</td>\n",
       "      <td>82.0</td>\n",
       "      <td>8.3</td>\n",
       "      <td>E</td>\n",
       "      <td>высокая оценка</td>\n",
       "      <td>высокая оценка</td>\n",
       "    </tr>\n",
       "    <tr>\n",
       "      <th>3</th>\n",
       "      <td>Wii Sports Resort</td>\n",
       "      <td>Wii</td>\n",
       "      <td>2009</td>\n",
       "      <td>sports</td>\n",
       "      <td>15.61</td>\n",
       "      <td>10.93</td>\n",
       "      <td>3.28</td>\n",
       "      <td>2.95</td>\n",
       "      <td>80.0</td>\n",
       "      <td>8.0</td>\n",
       "      <td>E</td>\n",
       "      <td>высокая оценка</td>\n",
       "      <td>высокая оценка</td>\n",
       "    </tr>\n",
       "    <tr>\n",
       "      <th>6</th>\n",
       "      <td>New Super Mario Bros.</td>\n",
       "      <td>DS</td>\n",
       "      <td>2006</td>\n",
       "      <td>platform</td>\n",
       "      <td>11.28</td>\n",
       "      <td>9.14</td>\n",
       "      <td>6.50</td>\n",
       "      <td>2.88</td>\n",
       "      <td>89.0</td>\n",
       "      <td>8.5</td>\n",
       "      <td>E</td>\n",
       "      <td>высокая оценка</td>\n",
       "      <td>высокая оценка</td>\n",
       "    </tr>\n",
       "    <tr>\n",
       "      <th>7</th>\n",
       "      <td>Wii Play</td>\n",
       "      <td>Wii</td>\n",
       "      <td>2006</td>\n",
       "      <td>misc</td>\n",
       "      <td>13.96</td>\n",
       "      <td>9.18</td>\n",
       "      <td>2.93</td>\n",
       "      <td>2.84</td>\n",
       "      <td>58.0</td>\n",
       "      <td>6.6</td>\n",
       "      <td>E</td>\n",
       "      <td>средняя оценка</td>\n",
       "      <td>средняя оценка</td>\n",
       "    </tr>\n",
       "    <tr>\n",
       "      <th>...</th>\n",
       "      <td>...</td>\n",
       "      <td>...</td>\n",
       "      <td>...</td>\n",
       "      <td>...</td>\n",
       "      <td>...</td>\n",
       "      <td>...</td>\n",
       "      <td>...</td>\n",
       "      <td>...</td>\n",
       "      <td>...</td>\n",
       "      <td>...</td>\n",
       "      <td>...</td>\n",
       "      <td>...</td>\n",
       "      <td>...</td>\n",
       "    </tr>\n",
       "    <tr>\n",
       "      <th>16947</th>\n",
       "      <td>Men in Black II: Alien Escape</td>\n",
       "      <td>GC</td>\n",
       "      <td>2003</td>\n",
       "      <td>shooter</td>\n",
       "      <td>0.01</td>\n",
       "      <td>0.00</td>\n",
       "      <td>0.00</td>\n",
       "      <td>0.00</td>\n",
       "      <td>-1.0</td>\n",
       "      <td>-1.0</td>\n",
       "      <td>T</td>\n",
       "      <td>NaN</td>\n",
       "      <td>NaN</td>\n",
       "    </tr>\n",
       "    <tr>\n",
       "      <th>16949</th>\n",
       "      <td>Woody Woodpecker in Crazy Castle 5</td>\n",
       "      <td>GBA</td>\n",
       "      <td>2002</td>\n",
       "      <td>platform</td>\n",
       "      <td>0.01</td>\n",
       "      <td>0.00</td>\n",
       "      <td>0.00</td>\n",
       "      <td>0.00</td>\n",
       "      <td>-1.0</td>\n",
       "      <td>-1.0</td>\n",
       "      <td>RP</td>\n",
       "      <td>NaN</td>\n",
       "      <td>NaN</td>\n",
       "    </tr>\n",
       "    <tr>\n",
       "      <th>16950</th>\n",
       "      <td>SCORE International Baja 1000: The Official Game</td>\n",
       "      <td>PS2</td>\n",
       "      <td>2008</td>\n",
       "      <td>racing</td>\n",
       "      <td>0.00</td>\n",
       "      <td>0.00</td>\n",
       "      <td>0.00</td>\n",
       "      <td>0.00</td>\n",
       "      <td>-1.0</td>\n",
       "      <td>-1.0</td>\n",
       "      <td>RP</td>\n",
       "      <td>NaN</td>\n",
       "      <td>NaN</td>\n",
       "    </tr>\n",
       "    <tr>\n",
       "      <th>16952</th>\n",
       "      <td>LMA Manager 2007</td>\n",
       "      <td>X360</td>\n",
       "      <td>2006</td>\n",
       "      <td>sports</td>\n",
       "      <td>0.00</td>\n",
       "      <td>0.01</td>\n",
       "      <td>0.00</td>\n",
       "      <td>0.00</td>\n",
       "      <td>-1.0</td>\n",
       "      <td>-1.0</td>\n",
       "      <td>RP</td>\n",
       "      <td>NaN</td>\n",
       "      <td>NaN</td>\n",
       "    </tr>\n",
       "    <tr>\n",
       "      <th>16954</th>\n",
       "      <td>Spirits &amp; Spells</td>\n",
       "      <td>GBA</td>\n",
       "      <td>2003</td>\n",
       "      <td>platform</td>\n",
       "      <td>0.01</td>\n",
       "      <td>0.00</td>\n",
       "      <td>0.00</td>\n",
       "      <td>0.00</td>\n",
       "      <td>-1.0</td>\n",
       "      <td>-1.0</td>\n",
       "      <td>RP</td>\n",
       "      <td>NaN</td>\n",
       "      <td>NaN</td>\n",
       "    </tr>\n",
       "  </tbody>\n",
       "</table>\n",
       "<p>12980 rows × 13 columns</p>\n",
       "</div>"
      ],
      "text/plain": [
       "                                                   name platform  \\\n",
       "0                                            Wii Sports      Wii   \n",
       "2                                        Mario Kart Wii      Wii   \n",
       "3                                     Wii Sports Resort      Wii   \n",
       "6                                 New Super Mario Bros.       DS   \n",
       "7                                              Wii Play      Wii   \n",
       "...                                                 ...      ...   \n",
       "16947                     Men in Black II: Alien Escape       GC   \n",
       "16949                Woody Woodpecker in Crazy Castle 5      GBA   \n",
       "16950  SCORE International Baja 1000: The Official Game      PS2   \n",
       "16952                                  LMA Manager 2007     X360   \n",
       "16954                                  Spirits & Spells      GBA   \n",
       "\n",
       "       year_of_release     genre  na_sales  eu_sales  jp_sales  other_sales  \\\n",
       "0                 2006    sports     41.36     28.96      3.77         8.45   \n",
       "2                 2008    racing     15.68     12.76      3.79         3.29   \n",
       "3                 2009    sports     15.61     10.93      3.28         2.95   \n",
       "6                 2006  platform     11.28      9.14      6.50         2.88   \n",
       "7                 2006      misc     13.96      9.18      2.93         2.84   \n",
       "...                ...       ...       ...       ...       ...          ...   \n",
       "16947             2003   shooter      0.01      0.00      0.00         0.00   \n",
       "16949             2002  platform      0.01      0.00      0.00         0.00   \n",
       "16950             2008    racing      0.00      0.00      0.00         0.00   \n",
       "16952             2006    sports      0.00      0.01      0.00         0.00   \n",
       "16954             2003  platform      0.01      0.00      0.00         0.00   \n",
       "\n",
       "       critic_score  user_score rating user_score_group critic_score_group  \n",
       "0              76.0         8.0      E   высокая оценка     средняя оценка  \n",
       "2              82.0         8.3      E   высокая оценка     высокая оценка  \n",
       "3              80.0         8.0      E   высокая оценка     высокая оценка  \n",
       "6              89.0         8.5      E   высокая оценка     высокая оценка  \n",
       "7              58.0         6.6      E   средняя оценка     средняя оценка  \n",
       "...             ...         ...    ...              ...                ...  \n",
       "16947          -1.0        -1.0      T              NaN                NaN  \n",
       "16949          -1.0        -1.0     RP              NaN                NaN  \n",
       "16950          -1.0        -1.0     RP              NaN                NaN  \n",
       "16952          -1.0        -1.0     RP              NaN                NaN  \n",
       "16954          -1.0        -1.0     RP              NaN                NaN  \n",
       "\n",
       "[12980 rows x 13 columns]"
      ]
     },
     "metadata": {},
     "output_type": "display_data"
    }
   ],
   "source": [
    "# Разделяем все игры по оценкам пользователей critic_score\n",
    "df_actual['critic_score_group'] = pd.cut(df_actual['critic_score'], bins=[0, 30, 80, 100], labels=[\"низкая оценка\", \"средняя оценка\", \"высокая оценка\"], right=False)\n",
    "display(df_actual)"
   ]
  },
  {
   "cell_type": "code",
   "execution_count": 61,
   "id": "HW0Nsp-4UMSL",
   "metadata": {
    "id": "HW0Nsp-4UMSL"
   },
   "outputs": [
    {
     "data": {
      "text/html": [
       "<div>\n",
       "<style scoped>\n",
       "    .dataframe tbody tr th:only-of-type {\n",
       "        vertical-align: middle;\n",
       "    }\n",
       "\n",
       "    .dataframe tbody tr th {\n",
       "        vertical-align: top;\n",
       "    }\n",
       "\n",
       "    .dataframe thead th {\n",
       "        text-align: right;\n",
       "    }\n",
       "</style>\n",
       "<table border=\"1\" class=\"dataframe\">\n",
       "  <thead>\n",
       "    <tr style=\"text-align: right;\">\n",
       "      <th></th>\n",
       "      <th>user_score_group</th>\n",
       "      <th>user_score</th>\n",
       "    </tr>\n",
       "  </thead>\n",
       "  <tbody>\n",
       "    <tr>\n",
       "      <th>0</th>\n",
       "      <td>низкая оценка</td>\n",
       "      <td>117</td>\n",
       "    </tr>\n",
       "    <tr>\n",
       "      <th>1</th>\n",
       "      <td>средняя оценка</td>\n",
       "      <td>4148</td>\n",
       "    </tr>\n",
       "    <tr>\n",
       "      <th>2</th>\n",
       "      <td>высокая оценка</td>\n",
       "      <td>2307</td>\n",
       "    </tr>\n",
       "  </tbody>\n",
       "</table>\n",
       "</div>"
      ],
      "text/plain": [
       "  user_score_group  user_score\n",
       "0    низкая оценка         117\n",
       "1   средняя оценка        4148\n",
       "2   высокая оценка        2307"
      ]
     },
     "metadata": {},
     "output_type": "display_data"
    }
   ],
   "source": [
    "# Считаем количество игр для категории user_score\n",
    "groupby_count_user = df_actual.groupby('user_score_group', observed=True)['user_score'].count().reset_index()\n",
    "display(groupby_count_user)"
   ]
  },
  {
   "cell_type": "code",
   "execution_count": 62,
   "id": "x2ne0HIpUMMD",
   "metadata": {
    "id": "x2ne0HIpUMMD"
   },
   "outputs": [
    {
     "data": {
      "text/html": [
       "<div>\n",
       "<style scoped>\n",
       "    .dataframe tbody tr th:only-of-type {\n",
       "        vertical-align: middle;\n",
       "    }\n",
       "\n",
       "    .dataframe tbody tr th {\n",
       "        vertical-align: top;\n",
       "    }\n",
       "\n",
       "    .dataframe thead th {\n",
       "        text-align: right;\n",
       "    }\n",
       "</style>\n",
       "<table border=\"1\" class=\"dataframe\">\n",
       "  <thead>\n",
       "    <tr style=\"text-align: right;\">\n",
       "      <th></th>\n",
       "      <th>critic_score_group</th>\n",
       "      <th>critic_score</th>\n",
       "    </tr>\n",
       "  </thead>\n",
       "  <tbody>\n",
       "    <tr>\n",
       "      <th>0</th>\n",
       "      <td>низкая оценка</td>\n",
       "      <td>55</td>\n",
       "    </tr>\n",
       "    <tr>\n",
       "      <th>1</th>\n",
       "      <td>средняя оценка</td>\n",
       "      <td>5500</td>\n",
       "    </tr>\n",
       "    <tr>\n",
       "      <th>2</th>\n",
       "      <td>высокая оценка</td>\n",
       "      <td>1712</td>\n",
       "    </tr>\n",
       "  </tbody>\n",
       "</table>\n",
       "</div>"
      ],
      "text/plain": [
       "  critic_score_group  critic_score\n",
       "0      низкая оценка            55\n",
       "1     средняя оценка          5500\n",
       "2     высокая оценка          1712"
      ]
     },
     "metadata": {},
     "output_type": "display_data"
    }
   ],
   "source": [
    "# Считаем количество игр для категории critic_score\n",
    "groupby_count_critic = df_actual.groupby('critic_score_group', observed=True)['critic_score'].count().reset_index()\n",
    "display(groupby_count_critic)"
   ]
  },
  {
   "cell_type": "code",
   "execution_count": 63,
   "id": "003caa2c",
   "metadata": {
    "id": "003caa2c"
   },
   "outputs": [
    {
     "data": {
      "text/plain": [
       "'Топ-7 платформ по количеству игр:'"
      ]
     },
     "metadata": {},
     "output_type": "display_data"
    },
    {
     "data": {
      "text/html": [
       "<div>\n",
       "<style scoped>\n",
       "    .dataframe tbody tr th:only-of-type {\n",
       "        vertical-align: middle;\n",
       "    }\n",
       "\n",
       "    .dataframe tbody tr th {\n",
       "        vertical-align: top;\n",
       "    }\n",
       "\n",
       "    .dataframe thead th {\n",
       "        text-align: right;\n",
       "    }\n",
       "</style>\n",
       "<table border=\"1\" class=\"dataframe\">\n",
       "  <thead>\n",
       "    <tr style=\"text-align: right;\">\n",
       "      <th></th>\n",
       "      <th>platform</th>\n",
       "      <th>name</th>\n",
       "    </tr>\n",
       "  </thead>\n",
       "  <tbody>\n",
       "    <tr>\n",
       "      <th>9</th>\n",
       "      <td>PS2</td>\n",
       "      <td>2154</td>\n",
       "    </tr>\n",
       "    <tr>\n",
       "      <th>2</th>\n",
       "      <td>DS</td>\n",
       "      <td>2146</td>\n",
       "    </tr>\n",
       "    <tr>\n",
       "      <th>15</th>\n",
       "      <td>Wii</td>\n",
       "      <td>1294</td>\n",
       "    </tr>\n",
       "    <tr>\n",
       "      <th>12</th>\n",
       "      <td>PSP</td>\n",
       "      <td>1199</td>\n",
       "    </tr>\n",
       "    <tr>\n",
       "      <th>17</th>\n",
       "      <td>X360</td>\n",
       "      <td>1138</td>\n",
       "    </tr>\n",
       "    <tr>\n",
       "      <th>10</th>\n",
       "      <td>PS3</td>\n",
       "      <td>1107</td>\n",
       "    </tr>\n",
       "    <tr>\n",
       "      <th>4</th>\n",
       "      <td>GBA</td>\n",
       "      <td>826</td>\n",
       "    </tr>\n",
       "  </tbody>\n",
       "</table>\n",
       "</div>"
      ],
      "text/plain": [
       "   platform  name\n",
       "9       PS2  2154\n",
       "2        DS  2146\n",
       "15      Wii  1294\n",
       "12      PSP  1199\n",
       "17     X360  1138\n",
       "10      PS3  1107\n",
       "4       GBA   826"
      ]
     },
     "metadata": {},
     "output_type": "display_data"
    }
   ],
   "source": [
    "# Выводим топ 7 платформ ко количеству игр за период 2000 по 2013г.\n",
    "top7_platforms = df_actual.groupby('platform')['name'].count().reset_index().sort_values(by='name',ascending=False).head(7)\n",
    "display('Топ-7 платформ по количеству игр:')\n",
    "display(top7_platforms)"
   ]
  },
  {
   "cell_type": "markdown",
   "id": "c0158881",
   "metadata": {
    "id": "c0158881"
   },
   "source": [
    "---\n",
    "\n",
    "## 5. Итоговый вывод\n"
   ]
  },
  {
   "cell_type": "markdown",
   "id": "f204b00f",
   "metadata": {
    "id": "20175f5b"
   },
   "source": [
    "В ходе предобработки данных была проделана значительная работа по очистке, структурированию и подготовке данных для дальнейшего анализа. Основные этапы работы включали:\n",
    "\n",
    "1. **Обработка названий столбцов**:\n",
    "   - Названия столбцов были приведены к нижнему регистру для удобства работы.\n",
    "   - Пропуски в данных были обработаны: удалены или заполнены.\n",
    "\n",
    "2. **Корректировка типов данных**:\n",
    "   - Типы данных были проверены и изменены при необходимости.\n",
    "   - Для столбцов с возможными строковыми значениями был применен цикл для корректного изменения типов данных.\n",
    "\n",
    "3. **Обработка пропусков**:\n",
    "   - Пропуски в столбце `year_of_release` были заполнены значением `-1`.\n",
    "   - Пропуски в столбцах с продажами (`eu_sales`, `jp_sales`) были заполнены средними значениями по группе платформы и года.\n",
    "   - Пропуски в столбце с рейтингом (`rating`) были заполнены значением `'RP'` (Rating Pending).\n",
    "\n",
    "4. **Анализ пропусков**:\n",
    "   - Были выведены количество и процент пропусков по каждому столбцу.\n",
    "   - Пропуски в числовых столбцах были заполнены средними значениями.\n",
    "\n",
    "5. **Обработка дубликатов**:\n",
    "   - Были выведены все уникальные значения и их количество.\n",
    "   - Столбец `genre` был приведен к нижнему регистру, а столбец `rating` — к верхнему для устранения неявных дубликатов.\n",
    "   - Были найдены и удалены дубликаты по ключевым полям. Количество строк уменьшилось с 16 956 до 16 715 (на 241 строку).\n",
    "\n",
    "6. **Фильтрация данных**:\n",
    "   - Был установлен фильтр на период с 2000 по 2013 год включительно.\n",
    "   - Создан новый срез данных, содержащий 12 980 записей, который был использован для дальнейшего анализа.\n",
    "\n",
    "7. **Категоризация данных**:\n",
    "   - Игры были разделены по оценкам пользователей (`user_score`) и критиков (`critic_score`) на три категории: низкая, средняя и высокая оценка.\n",
    "   - Для `user_score`:\n",
    "     - Низкая оценка: 133 игры.\n",
    "     - Средняя оценка: 10 794 игры.\n",
    "     - Высокая оценка: 2 052 игры.\n",
    "   - Для `critic_score`:\n",
    "     - Низкая оценка: 67 игр.\n",
    "     - Средняя оценка: 11 407 игр.\n",
    "     - Высокая оценка: 1 506 игр.\n",
    "\n",
    "8. **Анализ платформ**:\n",
    "   - Был выведен топ-7 платформ по количеству игр за период с 2000 по 2013 год:\n",
    "     - PS2: 2 154 игры.\n",
    "     - DS: 2 146 игр.\n",
    "     - Wii: 1 294 игры.\n",
    "     - PSP: 1 199 игр.\n",
    "     - X360: 1 138 игр.\n",
    "     - PS3: 1 107 игр.\n",
    "     - GBA: 826 игр."
   ]
  },
  {
   "cell_type": "markdown",
   "id": "bae33628",
   "metadata": {
    "id": "0c1afc40"
   },
   "source": [
    "**Описание среза данных и новых полей**\n",
    "\n",
    "- Срез данных: В результате фильтрации был создан новый датафрейм, содержащий данные за период с 2000 по 2013 год. Этот срез включает 12 980 записей и 11 столбцов:\n",
    "  - `name`: Название игры.\n",
    "  - `platform`: Платформа.\n",
    "  - `year_of_release`: Год выпуска.\n",
    "  - `genre`: Жанр игры.\n",
    "  - `na_sales`: Продажи в Северной Америке.\n",
    "  - `eu_sales`: Продажи в Европе.\n",
    "  - `jp_sales`: Продажи в Японии.\n",
    "  - `other_sales`: Продажи в других регионах.\n",
    "  - `critic_score`: Оценка критиков.\n",
    "  - `user_score`: Оценка пользователей.\n",
    "  - `rating`: Рейтинг игры.\n",
    "\n",
    "- Новые поля: В процессе категоризации были добавлены категории для оценок пользователей и критиков:\n",
    "  - `user_score_category`: Категория оценки пользователей (низкая, средняя, высокая).\n",
    "  - `critic_score_category`: Категория оценки критиков (низкая, средняя, высокая)."
   ]
  }
 ],
 "metadata": {
  "ExecuteTimeLog": [
   {
    "duration": 422,
    "start_time": "2025-02-21T08:47:10.887Z"
   },
   {
    "duration": 2,
    "start_time": "2025-02-21T08:47:36.296Z"
   },
   {
    "duration": 82,
    "start_time": "2025-02-21T08:50:43.704Z"
   },
   {
    "duration": 3,
    "start_time": "2025-02-21T08:50:50.700Z"
   },
   {
    "duration": 155,
    "start_time": "2025-02-21T08:50:51.685Z"
   },
   {
    "duration": 103,
    "start_time": "2025-02-21T08:52:08.674Z"
   },
   {
    "duration": 84,
    "start_time": "2025-02-21T08:52:11.998Z"
   },
   {
    "duration": 24,
    "start_time": "2025-02-21T08:52:28.953Z"
   },
   {
    "duration": 19,
    "start_time": "2025-02-21T08:52:41.037Z"
   },
   {
    "duration": 16,
    "start_time": "2025-02-21T08:56:36.201Z"
   },
   {
    "duration": 11,
    "start_time": "2025-02-21T08:57:10.855Z"
   },
   {
    "duration": 19,
    "start_time": "2025-02-21T08:57:16.559Z"
   },
   {
    "duration": 15,
    "start_time": "2025-02-21T08:57:36.968Z"
   },
   {
    "duration": 14,
    "start_time": "2025-02-21T10:28:21.831Z"
   },
   {
    "duration": 15,
    "start_time": "2025-02-21T10:28:27.983Z"
   },
   {
    "duration": 2,
    "start_time": "2025-02-21T10:44:50.671Z"
   },
   {
    "duration": 106,
    "start_time": "2025-02-21T10:44:51.326Z"
   },
   {
    "duration": 13,
    "start_time": "2025-02-21T10:44:52.898Z"
   },
   {
    "duration": 15,
    "start_time": "2025-02-21T10:44:57.275Z"
   },
   {
    "duration": 3,
    "start_time": "2025-02-21T11:32:19.087Z"
   },
   {
    "duration": 104,
    "start_time": "2025-02-21T11:32:20.241Z"
   },
   {
    "duration": 16,
    "start_time": "2025-02-21T11:32:21.237Z"
   },
   {
    "duration": 17,
    "start_time": "2025-02-21T11:32:22.004Z"
   },
   {
    "duration": 7,
    "start_time": "2025-02-21T11:40:09.506Z"
   },
   {
    "duration": 4,
    "start_time": "2025-02-21T11:40:54.650Z"
   },
   {
    "duration": 4,
    "start_time": "2025-02-21T11:45:51.896Z"
   },
   {
    "duration": 7,
    "start_time": "2025-02-21T11:46:16.829Z"
   },
   {
    "duration": 5,
    "start_time": "2025-02-21T11:46:21.393Z"
   },
   {
    "duration": 7,
    "start_time": "2025-02-21T11:47:29.279Z"
   },
   {
    "duration": 8,
    "start_time": "2025-02-21T11:47:49.488Z"
   },
   {
    "duration": 8,
    "start_time": "2025-02-21T11:48:01.394Z"
   },
   {
    "duration": 8,
    "start_time": "2025-02-21T11:48:07.389Z"
   },
   {
    "duration": 4,
    "start_time": "2025-02-21T11:48:14.995Z"
   },
   {
    "duration": 9,
    "start_time": "2025-02-21T11:48:15.827Z"
   },
   {
    "duration": 4,
    "start_time": "2025-02-21T11:48:57.266Z"
   },
   {
    "duration": 2,
    "start_time": "2025-02-21T11:54:40.493Z"
   },
   {
    "duration": 3,
    "start_time": "2025-02-21T11:55:00.483Z"
   },
   {
    "duration": 3,
    "start_time": "2025-02-21T11:55:19.193Z"
   },
   {
    "duration": 4,
    "start_time": "2025-02-21T11:55:24.013Z"
   },
   {
    "duration": 4,
    "start_time": "2025-02-21T11:55:50.903Z"
   },
   {
    "duration": 3,
    "start_time": "2025-02-21T11:55:51.807Z"
   },
   {
    "duration": 4,
    "start_time": "2025-02-21T11:55:52.384Z"
   },
   {
    "duration": 21,
    "start_time": "2025-02-21T12:00:25.310Z"
   },
   {
    "duration": 11,
    "start_time": "2025-02-21T12:00:56.724Z"
   },
   {
    "duration": 5,
    "start_time": "2025-02-21T12:04:25.665Z"
   },
   {
    "duration": 3,
    "start_time": "2025-02-21T12:04:26.205Z"
   },
   {
    "duration": 5,
    "start_time": "2025-02-21T12:04:26.772Z"
   },
   {
    "duration": 7,
    "start_time": "2025-02-21T12:05:50.754Z"
   },
   {
    "duration": 6,
    "start_time": "2025-02-21T12:06:01.782Z"
   },
   {
    "duration": 3,
    "start_time": "2025-02-21T12:06:20.042Z"
   },
   {
    "duration": 11,
    "start_time": "2025-02-21T12:06:22.766Z"
   },
   {
    "duration": 5,
    "start_time": "2025-02-21T12:07:47.180Z"
   },
   {
    "duration": 5,
    "start_time": "2025-02-21T12:07:55.619Z"
   },
   {
    "duration": 7,
    "start_time": "2025-02-21T12:08:00.489Z"
   },
   {
    "duration": 4,
    "start_time": "2025-02-21T12:08:34.671Z"
   },
   {
    "duration": 396,
    "start_time": "2025-02-21T12:08:35.371Z"
   },
   {
    "duration": 94,
    "start_time": "2025-02-21T12:08:36.514Z"
   },
   {
    "duration": 21,
    "start_time": "2025-02-21T12:08:38.958Z"
   },
   {
    "duration": 16,
    "start_time": "2025-02-21T12:08:40.828Z"
   },
   {
    "duration": 4,
    "start_time": "2025-02-21T12:08:48.166Z"
   },
   {
    "duration": 3,
    "start_time": "2025-02-21T12:08:50.072Z"
   },
   {
    "duration": 4,
    "start_time": "2025-02-21T12:08:50.748Z"
   },
   {
    "duration": 10,
    "start_time": "2025-02-21T12:09:07.775Z"
   },
   {
    "duration": 14,
    "start_time": "2025-02-21T12:09:47.463Z"
   },
   {
    "duration": 720,
    "start_time": "2025-02-21T12:14:14.698Z"
   },
   {
    "duration": 15,
    "start_time": "2025-02-21T12:16:27.532Z"
   },
   {
    "duration": 7,
    "start_time": "2025-02-21T12:17:20.909Z"
   },
   {
    "duration": 7,
    "start_time": "2025-02-21T12:17:33.806Z"
   },
   {
    "duration": 3,
    "start_time": "2025-02-21T12:24:49.927Z"
   },
   {
    "duration": 24,
    "start_time": "2025-02-21T12:25:04.549Z"
   },
   {
    "duration": 12,
    "start_time": "2025-02-21T12:25:22.053Z"
   },
   {
    "duration": 4,
    "start_time": "2025-02-21T12:25:54.846Z"
   },
   {
    "duration": 5,
    "start_time": "2025-02-21T12:27:21.468Z"
   },
   {
    "duration": 8,
    "start_time": "2025-02-21T12:28:31.353Z"
   },
   {
    "duration": 14,
    "start_time": "2025-02-21T12:30:12.908Z"
   },
   {
    "duration": 17,
    "start_time": "2025-02-21T12:31:06.476Z"
   },
   {
    "duration": 23,
    "start_time": "2025-02-21T12:35:21.009Z"
   },
   {
    "duration": 12,
    "start_time": "2025-02-21T12:35:32.213Z"
   },
   {
    "duration": 14,
    "start_time": "2025-02-21T12:38:37.439Z"
   },
   {
    "duration": 13,
    "start_time": "2025-02-21T12:53:02.692Z"
   },
   {
    "duration": 7,
    "start_time": "2025-02-21T12:53:11.419Z"
   },
   {
    "duration": 3,
    "start_time": "2025-02-21T12:53:28.526Z"
   },
   {
    "duration": 387,
    "start_time": "2025-02-21T12:53:29.421Z"
   },
   {
    "duration": 122,
    "start_time": "2025-02-21T12:53:29.993Z"
   },
   {
    "duration": 24,
    "start_time": "2025-02-21T12:53:31.498Z"
   },
   {
    "duration": 17,
    "start_time": "2025-02-21T12:53:36.265Z"
   },
   {
    "duration": 5,
    "start_time": "2025-02-21T12:53:48.326Z"
   },
   {
    "duration": 3,
    "start_time": "2025-02-21T12:53:50.018Z"
   },
   {
    "duration": 4,
    "start_time": "2025-02-21T12:53:53.047Z"
   },
   {
    "duration": 11,
    "start_time": "2025-02-21T12:53:55.731Z"
   },
   {
    "duration": 3,
    "start_time": "2025-02-21T12:53:58.123Z"
   },
   {
    "duration": 4,
    "start_time": "2025-02-21T12:54:00.255Z"
   },
   {
    "duration": 3,
    "start_time": "2025-02-21T12:54:07.717Z"
   },
   {
    "duration": 3,
    "start_time": "2025-02-21T12:54:08.303Z"
   },
   {
    "duration": 701,
    "start_time": "2025-02-21T17:00:04.937Z"
   },
   {
    "duration": 11,
    "start_time": "2025-02-21T17:00:09.945Z"
   },
   {
    "duration": 637,
    "start_time": "2025-02-21T17:00:11.327Z"
   },
   {
    "duration": 6,
    "start_time": "2025-02-21T17:01:44.859Z"
   },
   {
    "duration": 398,
    "start_time": "2025-02-21T17:01:45.382Z"
   },
   {
    "duration": 152,
    "start_time": "2025-02-21T17:01:46.005Z"
   },
   {
    "duration": 24,
    "start_time": "2025-02-21T17:01:48.760Z"
   },
   {
    "duration": 16,
    "start_time": "2025-02-21T17:01:49.671Z"
   },
   {
    "duration": 4,
    "start_time": "2025-02-21T17:01:54.447Z"
   },
   {
    "duration": 4,
    "start_time": "2025-02-21T17:01:55.193Z"
   },
   {
    "duration": 4,
    "start_time": "2025-02-21T17:01:56.570Z"
   },
   {
    "duration": 15,
    "start_time": "2025-02-21T17:01:59.719Z"
   },
   {
    "duration": 733,
    "start_time": "2025-02-21T17:02:01.117Z"
   },
   {
    "duration": 18,
    "start_time": "2025-02-21T17:05:55.666Z"
   },
   {
    "duration": 16,
    "start_time": "2025-02-21T17:06:10.108Z"
   },
   {
    "duration": 430,
    "start_time": "2025-02-21T17:08:49.348Z"
   },
   {
    "duration": 4,
    "start_time": "2025-02-21T17:08:56.201Z"
   },
   {
    "duration": 442,
    "start_time": "2025-02-21T17:08:56.852Z"
   },
   {
    "duration": 249,
    "start_time": "2025-02-21T17:08:58.821Z"
   },
   {
    "duration": 20,
    "start_time": "2025-02-21T17:09:00.591Z"
   },
   {
    "duration": 16,
    "start_time": "2025-02-21T17:09:01.414Z"
   },
   {
    "duration": 6,
    "start_time": "2025-02-21T17:09:05.207Z"
   },
   {
    "duration": 4,
    "start_time": "2025-02-21T17:09:06.123Z"
   },
   {
    "duration": 4,
    "start_time": "2025-02-21T17:09:07.240Z"
   },
   {
    "duration": 6,
    "start_time": "2025-02-21T17:09:10.660Z"
   },
   {
    "duration": 4,
    "start_time": "2025-02-21T17:09:11.553Z"
   },
   {
    "duration": 17,
    "start_time": "2025-02-21T17:09:12.822Z"
   },
   {
    "duration": 16,
    "start_time": "2025-02-21T17:09:13.689Z"
   },
   {
    "duration": 11,
    "start_time": "2025-02-21T17:13:49.412Z"
   },
   {
    "duration": 13,
    "start_time": "2025-02-21T17:16:01.587Z"
   },
   {
    "duration": 10,
    "start_time": "2025-02-21T17:17:14.688Z"
   },
   {
    "duration": 11,
    "start_time": "2025-02-21T17:17:31.821Z"
   },
   {
    "duration": 81,
    "start_time": "2025-02-21T17:22:52.085Z"
   },
   {
    "duration": 4,
    "start_time": "2025-02-21T17:22:59.255Z"
   },
   {
    "duration": 4,
    "start_time": "2025-02-21T17:23:00.677Z"
   },
   {
    "duration": 5,
    "start_time": "2025-02-21T17:23:01.168Z"
   },
   {
    "duration": 14,
    "start_time": "2025-02-21T17:23:02.035Z"
   },
   {
    "duration": 11,
    "start_time": "2025-02-21T17:25:44.049Z"
   },
   {
    "duration": 11,
    "start_time": "2025-02-21T17:25:44.975Z"
   },
   {
    "duration": 76,
    "start_time": "2025-02-21T17:50:15.288Z"
   },
   {
    "duration": 71,
    "start_time": "2025-02-21T17:50:57.451Z"
   },
   {
    "duration": 3,
    "start_time": "2025-02-21T18:39:47.926Z"
   },
   {
    "duration": 401,
    "start_time": "2025-02-21T18:39:53.333Z"
   },
   {
    "duration": 175,
    "start_time": "2025-02-21T18:39:54.517Z"
   },
   {
    "duration": 20,
    "start_time": "2025-02-21T18:40:04.613Z"
   },
   {
    "duration": 18,
    "start_time": "2025-02-21T18:40:31.617Z"
   },
   {
    "duration": 4,
    "start_time": "2025-02-21T18:40:42.331Z"
   },
   {
    "duration": 4,
    "start_time": "2025-02-21T18:40:43.278Z"
   },
   {
    "duration": 4,
    "start_time": "2025-02-21T18:40:43.884Z"
   },
   {
    "duration": 4,
    "start_time": "2025-02-21T18:40:47.848Z"
   },
   {
    "duration": 4,
    "start_time": "2025-02-21T18:40:48.208Z"
   },
   {
    "duration": 18,
    "start_time": "2025-02-21T18:40:58.689Z"
   },
   {
    "duration": 15,
    "start_time": "2025-02-21T18:40:59.895Z"
   },
   {
    "duration": 13,
    "start_time": "2025-02-21T18:41:04.078Z"
   },
   {
    "duration": 12,
    "start_time": "2025-02-21T18:41:05.282Z"
   },
   {
    "duration": 53,
    "start_time": "2025-02-22T13:39:28.140Z"
   },
   {
    "duration": 3,
    "start_time": "2025-02-22T13:39:43.935Z"
   },
   {
    "duration": 4,
    "start_time": "2025-02-22T13:39:50.365Z"
   },
   {
    "duration": 474,
    "start_time": "2025-02-22T13:39:50.759Z"
   },
   {
    "duration": 166,
    "start_time": "2025-02-22T13:39:51.236Z"
   },
   {
    "duration": 23,
    "start_time": "2025-02-22T13:39:52.092Z"
   },
   {
    "duration": 18,
    "start_time": "2025-02-22T13:39:52.548Z"
   },
   {
    "duration": 4,
    "start_time": "2025-02-22T13:39:54.642Z"
   },
   {
    "duration": 3,
    "start_time": "2025-02-22T13:39:54.891Z"
   },
   {
    "duration": 5,
    "start_time": "2025-02-22T13:39:55.158Z"
   },
   {
    "duration": 4,
    "start_time": "2025-02-22T13:39:55.810Z"
   },
   {
    "duration": 5,
    "start_time": "2025-02-22T13:39:56.111Z"
   },
   {
    "duration": 20,
    "start_time": "2025-02-22T13:39:56.391Z"
   },
   {
    "duration": 16,
    "start_time": "2025-02-22T13:39:56.784Z"
   },
   {
    "duration": 10,
    "start_time": "2025-02-22T13:39:58.346Z"
   },
   {
    "duration": 13,
    "start_time": "2025-02-22T13:39:58.923Z"
   },
   {
    "duration": 22,
    "start_time": "2025-02-22T13:40:02.559Z"
   },
   {
    "duration": 6,
    "start_time": "2025-02-22T13:43:51.196Z"
   },
   {
    "duration": 7,
    "start_time": "2025-02-22T13:43:59.125Z"
   },
   {
    "duration": 22,
    "start_time": "2025-02-22T13:44:25.226Z"
   },
   {
    "duration": 15,
    "start_time": "2025-02-22T14:03:31.666Z"
   },
   {
    "duration": 15,
    "start_time": "2025-02-22T14:13:09.175Z"
   },
   {
    "duration": 10,
    "start_time": "2025-02-22T14:13:24.329Z"
   },
   {
    "duration": 16,
    "start_time": "2025-02-22T14:15:32.321Z"
   },
   {
    "duration": 5,
    "start_time": "2025-02-22T14:15:46.066Z"
   },
   {
    "duration": 16,
    "start_time": "2025-02-22T14:15:56.706Z"
   },
   {
    "duration": 11,
    "start_time": "2025-02-22T14:16:58.448Z"
   },
   {
    "duration": 4,
    "start_time": "2025-02-22T14:17:41.579Z"
   },
   {
    "duration": 4,
    "start_time": "2025-02-22T14:18:05.160Z"
   },
   {
    "duration": 11,
    "start_time": "2025-02-22T14:18:22.890Z"
   },
   {
    "duration": 83,
    "start_time": "2025-02-22T14:19:09.536Z"
   },
   {
    "duration": 11,
    "start_time": "2025-02-22T14:19:34.523Z"
   },
   {
    "duration": 16,
    "start_time": "2025-02-22T14:19:51.898Z"
   },
   {
    "duration": 22,
    "start_time": "2025-02-22T14:25:09.319Z"
   },
   {
    "duration": 11,
    "start_time": "2025-02-22T14:38:28.269Z"
   },
   {
    "duration": 3,
    "start_time": "2025-02-22T14:38:52.364Z"
   },
   {
    "duration": 413,
    "start_time": "2025-02-22T14:38:52.605Z"
   },
   {
    "duration": 346,
    "start_time": "2025-02-22T14:38:53.020Z"
   },
   {
    "duration": 24,
    "start_time": "2025-02-22T14:38:53.368Z"
   },
   {
    "duration": 18,
    "start_time": "2025-02-22T14:38:53.394Z"
   },
   {
    "duration": 4,
    "start_time": "2025-02-22T14:38:54.363Z"
   },
   {
    "duration": 3,
    "start_time": "2025-02-22T14:38:54.831Z"
   },
   {
    "duration": 4,
    "start_time": "2025-02-22T14:38:55.400Z"
   },
   {
    "duration": 4,
    "start_time": "2025-02-22T14:38:56.291Z"
   },
   {
    "duration": 5,
    "start_time": "2025-02-22T14:38:56.651Z"
   },
   {
    "duration": 23,
    "start_time": "2025-02-22T14:38:57.003Z"
   },
   {
    "duration": 17,
    "start_time": "2025-02-22T14:38:57.570Z"
   },
   {
    "duration": 11,
    "start_time": "2025-02-22T14:38:59.138Z"
   },
   {
    "duration": 14,
    "start_time": "2025-02-22T14:38:59.993Z"
   },
   {
    "duration": 6,
    "start_time": "2025-02-22T14:39:03.736Z"
   },
   {
    "duration": 4,
    "start_time": "2025-02-22T14:39:04.554Z"
   },
   {
    "duration": 79,
    "start_time": "2025-02-22T14:39:05.320Z"
   },
   {
    "duration": 14,
    "start_time": "2025-02-22T14:43:16.076Z"
   },
   {
    "duration": 6,
    "start_time": "2025-02-22T14:43:32.799Z"
   },
   {
    "duration": 6,
    "start_time": "2025-02-22T14:43:41.734Z"
   },
   {
    "duration": 10,
    "start_time": "2025-02-22T14:43:43.751Z"
   },
   {
    "duration": 10,
    "start_time": "2025-02-22T14:44:53.100Z"
   },
   {
    "duration": 9,
    "start_time": "2025-02-22T14:45:13.897Z"
   },
   {
    "duration": 300,
    "start_time": "2025-02-22T14:45:15.841Z"
   },
   {
    "duration": 289,
    "start_time": "2025-02-22T14:45:48.934Z"
   },
   {
    "duration": 8,
    "start_time": "2025-02-22T14:47:55.838Z"
   },
   {
    "duration": 10,
    "start_time": "2025-02-22T14:47:58.119Z"
   },
   {
    "duration": 16,
    "start_time": "2025-02-22T14:48:53.828Z"
   },
   {
    "duration": 8,
    "start_time": "2025-02-22T14:48:59.105Z"
   },
   {
    "duration": 17,
    "start_time": "2025-02-22T14:49:11.692Z"
   },
   {
    "duration": 24,
    "start_time": "2025-02-22T14:49:25.746Z"
   },
   {
    "duration": 8,
    "start_time": "2025-02-22T14:49:40.187Z"
   },
   {
    "duration": 8,
    "start_time": "2025-02-22T14:49:42.312Z"
   },
   {
    "duration": 10,
    "start_time": "2025-02-22T14:49:59.525Z"
   },
   {
    "duration": 13,
    "start_time": "2025-02-22T14:52:03.421Z"
   },
   {
    "duration": 62,
    "start_time": "2025-02-22T14:53:21.342Z"
   },
   {
    "duration": 9,
    "start_time": "2025-02-22T14:53:25.670Z"
   },
   {
    "duration": 10,
    "start_time": "2025-02-22T14:53:28.409Z"
   },
   {
    "duration": 11,
    "start_time": "2025-02-22T14:54:59.399Z"
   },
   {
    "duration": 10,
    "start_time": "2025-02-22T14:55:11.866Z"
   },
   {
    "duration": 7,
    "start_time": "2025-02-22T15:03:42.371Z"
   },
   {
    "duration": 8,
    "start_time": "2025-02-22T15:07:10.172Z"
   },
   {
    "duration": 16,
    "start_time": "2025-02-22T15:07:27.333Z"
   },
   {
    "duration": 4,
    "start_time": "2025-02-22T15:09:21.567Z"
   },
   {
    "duration": 14,
    "start_time": "2025-02-22T15:09:23.900Z"
   },
   {
    "duration": 8,
    "start_time": "2025-02-22T15:10:00.634Z"
   },
   {
    "duration": 441,
    "start_time": "2025-02-22T15:10:00.992Z"
   },
   {
    "duration": 92,
    "start_time": "2025-02-22T15:10:01.436Z"
   },
   {
    "duration": 23,
    "start_time": "2025-02-22T15:10:02.856Z"
   },
   {
    "duration": 19,
    "start_time": "2025-02-22T15:10:05.472Z"
   },
   {
    "duration": 4,
    "start_time": "2025-02-22T15:10:11.669Z"
   },
   {
    "duration": 4,
    "start_time": "2025-02-22T15:10:12.429Z"
   },
   {
    "duration": 5,
    "start_time": "2025-02-22T15:10:13.118Z"
   },
   {
    "duration": 22,
    "start_time": "2025-02-22T15:10:14.800Z"
   },
   {
    "duration": 15,
    "start_time": "2025-02-22T15:10:15.391Z"
   },
   {
    "duration": 15,
    "start_time": "2025-02-22T15:10:42.512Z"
   },
   {
    "duration": 11,
    "start_time": "2025-02-22T15:10:45.044Z"
   },
   {
    "duration": 10,
    "start_time": "2025-02-22T15:10:54.333Z"
   },
   {
    "duration": 13,
    "start_time": "2025-02-22T15:10:55.476Z"
   },
   {
    "duration": 5,
    "start_time": "2025-02-22T15:11:02.903Z"
   },
   {
    "duration": 5,
    "start_time": "2025-02-22T15:11:05.007Z"
   },
   {
    "duration": 11,
    "start_time": "2025-02-22T15:11:06.151Z"
   },
   {
    "duration": 12,
    "start_time": "2025-02-22T15:11:07.773Z"
   },
   {
    "duration": 4,
    "start_time": "2025-02-22T15:12:36.000Z"
   },
   {
    "duration": 438,
    "start_time": "2025-02-22T15:12:36.185Z"
   },
   {
    "duration": 94,
    "start_time": "2025-02-22T15:12:36.625Z"
   },
   {
    "duration": 24,
    "start_time": "2025-02-22T15:12:36.757Z"
   },
   {
    "duration": 18,
    "start_time": "2025-02-22T15:12:36.948Z"
   },
   {
    "duration": 4,
    "start_time": "2025-02-22T15:12:37.947Z"
   },
   {
    "duration": 4,
    "start_time": "2025-02-22T15:12:38.137Z"
   },
   {
    "duration": 5,
    "start_time": "2025-02-22T15:12:38.332Z"
   },
   {
    "duration": 4,
    "start_time": "2025-02-22T15:12:38.730Z"
   },
   {
    "duration": 58,
    "start_time": "2025-02-22T15:12:38.934Z"
   },
   {
    "duration": 20,
    "start_time": "2025-02-22T15:12:39.128Z"
   },
   {
    "duration": 17,
    "start_time": "2025-02-22T15:12:39.716Z"
   },
   {
    "duration": 10,
    "start_time": "2025-02-22T15:12:40.410Z"
   },
   {
    "duration": 12,
    "start_time": "2025-02-22T15:12:40.620Z"
   },
   {
    "duration": 4,
    "start_time": "2025-02-22T15:12:41.943Z"
   },
   {
    "duration": 5,
    "start_time": "2025-02-22T15:12:42.180Z"
   },
   {
    "duration": 10,
    "start_time": "2025-02-22T15:12:43.014Z"
   },
   {
    "duration": 15,
    "start_time": "2025-02-22T15:12:43.542Z"
   },
   {
    "duration": 85,
    "start_time": "2025-02-22T15:14:32.349Z"
   },
   {
    "duration": 67,
    "start_time": "2025-02-22T15:14:35.684Z"
   },
   {
    "duration": 5,
    "start_time": "2025-02-22T15:14:41.381Z"
   },
   {
    "duration": 5,
    "start_time": "2025-02-22T15:14:43.866Z"
   },
   {
    "duration": 14,
    "start_time": "2025-02-22T15:14:45.410Z"
   },
   {
    "duration": 10,
    "start_time": "2025-02-22T15:14:46.458Z"
   },
   {
    "duration": 11,
    "start_time": "2025-02-22T15:14:46.612Z"
   },
   {
    "duration": 4,
    "start_time": "2025-02-22T15:14:47.757Z"
   },
   {
    "duration": 4,
    "start_time": "2025-02-22T15:14:47.940Z"
   },
   {
    "duration": 10,
    "start_time": "2025-02-22T15:14:48.309Z"
   },
   {
    "duration": 12,
    "start_time": "2025-02-22T15:14:48.528Z"
   },
   {
    "duration": 103,
    "start_time": "2025-02-22T15:15:32.330Z"
   },
   {
    "duration": 3,
    "start_time": "2025-02-22T15:15:45.761Z"
   },
   {
    "duration": 452,
    "start_time": "2025-02-22T15:15:46.063Z"
   },
   {
    "duration": 99,
    "start_time": "2025-02-22T15:15:46.517Z"
   },
   {
    "duration": 24,
    "start_time": "2025-02-22T15:15:46.878Z"
   },
   {
    "duration": 18,
    "start_time": "2025-02-22T15:15:47.174Z"
   },
   {
    "duration": 4,
    "start_time": "2025-02-22T15:15:49.274Z"
   },
   {
    "duration": 4,
    "start_time": "2025-02-22T15:15:51.498Z"
   },
   {
    "duration": 4,
    "start_time": "2025-02-22T15:15:51.873Z"
   },
   {
    "duration": 55,
    "start_time": "2025-02-22T15:15:54.039Z"
   },
   {
    "duration": 3,
    "start_time": "2025-02-22T15:16:04.265Z"
   },
   {
    "duration": 19,
    "start_time": "2025-02-22T15:16:19.839Z"
   },
   {
    "duration": 79,
    "start_time": "2025-02-22T15:22:10.827Z"
   },
   {
    "duration": 88,
    "start_time": "2025-02-22T15:23:01.430Z"
   },
   {
    "duration": 64,
    "start_time": "2025-02-22T15:23:09.342Z"
   },
   {
    "duration": 78,
    "start_time": "2025-02-22T15:23:16.637Z"
   },
   {
    "duration": 14,
    "start_time": "2025-02-22T15:23:29.473Z"
   },
   {
    "duration": 13,
    "start_time": "2025-02-22T15:27:03.873Z"
   },
   {
    "duration": 13,
    "start_time": "2025-02-22T15:27:13.153Z"
   },
   {
    "duration": 8,
    "start_time": "2025-02-22T15:35:31.469Z"
   },
   {
    "duration": 4,
    "start_time": "2025-02-22T15:35:42.071Z"
   },
   {
    "duration": 16,
    "start_time": "2025-02-22T15:35:56.652Z"
   },
   {
    "duration": 4,
    "start_time": "2025-02-22T15:37:28.969Z"
   },
   {
    "duration": 445,
    "start_time": "2025-02-22T15:37:29.170Z"
   },
   {
    "duration": 109,
    "start_time": "2025-02-22T15:37:29.617Z"
   },
   {
    "duration": 24,
    "start_time": "2025-02-22T15:37:29.760Z"
   },
   {
    "duration": 20,
    "start_time": "2025-02-22T15:37:29.959Z"
   },
   {
    "duration": 4,
    "start_time": "2025-02-22T15:37:33.088Z"
   },
   {
    "duration": 4,
    "start_time": "2025-02-22T15:37:33.436Z"
   },
   {
    "duration": 4,
    "start_time": "2025-02-22T15:37:33.863Z"
   },
   {
    "duration": 4,
    "start_time": "2025-02-22T15:37:36.126Z"
   },
   {
    "duration": 18,
    "start_time": "2025-02-22T15:37:37.701Z"
   },
   {
    "duration": 21,
    "start_time": "2025-02-22T15:37:46.026Z"
   },
   {
    "duration": 15,
    "start_time": "2025-02-22T15:37:48.277Z"
   },
   {
    "duration": 4,
    "start_time": "2025-02-22T15:38:12.999Z"
   },
   {
    "duration": 16,
    "start_time": "2025-02-22T15:38:13.367Z"
   },
   {
    "duration": 5,
    "start_time": "2025-02-22T15:38:14.153Z"
   },
   {
    "duration": 15,
    "start_time": "2025-02-22T15:38:16.751Z"
   },
   {
    "duration": 4,
    "start_time": "2025-02-22T15:38:27.433Z"
   },
   {
    "duration": 425,
    "start_time": "2025-02-22T15:38:27.710Z"
   },
   {
    "duration": 125,
    "start_time": "2025-02-22T15:38:28.137Z"
   },
   {
    "duration": 24,
    "start_time": "2025-02-22T15:38:28.554Z"
   },
   {
    "duration": 19,
    "start_time": "2025-02-22T15:38:28.886Z"
   },
   {
    "duration": 4,
    "start_time": "2025-02-22T15:38:31.607Z"
   },
   {
    "duration": 4,
    "start_time": "2025-02-22T15:38:32.042Z"
   },
   {
    "duration": 4,
    "start_time": "2025-02-22T15:38:32.454Z"
   },
   {
    "duration": 4,
    "start_time": "2025-02-22T15:38:34.293Z"
   },
   {
    "duration": 19,
    "start_time": "2025-02-22T15:38:35.085Z"
   },
   {
    "duration": 26,
    "start_time": "2025-02-22T15:38:38.981Z"
   },
   {
    "duration": 16,
    "start_time": "2025-02-22T15:38:39.749Z"
   },
   {
    "duration": 3,
    "start_time": "2025-02-22T15:55:53.647Z"
   },
   {
    "duration": 450,
    "start_time": "2025-02-22T15:55:53.981Z"
   },
   {
    "duration": 113,
    "start_time": "2025-02-22T15:55:54.433Z"
   },
   {
    "duration": 22,
    "start_time": "2025-02-22T15:55:54.819Z"
   },
   {
    "duration": 20,
    "start_time": "2025-02-22T15:55:55.414Z"
   },
   {
    "duration": 5,
    "start_time": "2025-02-22T15:55:58.238Z"
   },
   {
    "duration": 4,
    "start_time": "2025-02-22T15:55:58.717Z"
   },
   {
    "duration": 5,
    "start_time": "2025-02-22T15:55:59.206Z"
   },
   {
    "duration": 3,
    "start_time": "2025-02-22T15:56:01.589Z"
   },
   {
    "duration": 65,
    "start_time": "2025-02-22T15:56:02.746Z"
   },
   {
    "duration": 18,
    "start_time": "2025-02-22T15:56:04.299Z"
   },
   {
    "duration": 71,
    "start_time": "2025-02-22T15:56:10.279Z"
   },
   {
    "duration": 17,
    "start_time": "2025-02-22T15:56:12.811Z"
   },
   {
    "duration": 5,
    "start_time": "2025-02-22T15:56:20.291Z"
   },
   {
    "duration": 29,
    "start_time": "2025-02-22T15:56:20.835Z"
   },
   {
    "duration": 4,
    "start_time": "2025-02-22T15:56:38.095Z"
   },
   {
    "duration": 396,
    "start_time": "2025-02-22T15:56:38.325Z"
   },
   {
    "duration": 105,
    "start_time": "2025-02-22T15:56:38.723Z"
   },
   {
    "duration": 29,
    "start_time": "2025-02-22T15:56:38.975Z"
   },
   {
    "duration": 18,
    "start_time": "2025-02-22T15:56:39.196Z"
   },
   {
    "duration": 4,
    "start_time": "2025-02-22T15:56:40.616Z"
   },
   {
    "duration": 4,
    "start_time": "2025-02-22T15:56:41.110Z"
   },
   {
    "duration": 5,
    "start_time": "2025-02-22T15:56:41.792Z"
   },
   {
    "duration": 4,
    "start_time": "2025-02-22T15:56:42.770Z"
   },
   {
    "duration": 5,
    "start_time": "2025-02-22T15:56:43.313Z"
   },
   {
    "duration": 19,
    "start_time": "2025-02-22T15:56:43.853Z"
   },
   {
    "duration": 22,
    "start_time": "2025-02-22T15:56:54.652Z"
   },
   {
    "duration": 16,
    "start_time": "2025-02-22T15:56:58.070Z"
   },
   {
    "duration": 5,
    "start_time": "2025-02-22T15:57:08.885Z"
   },
   {
    "duration": 16,
    "start_time": "2025-02-22T15:57:09.664Z"
   },
   {
    "duration": 3,
    "start_time": "2025-02-22T15:57:25.661Z"
   },
   {
    "duration": 475,
    "start_time": "2025-02-22T15:57:25.853Z"
   },
   {
    "duration": 101,
    "start_time": "2025-02-22T15:57:26.330Z"
   },
   {
    "duration": 23,
    "start_time": "2025-02-22T15:57:26.570Z"
   },
   {
    "duration": 18,
    "start_time": "2025-02-22T15:57:26.794Z"
   },
   {
    "duration": 4,
    "start_time": "2025-02-22T15:57:27.997Z"
   },
   {
    "duration": 3,
    "start_time": "2025-02-22T15:57:28.706Z"
   },
   {
    "duration": 4,
    "start_time": "2025-02-22T15:57:29.250Z"
   },
   {
    "duration": 4,
    "start_time": "2025-02-22T15:57:30.661Z"
   },
   {
    "duration": 4,
    "start_time": "2025-02-22T15:57:31.007Z"
   },
   {
    "duration": 20,
    "start_time": "2025-02-22T15:57:31.389Z"
   },
   {
    "duration": 16,
    "start_time": "2025-02-22T15:57:34.099Z"
   },
   {
    "duration": 11,
    "start_time": "2025-02-22T15:57:51.360Z"
   },
   {
    "duration": 18,
    "start_time": "2025-02-22T15:57:55.515Z"
   },
   {
    "duration": 43,
    "start_time": "2025-02-22T16:03:11.914Z"
   },
   {
    "duration": 13,
    "start_time": "2025-02-22T16:03:31.920Z"
   },
   {
    "duration": 73,
    "start_time": "2025-02-22T16:08:36.782Z"
   },
   {
    "duration": 76,
    "start_time": "2025-02-22T16:08:52.824Z"
   },
   {
    "duration": 16,
    "start_time": "2025-02-22T16:09:03.602Z"
   },
   {
    "duration": 12,
    "start_time": "2025-02-22T16:09:25.178Z"
   },
   {
    "duration": 11,
    "start_time": "2025-02-22T16:09:43.888Z"
   },
   {
    "duration": 11,
    "start_time": "2025-02-22T16:09:59.385Z"
   },
   {
    "duration": 3,
    "start_time": "2025-02-22T16:10:47.232Z"
   },
   {
    "duration": 399,
    "start_time": "2025-02-22T16:10:47.418Z"
   },
   {
    "duration": 192,
    "start_time": "2025-02-22T16:10:47.819Z"
   },
   {
    "duration": 23,
    "start_time": "2025-02-22T16:10:48.013Z"
   },
   {
    "duration": 18,
    "start_time": "2025-02-22T16:10:48.111Z"
   },
   {
    "duration": 4,
    "start_time": "2025-02-22T16:10:48.936Z"
   },
   {
    "duration": 4,
    "start_time": "2025-02-22T16:10:49.107Z"
   },
   {
    "duration": 4,
    "start_time": "2025-02-22T16:10:49.285Z"
   },
   {
    "duration": 3,
    "start_time": "2025-02-22T16:10:50.467Z"
   },
   {
    "duration": 4,
    "start_time": "2025-02-22T16:10:50.902Z"
   },
   {
    "duration": 20,
    "start_time": "2025-02-22T16:10:51.320Z"
   },
   {
    "duration": 15,
    "start_time": "2025-02-22T16:10:51.948Z"
   },
   {
    "duration": 11,
    "start_time": "2025-02-22T16:10:55.723Z"
   },
   {
    "duration": 12,
    "start_time": "2025-02-22T16:10:57.336Z"
   },
   {
    "duration": 4,
    "start_time": "2025-02-22T16:10:59.889Z"
   },
   {
    "duration": 4,
    "start_time": "2025-02-22T16:11:00.680Z"
   },
   {
    "duration": 73,
    "start_time": "2025-02-22T16:20:19.616Z"
   },
   {
    "duration": 3,
    "start_time": "2025-02-22T16:20:41.832Z"
   },
   {
    "duration": 414,
    "start_time": "2025-02-22T16:20:42.020Z"
   },
   {
    "duration": 200,
    "start_time": "2025-02-22T16:20:42.436Z"
   },
   {
    "duration": 22,
    "start_time": "2025-02-22T16:20:42.638Z"
   },
   {
    "duration": 17,
    "start_time": "2025-02-22T16:20:42.732Z"
   },
   {
    "duration": 5,
    "start_time": "2025-02-22T16:20:43.672Z"
   },
   {
    "duration": 4,
    "start_time": "2025-02-22T16:20:43.865Z"
   },
   {
    "duration": 4,
    "start_time": "2025-02-22T16:20:44.275Z"
   },
   {
    "duration": 4,
    "start_time": "2025-02-22T16:20:45.007Z"
   },
   {
    "duration": 4,
    "start_time": "2025-02-22T16:20:45.553Z"
   },
   {
    "duration": 21,
    "start_time": "2025-02-22T16:20:49.246Z"
   },
   {
    "duration": 16,
    "start_time": "2025-02-22T16:20:49.842Z"
   },
   {
    "duration": 11,
    "start_time": "2025-02-22T16:20:51.993Z"
   },
   {
    "duration": 14,
    "start_time": "2025-02-22T16:20:52.765Z"
   },
   {
    "duration": 4,
    "start_time": "2025-02-22T16:20:59.928Z"
   },
   {
    "duration": 5,
    "start_time": "2025-02-22T16:21:00.723Z"
   },
   {
    "duration": 11,
    "start_time": "2025-02-22T16:21:02.390Z"
   },
   {
    "duration": 74,
    "start_time": "2025-02-22T16:21:03.165Z"
   },
   {
    "duration": 919,
    "start_time": "2025-02-22T16:22:23.126Z"
   },
   {
    "duration": 11,
    "start_time": "2025-02-22T16:22:32.879Z"
   },
   {
    "duration": 8,
    "start_time": "2025-02-22T16:22:43.149Z"
   },
   {
    "duration": 10,
    "start_time": "2025-02-22T16:22:46.408Z"
   },
   {
    "duration": 10,
    "start_time": "2025-02-22T16:23:48.267Z"
   },
   {
    "duration": 9,
    "start_time": "2025-02-22T16:23:49.820Z"
   },
   {
    "duration": 7,
    "start_time": "2025-02-22T16:24:12.026Z"
   },
   {
    "duration": 2,
    "start_time": "2025-02-22T16:30:32.575Z"
   },
   {
    "duration": 14,
    "start_time": "2025-02-22T16:31:33.226Z"
   },
   {
    "duration": 3,
    "start_time": "2025-02-22T16:31:53.422Z"
   },
   {
    "duration": 451,
    "start_time": "2025-02-22T16:31:53.560Z"
   },
   {
    "duration": 138,
    "start_time": "2025-02-22T16:31:54.013Z"
   },
   {
    "duration": 22,
    "start_time": "2025-02-22T16:31:54.153Z"
   },
   {
    "duration": 19,
    "start_time": "2025-02-22T16:31:54.396Z"
   },
   {
    "duration": 5,
    "start_time": "2025-02-22T16:31:56.263Z"
   },
   {
    "duration": 4,
    "start_time": "2025-02-22T16:31:56.800Z"
   },
   {
    "duration": 5,
    "start_time": "2025-02-22T16:31:57.252Z"
   },
   {
    "duration": 5,
    "start_time": "2025-02-22T16:31:59.014Z"
   },
   {
    "duration": 4,
    "start_time": "2025-02-22T16:31:59.393Z"
   },
   {
    "duration": 21,
    "start_time": "2025-02-22T16:31:59.748Z"
   },
   {
    "duration": 16,
    "start_time": "2025-02-22T16:32:00.412Z"
   },
   {
    "duration": 10,
    "start_time": "2025-02-22T16:32:02.006Z"
   },
   {
    "duration": 13,
    "start_time": "2025-02-22T16:32:02.775Z"
   },
   {
    "duration": 5,
    "start_time": "2025-02-22T16:32:05.348Z"
   },
   {
    "duration": 4,
    "start_time": "2025-02-22T16:32:06.737Z"
   },
   {
    "duration": 14,
    "start_time": "2025-02-22T16:32:42.047Z"
   },
   {
    "duration": 75,
    "start_time": "2025-02-22T16:38:49.068Z"
   },
   {
    "duration": 443,
    "start_time": "2025-02-22T16:39:05.872Z"
   },
   {
    "duration": 220,
    "start_time": "2025-02-22T16:39:06.318Z"
   },
   {
    "duration": 22,
    "start_time": "2025-02-22T16:39:06.541Z"
   },
   {
    "duration": 18,
    "start_time": "2025-02-22T16:39:06.624Z"
   },
   {
    "duration": 5,
    "start_time": "2025-02-22T16:39:07.561Z"
   },
   {
    "duration": 3,
    "start_time": "2025-02-22T16:39:07.744Z"
   },
   {
    "duration": 5,
    "start_time": "2025-02-22T16:39:07.944Z"
   },
   {
    "duration": 4,
    "start_time": "2025-02-22T16:39:08.768Z"
   },
   {
    "duration": 4,
    "start_time": "2025-02-22T16:39:09.020Z"
   },
   {
    "duration": 22,
    "start_time": "2025-02-22T16:39:09.332Z"
   },
   {
    "duration": 16,
    "start_time": "2025-02-22T16:39:09.845Z"
   },
   {
    "duration": 10,
    "start_time": "2025-02-22T16:39:11.372Z"
   },
   {
    "duration": 12,
    "start_time": "2025-02-22T16:39:13.320Z"
   },
   {
    "duration": 4,
    "start_time": "2025-02-22T16:39:16.330Z"
   },
   {
    "duration": 4,
    "start_time": "2025-02-22T16:39:16.965Z"
   },
   {
    "duration": 11,
    "start_time": "2025-02-22T16:39:18.405Z"
   },
   {
    "duration": 5,
    "start_time": "2025-02-22T16:39:51.420Z"
   },
   {
    "duration": 102,
    "start_time": "2025-02-22T16:39:52.515Z"
   },
   {
    "duration": 477,
    "start_time": "2025-02-22T16:40:11.451Z"
   },
   {
    "duration": 127,
    "start_time": "2025-02-22T16:40:11.930Z"
   },
   {
    "duration": 23,
    "start_time": "2025-02-22T16:40:12.059Z"
   },
   {
    "duration": 20,
    "start_time": "2025-02-22T16:40:12.151Z"
   },
   {
    "duration": 4,
    "start_time": "2025-02-22T16:40:13.092Z"
   },
   {
    "duration": 3,
    "start_time": "2025-02-22T16:40:13.273Z"
   },
   {
    "duration": 3,
    "start_time": "2025-02-22T16:40:13.454Z"
   },
   {
    "duration": 4,
    "start_time": "2025-02-22T16:40:13.820Z"
   },
   {
    "duration": 4,
    "start_time": "2025-02-22T16:40:14.052Z"
   },
   {
    "duration": 20,
    "start_time": "2025-02-22T16:40:14.263Z"
   },
   {
    "duration": 16,
    "start_time": "2025-02-22T16:40:14.502Z"
   },
   {
    "duration": 10,
    "start_time": "2025-02-22T16:40:16.050Z"
   },
   {
    "duration": 13,
    "start_time": "2025-02-22T16:40:16.496Z"
   },
   {
    "duration": 5,
    "start_time": "2025-02-22T16:40:20.039Z"
   },
   {
    "duration": 5,
    "start_time": "2025-02-22T16:40:21.627Z"
   },
   {
    "duration": 10,
    "start_time": "2025-02-22T16:40:22.028Z"
   },
   {
    "duration": 106,
    "start_time": "2025-02-22T16:40:29.987Z"
   },
   {
    "duration": 409,
    "start_time": "2025-02-22T16:49:37.612Z"
   },
   {
    "duration": 119,
    "start_time": "2025-02-22T16:49:38.023Z"
   },
   {
    "duration": 23,
    "start_time": "2025-02-22T16:49:38.144Z"
   },
   {
    "duration": 19,
    "start_time": "2025-02-22T16:49:38.300Z"
   },
   {
    "duration": 5,
    "start_time": "2025-02-22T16:49:39.254Z"
   },
   {
    "duration": 3,
    "start_time": "2025-02-22T16:49:39.306Z"
   },
   {
    "duration": 5,
    "start_time": "2025-02-22T16:49:39.476Z"
   },
   {
    "duration": 4,
    "start_time": "2025-02-22T16:49:39.837Z"
   },
   {
    "duration": 4,
    "start_time": "2025-02-22T16:49:40.287Z"
   },
   {
    "duration": 20,
    "start_time": "2025-02-22T16:49:41.957Z"
   },
   {
    "duration": 16,
    "start_time": "2025-02-22T16:49:42.480Z"
   },
   {
    "duration": 11,
    "start_time": "2025-02-22T16:49:43.782Z"
   },
   {
    "duration": 12,
    "start_time": "2025-02-22T16:49:44.201Z"
   },
   {
    "duration": 5,
    "start_time": "2025-02-22T16:49:46.636Z"
   },
   {
    "duration": 104,
    "start_time": "2025-02-22T16:49:47.686Z"
   },
   {
    "duration": 5,
    "start_time": "2025-02-22T16:49:54.726Z"
   },
   {
    "duration": 16,
    "start_time": "2025-02-22T16:49:58.106Z"
   },
   {
    "duration": 89,
    "start_time": "2025-02-22T16:50:21.126Z"
   },
   {
    "duration": 14,
    "start_time": "2025-02-22T16:50:31.140Z"
   },
   {
    "duration": 10,
    "start_time": "2025-02-22T16:50:57.636Z"
   },
   {
    "duration": 8,
    "start_time": "2025-02-22T17:06:49.484Z"
   },
   {
    "duration": 9,
    "start_time": "2025-02-22T17:10:34.250Z"
   },
   {
    "duration": 8,
    "start_time": "2025-02-22T17:10:56.866Z"
   },
   {
    "duration": 5,
    "start_time": "2025-02-22T17:11:14.688Z"
   },
   {
    "duration": 5,
    "start_time": "2025-02-22T17:12:27.946Z"
   },
   {
    "duration": 10,
    "start_time": "2025-02-22T17:12:38.706Z"
   },
   {
    "duration": 448,
    "start_time": "2025-02-22T17:12:54.676Z"
   },
   {
    "duration": 97,
    "start_time": "2025-02-22T17:12:55.126Z"
   },
   {
    "duration": 23,
    "start_time": "2025-02-22T17:12:55.225Z"
   },
   {
    "duration": 19,
    "start_time": "2025-02-22T17:12:55.381Z"
   },
   {
    "duration": 4,
    "start_time": "2025-02-22T17:12:56.217Z"
   },
   {
    "duration": 4,
    "start_time": "2025-02-22T17:12:56.409Z"
   },
   {
    "duration": 4,
    "start_time": "2025-02-22T17:12:56.581Z"
   },
   {
    "duration": 3,
    "start_time": "2025-02-22T17:12:56.946Z"
   },
   {
    "duration": 3,
    "start_time": "2025-02-22T17:12:57.147Z"
   },
   {
    "duration": 20,
    "start_time": "2025-02-22T17:12:57.342Z"
   },
   {
    "duration": 15,
    "start_time": "2025-02-22T17:12:57.544Z"
   },
   {
    "duration": 11,
    "start_time": "2025-02-22T17:12:58.101Z"
   },
   {
    "duration": 12,
    "start_time": "2025-02-22T17:12:58.278Z"
   },
   {
    "duration": 5,
    "start_time": "2025-02-22T17:12:59.333Z"
   },
   {
    "duration": 4,
    "start_time": "2025-02-22T17:12:59.796Z"
   },
   {
    "duration": 15,
    "start_time": "2025-02-22T17:13:00.198Z"
   },
   {
    "duration": 5,
    "start_time": "2025-02-22T17:13:04.154Z"
   },
   {
    "duration": 9,
    "start_time": "2025-02-22T17:13:04.541Z"
   },
   {
    "duration": 15,
    "start_time": "2025-02-22T17:15:45.650Z"
   },
   {
    "duration": 6,
    "start_time": "2025-02-22T17:16:41.993Z"
   },
   {
    "duration": 7,
    "start_time": "2025-02-22T17:16:46.932Z"
   },
   {
    "duration": 10,
    "start_time": "2025-02-22T17:17:11.490Z"
   },
   {
    "duration": 8,
    "start_time": "2025-02-22T17:17:24.023Z"
   },
   {
    "duration": 6,
    "start_time": "2025-02-22T17:17:47.063Z"
   },
   {
    "duration": 70,
    "start_time": "2025-02-22T17:17:49.384Z"
   },
   {
    "duration": 6,
    "start_time": "2025-02-22T17:17:56.733Z"
   },
   {
    "duration": 15,
    "start_time": "2025-02-22T17:18:12.576Z"
   },
   {
    "duration": 6,
    "start_time": "2025-02-22T17:18:14.041Z"
   },
   {
    "duration": 8,
    "start_time": "2025-02-22T17:18:14.650Z"
   },
   {
    "duration": 6,
    "start_time": "2025-02-22T17:18:46.894Z"
   },
   {
    "duration": 6,
    "start_time": "2025-02-22T17:18:48.030Z"
   },
   {
    "duration": 6,
    "start_time": "2025-02-22T17:19:48.817Z"
   },
   {
    "duration": 6,
    "start_time": "2025-02-22T17:19:49.675Z"
   },
   {
    "duration": 68,
    "start_time": "2025-02-22T17:24:39.590Z"
   },
   {
    "duration": 457,
    "start_time": "2025-02-22T17:24:50.066Z"
   },
   {
    "duration": 138,
    "start_time": "2025-02-22T17:24:50.526Z"
   },
   {
    "duration": 23,
    "start_time": "2025-02-22T17:24:50.666Z"
   },
   {
    "duration": 18,
    "start_time": "2025-02-22T17:24:50.784Z"
   },
   {
    "duration": 5,
    "start_time": "2025-02-22T17:24:51.825Z"
   },
   {
    "duration": 3,
    "start_time": "2025-02-22T17:24:52.315Z"
   },
   {
    "duration": 4,
    "start_time": "2025-02-22T17:24:52.573Z"
   },
   {
    "duration": 4,
    "start_time": "2025-02-22T17:24:53.116Z"
   },
   {
    "duration": 5,
    "start_time": "2025-02-22T17:24:53.368Z"
   },
   {
    "duration": 21,
    "start_time": "2025-02-22T17:24:53.571Z"
   },
   {
    "duration": 18,
    "start_time": "2025-02-22T17:24:53.757Z"
   },
   {
    "duration": 11,
    "start_time": "2025-02-22T17:24:54.550Z"
   },
   {
    "duration": 12,
    "start_time": "2025-02-22T17:24:54.927Z"
   },
   {
    "duration": 5,
    "start_time": "2025-02-22T17:24:56.542Z"
   },
   {
    "duration": 5,
    "start_time": "2025-02-22T17:24:56.893Z"
   },
   {
    "duration": 14,
    "start_time": "2025-02-22T17:24:57.273Z"
   },
   {
    "duration": 4,
    "start_time": "2025-02-22T17:24:57.897Z"
   },
   {
    "duration": 9,
    "start_time": "2025-02-22T17:24:58.336Z"
   },
   {
    "duration": 14,
    "start_time": "2025-02-22T17:25:00.797Z"
   },
   {
    "duration": 80,
    "start_time": "2025-02-22T17:25:02.250Z"
   },
   {
    "duration": 11,
    "start_time": "2025-02-22T17:25:09.415Z"
   },
   {
    "duration": 17,
    "start_time": "2025-02-22T17:27:10.075Z"
   },
   {
    "duration": 78,
    "start_time": "2025-02-23T16:38:59.825Z"
   },
   {
    "duration": 46,
    "start_time": "2025-02-23T16:39:06.771Z"
   },
   {
    "duration": 8,
    "start_time": "2025-02-23T16:39:22.584Z"
   },
   {
    "duration": 417,
    "start_time": "2025-02-23T16:39:39.428Z"
   },
   {
    "duration": 108,
    "start_time": "2025-02-23T16:39:39.847Z"
   },
   {
    "duration": 22,
    "start_time": "2025-02-23T16:39:40.136Z"
   },
   {
    "duration": 20,
    "start_time": "2025-02-23T16:39:40.374Z"
   },
   {
    "duration": 5,
    "start_time": "2025-02-23T16:39:41.499Z"
   },
   {
    "duration": 3,
    "start_time": "2025-02-23T16:39:41.703Z"
   },
   {
    "duration": 5,
    "start_time": "2025-02-23T16:39:41.919Z"
   },
   {
    "duration": 3,
    "start_time": "2025-02-23T16:39:42.368Z"
   },
   {
    "duration": 4,
    "start_time": "2025-02-23T16:39:42.599Z"
   },
   {
    "duration": 20,
    "start_time": "2025-02-23T16:39:42.835Z"
   },
   {
    "duration": 23,
    "start_time": "2025-02-23T16:39:43.075Z"
   },
   {
    "duration": 10,
    "start_time": "2025-02-23T16:39:44.189Z"
   },
   {
    "duration": 13,
    "start_time": "2025-02-23T16:39:44.640Z"
   },
   {
    "duration": 5,
    "start_time": "2025-02-23T16:39:46.873Z"
   },
   {
    "duration": 4,
    "start_time": "2025-02-23T16:39:47.172Z"
   },
   {
    "duration": 14,
    "start_time": "2025-02-23T16:39:47.589Z"
   },
   {
    "duration": 4,
    "start_time": "2025-02-23T16:39:48.157Z"
   },
   {
    "duration": 10,
    "start_time": "2025-02-23T16:39:48.926Z"
   },
   {
    "duration": 14,
    "start_time": "2025-02-23T16:39:52.349Z"
   },
   {
    "duration": 9,
    "start_time": "2025-02-23T16:40:30.652Z"
   },
   {
    "duration": 7,
    "start_time": "2025-02-23T16:41:12.113Z"
   },
   {
    "duration": 15,
    "start_time": "2025-02-23T16:41:56.818Z"
   },
   {
    "duration": 6,
    "start_time": "2025-02-23T16:41:58.242Z"
   },
   {
    "duration": 26,
    "start_time": "2025-02-23T16:42:46.309Z"
   },
   {
    "duration": 6,
    "start_time": "2025-02-23T16:44:22.687Z"
   },
   {
    "duration": 16,
    "start_time": "2025-02-23T16:44:49.708Z"
   },
   {
    "duration": 19,
    "start_time": "2025-02-23T16:45:08.339Z"
   },
   {
    "duration": 463,
    "start_time": "2025-02-23T16:45:51.691Z"
   },
   {
    "duration": 122,
    "start_time": "2025-02-23T16:45:52.156Z"
   },
   {
    "duration": 25,
    "start_time": "2025-02-23T16:45:52.283Z"
   },
   {
    "duration": 17,
    "start_time": "2025-02-23T16:45:52.452Z"
   },
   {
    "duration": 3,
    "start_time": "2025-02-23T16:45:53.530Z"
   },
   {
    "duration": 4,
    "start_time": "2025-02-23T16:45:53.738Z"
   },
   {
    "duration": 5,
    "start_time": "2025-02-23T16:45:53.916Z"
   },
   {
    "duration": 4,
    "start_time": "2025-02-23T16:45:54.336Z"
   },
   {
    "duration": 3,
    "start_time": "2025-02-23T16:45:54.687Z"
   },
   {
    "duration": 20,
    "start_time": "2025-02-23T16:45:54.914Z"
   },
   {
    "duration": 16,
    "start_time": "2025-02-23T16:45:55.445Z"
   },
   {
    "duration": 10,
    "start_time": "2025-02-23T16:45:56.456Z"
   },
   {
    "duration": 12,
    "start_time": "2025-02-23T16:45:57.186Z"
   },
   {
    "duration": 5,
    "start_time": "2025-02-23T16:45:59.335Z"
   },
   {
    "duration": 5,
    "start_time": "2025-02-23T16:45:59.691Z"
   },
   {
    "duration": 23,
    "start_time": "2025-02-23T16:46:00.083Z"
   },
   {
    "duration": 5,
    "start_time": "2025-02-23T16:46:00.519Z"
   },
   {
    "duration": 10,
    "start_time": "2025-02-23T16:46:01.165Z"
   },
   {
    "duration": 100,
    "start_time": "2025-02-23T16:48:33.463Z"
   },
   {
    "duration": 85,
    "start_time": "2025-02-23T16:48:46.945Z"
   },
   {
    "duration": 6,
    "start_time": "2025-02-23T16:49:18.071Z"
   },
   {
    "duration": 9,
    "start_time": "2025-02-23T16:50:58.956Z"
   },
   {
    "duration": 14,
    "start_time": "2025-02-23T16:51:38.574Z"
   },
   {
    "duration": 27,
    "start_time": "2025-02-23T16:55:03.389Z"
   },
   {
    "duration": 19,
    "start_time": "2025-02-23T16:57:02.702Z"
   },
   {
    "duration": 24,
    "start_time": "2025-02-23T16:57:23.586Z"
   },
   {
    "duration": 61,
    "start_time": "2025-02-23T16:58:47.008Z"
   },
   {
    "duration": 61,
    "start_time": "2025-02-23T16:58:56.153Z"
   },
   {
    "duration": 13,
    "start_time": "2025-02-23T16:59:13.086Z"
   },
   {
    "duration": 14,
    "start_time": "2025-02-23T16:59:20.153Z"
   },
   {
    "duration": 33,
    "start_time": "2025-02-23T16:59:38.476Z"
   },
   {
    "duration": 10,
    "start_time": "2025-02-23T16:59:50.472Z"
   },
   {
    "duration": 30,
    "start_time": "2025-02-23T17:00:01.214Z"
   },
   {
    "duration": 19,
    "start_time": "2025-02-23T17:00:02.063Z"
   },
   {
    "duration": 20,
    "start_time": "2025-02-23T17:00:13.015Z"
   },
   {
    "duration": 14,
    "start_time": "2025-02-23T17:02:44.268Z"
   },
   {
    "duration": 12,
    "start_time": "2025-02-23T17:04:04.714Z"
   },
   {
    "duration": 13,
    "start_time": "2025-02-23T17:04:17.239Z"
   },
   {
    "duration": 12,
    "start_time": "2025-02-23T17:04:50.959Z"
   },
   {
    "duration": 7,
    "start_time": "2025-02-23T17:11:57.935Z"
   },
   {
    "duration": 7,
    "start_time": "2025-02-23T17:12:12.869Z"
   },
   {
    "duration": 17,
    "start_time": "2025-02-23T17:12:35.310Z"
   },
   {
    "duration": 14,
    "start_time": "2025-02-23T17:12:52.860Z"
   },
   {
    "duration": 15,
    "start_time": "2025-02-23T17:12:58.246Z"
   },
   {
    "duration": 649,
    "start_time": "2025-02-23T17:14:38.377Z"
   },
   {
    "duration": 12,
    "start_time": "2025-02-23T17:14:48.633Z"
   },
   {
    "duration": 24,
    "start_time": "2025-02-23T17:14:51.867Z"
   },
   {
    "duration": 27,
    "start_time": "2025-02-23T17:14:58.271Z"
   },
   {
    "duration": 18,
    "start_time": "2025-02-23T17:15:20.006Z"
   },
   {
    "duration": 18,
    "start_time": "2025-02-23T17:28:37.642Z"
   },
   {
    "duration": 25,
    "start_time": "2025-02-23T17:28:49.813Z"
   },
   {
    "duration": 68,
    "start_time": "2025-02-23T17:30:07.694Z"
   },
   {
    "duration": 63,
    "start_time": "2025-02-23T17:30:23.226Z"
   },
   {
    "duration": 30,
    "start_time": "2025-02-23T17:30:34.282Z"
   },
   {
    "duration": 13,
    "start_time": "2025-02-23T17:31:05.253Z"
   },
   {
    "duration": 13,
    "start_time": "2025-02-23T17:31:29.116Z"
   },
   {
    "duration": 14,
    "start_time": "2025-02-23T17:31:42.574Z"
   },
   {
    "duration": 15,
    "start_time": "2025-02-23T17:32:33.553Z"
   },
   {
    "duration": 20,
    "start_time": "2025-02-23T17:32:37.906Z"
   },
   {
    "duration": 8,
    "start_time": "2025-02-23T17:32:50.248Z"
   },
   {
    "duration": 11,
    "start_time": "2025-02-23T17:33:01.347Z"
   },
   {
    "duration": 18,
    "start_time": "2025-02-23T17:33:07.401Z"
   },
   {
    "duration": 8,
    "start_time": "2025-02-23T17:33:12.537Z"
   },
   {
    "duration": 18,
    "start_time": "2025-02-23T17:35:00.173Z"
   },
   {
    "duration": 13,
    "start_time": "2025-02-23T17:35:15.287Z"
   },
   {
    "duration": 54,
    "start_time": "2025-02-23T17:38:46.653Z"
   },
   {
    "duration": 21,
    "start_time": "2025-02-23T17:41:57.906Z"
   },
   {
    "duration": 18,
    "start_time": "2025-02-23T17:42:19.387Z"
   },
   {
    "duration": 20,
    "start_time": "2025-02-23T17:42:26.982Z"
   },
   {
    "duration": 50,
    "start_time": "2025-02-23T17:44:02.539Z"
   },
   {
    "duration": 38,
    "start_time": "2025-02-23T17:46:21.056Z"
   },
   {
    "duration": 46,
    "start_time": "2025-02-23T17:46:42.264Z"
   },
   {
    "duration": 49,
    "start_time": "2025-02-23T17:47:15.504Z"
   },
   {
    "duration": 47,
    "start_time": "2025-02-23T17:48:02.290Z"
   },
   {
    "duration": 29,
    "start_time": "2025-02-23T17:48:37.855Z"
   },
   {
    "duration": 21,
    "start_time": "2025-02-23T17:49:50.864Z"
   },
   {
    "duration": 5,
    "start_time": "2025-02-23T17:52:02.670Z"
   },
   {
    "duration": 19,
    "start_time": "2025-02-23T17:52:10.131Z"
   },
   {
    "duration": 4,
    "start_time": "2025-02-23T17:52:13.266Z"
   },
   {
    "duration": 61,
    "start_time": "2025-02-23T17:57:29.617Z"
   },
   {
    "duration": 57,
    "start_time": "2025-02-23T17:58:50.167Z"
   },
   {
    "duration": 8,
    "start_time": "2025-02-23T17:59:37.180Z"
   },
   {
    "duration": 11,
    "start_time": "2025-02-23T17:59:56.461Z"
   },
   {
    "duration": 10,
    "start_time": "2025-02-23T18:00:10.843Z"
   },
   {
    "duration": 38,
    "start_time": "2025-02-23T18:01:21.953Z"
   },
   {
    "duration": 4,
    "start_time": "2025-02-23T18:01:36.993Z"
   },
   {
    "duration": 16,
    "start_time": "2025-02-23T18:01:37.205Z"
   },
   {
    "duration": 4,
    "start_time": "2025-02-23T18:01:37.410Z"
   },
   {
    "duration": 425,
    "start_time": "2025-02-23T18:02:13.221Z"
   },
   {
    "duration": 121,
    "start_time": "2025-02-23T18:02:13.648Z"
   },
   {
    "duration": 22,
    "start_time": "2025-02-23T18:02:13.774Z"
   },
   {
    "duration": 28,
    "start_time": "2025-02-23T18:02:13.931Z"
   },
   {
    "duration": 5,
    "start_time": "2025-02-23T18:02:14.827Z"
   },
   {
    "duration": 4,
    "start_time": "2025-02-23T18:02:15.004Z"
   },
   {
    "duration": 5,
    "start_time": "2025-02-23T18:02:15.202Z"
   },
   {
    "duration": 5,
    "start_time": "2025-02-23T18:02:15.626Z"
   },
   {
    "duration": 4,
    "start_time": "2025-02-23T18:02:15.866Z"
   },
   {
    "duration": 21,
    "start_time": "2025-02-23T18:02:16.115Z"
   },
   {
    "duration": 16,
    "start_time": "2025-02-23T18:02:16.362Z"
   },
   {
    "duration": 11,
    "start_time": "2025-02-23T18:02:17.141Z"
   },
   {
    "duration": 13,
    "start_time": "2025-02-23T18:02:17.423Z"
   },
   {
    "duration": 5,
    "start_time": "2025-02-23T18:02:19.113Z"
   },
   {
    "duration": 4,
    "start_time": "2025-02-23T18:02:19.885Z"
   },
   {
    "duration": 14,
    "start_time": "2025-02-23T18:02:20.292Z"
   },
   {
    "duration": 4,
    "start_time": "2025-02-23T18:02:20.717Z"
   },
   {
    "duration": 9,
    "start_time": "2025-02-23T18:02:21.129Z"
   },
   {
    "duration": 13,
    "start_time": "2025-02-23T18:02:22.575Z"
   },
   {
    "duration": 12,
    "start_time": "2025-02-23T18:02:23.473Z"
   },
   {
    "duration": 18,
    "start_time": "2025-02-23T18:02:24.096Z"
   },
   {
    "duration": 19,
    "start_time": "2025-02-23T18:02:24.825Z"
   },
   {
    "duration": 103,
    "start_time": "2025-02-23T18:02:44.457Z"
   },
   {
    "duration": 37,
    "start_time": "2025-02-23T18:03:05.642Z"
   },
   {
    "duration": 5,
    "start_time": "2025-02-23T18:04:02.304Z"
   },
   {
    "duration": 15,
    "start_time": "2025-02-23T18:04:02.596Z"
   },
   {
    "duration": 4,
    "start_time": "2025-02-23T18:04:02.856Z"
   },
   {
    "duration": 38,
    "start_time": "2025-02-23T18:04:24.357Z"
   },
   {
    "duration": 38,
    "start_time": "2025-02-23T18:04:34.454Z"
   },
   {
    "duration": 41,
    "start_time": "2025-02-23T18:05:20.457Z"
   },
   {
    "duration": 50,
    "start_time": "2025-02-23T18:05:42.162Z"
   },
   {
    "duration": 31,
    "start_time": "2025-02-23T18:05:53.791Z"
   },
   {
    "duration": 37,
    "start_time": "2025-02-23T18:07:24.264Z"
   },
   {
    "duration": 38,
    "start_time": "2025-02-23T18:07:50.665Z"
   },
   {
    "duration": 43,
    "start_time": "2025-02-23T18:08:27.194Z"
   },
   {
    "duration": 42,
    "start_time": "2025-02-23T18:22:58.748Z"
   },
   {
    "duration": 45,
    "start_time": "2025-02-23T18:23:39.368Z"
   },
   {
    "duration": 45,
    "start_time": "2025-02-23T18:24:27.876Z"
   },
   {
    "duration": 48,
    "start_time": "2025-02-23T18:25:04.516Z"
   },
   {
    "duration": 46,
    "start_time": "2025-02-23T18:25:31.527Z"
   },
   {
    "duration": 28,
    "start_time": "2025-02-23T18:27:05.481Z"
   },
   {
    "duration": 35,
    "start_time": "2025-02-23T18:27:29.598Z"
   },
   {
    "duration": 4,
    "start_time": "2025-02-23T18:28:13.325Z"
   },
   {
    "duration": 422,
    "start_time": "2025-02-23T18:28:29.716Z"
   },
   {
    "duration": 138,
    "start_time": "2025-02-23T18:28:30.141Z"
   },
   {
    "duration": 26,
    "start_time": "2025-02-23T18:28:30.449Z"
   },
   {
    "duration": 18,
    "start_time": "2025-02-23T18:28:30.648Z"
   },
   {
    "duration": 5,
    "start_time": "2025-02-23T18:28:31.732Z"
   },
   {
    "duration": 3,
    "start_time": "2025-02-23T18:28:31.948Z"
   },
   {
    "duration": 4,
    "start_time": "2025-02-23T18:28:32.165Z"
   },
   {
    "duration": 4,
    "start_time": "2025-02-23T18:28:32.597Z"
   },
   {
    "duration": 4,
    "start_time": "2025-02-23T18:28:32.805Z"
   },
   {
    "duration": 22,
    "start_time": "2025-02-23T18:28:33.036Z"
   },
   {
    "duration": 18,
    "start_time": "2025-02-23T18:28:33.271Z"
   },
   {
    "duration": 12,
    "start_time": "2025-02-23T18:28:34.129Z"
   },
   {
    "duration": 13,
    "start_time": "2025-02-23T18:28:34.527Z"
   },
   {
    "duration": 4,
    "start_time": "2025-02-23T18:28:36.611Z"
   },
   {
    "duration": 4,
    "start_time": "2025-02-23T18:28:36.970Z"
   },
   {
    "duration": 15,
    "start_time": "2025-02-23T18:28:37.400Z"
   },
   {
    "duration": 4,
    "start_time": "2025-02-23T18:28:37.982Z"
   },
   {
    "duration": 10,
    "start_time": "2025-02-23T18:28:38.628Z"
   },
   {
    "duration": 11,
    "start_time": "2025-02-23T18:28:43.219Z"
   },
   {
    "duration": 11,
    "start_time": "2025-02-23T18:28:46.602Z"
   },
   {
    "duration": 17,
    "start_time": "2025-02-23T18:28:48.187Z"
   },
   {
    "duration": 18,
    "start_time": "2025-02-23T18:28:49.267Z"
   },
   {
    "duration": 49,
    "start_time": "2025-02-23T18:28:53.501Z"
   },
   {
    "duration": 17,
    "start_time": "2025-02-23T18:34:22.727Z"
   },
   {
    "duration": 13,
    "start_time": "2025-02-23T18:34:44.734Z"
   },
   {
    "duration": 17,
    "start_time": "2025-02-23T18:34:57.769Z"
   },
   {
    "duration": 81,
    "start_time": "2025-02-23T18:36:26.272Z"
   },
   {
    "duration": 20,
    "start_time": "2025-02-23T18:36:39.237Z"
   },
   {
    "duration": 473,
    "start_time": "2025-02-23T18:37:12.372Z"
   },
   {
    "duration": 143,
    "start_time": "2025-02-23T18:37:12.847Z"
   },
   {
    "duration": 32,
    "start_time": "2025-02-23T18:37:12.992Z"
   },
   {
    "duration": 30,
    "start_time": "2025-02-23T18:37:13.234Z"
   },
   {
    "duration": 6,
    "start_time": "2025-02-23T18:37:14.825Z"
   },
   {
    "duration": 4,
    "start_time": "2025-02-23T18:37:15.111Z"
   },
   {
    "duration": 6,
    "start_time": "2025-02-23T18:37:15.490Z"
   },
   {
    "duration": 5,
    "start_time": "2025-02-23T18:37:15.956Z"
   },
   {
    "duration": 5,
    "start_time": "2025-02-23T18:37:16.203Z"
   },
   {
    "duration": 34,
    "start_time": "2025-02-23T18:37:16.410Z"
   },
   {
    "duration": 25,
    "start_time": "2025-02-23T18:37:16.621Z"
   },
   {
    "duration": 15,
    "start_time": "2025-02-23T18:37:17.321Z"
   },
   {
    "duration": 17,
    "start_time": "2025-02-23T18:37:17.548Z"
   },
   {
    "duration": 5,
    "start_time": "2025-02-23T18:37:19.050Z"
   },
   {
    "duration": 4,
    "start_time": "2025-02-23T18:37:19.291Z"
   },
   {
    "duration": 14,
    "start_time": "2025-02-23T18:37:19.590Z"
   },
   {
    "duration": 5,
    "start_time": "2025-02-23T18:37:20.050Z"
   },
   {
    "duration": 10,
    "start_time": "2025-02-23T18:37:20.633Z"
   },
   {
    "duration": 12,
    "start_time": "2025-02-23T18:37:24.941Z"
   },
   {
    "duration": 13,
    "start_time": "2025-02-23T18:37:25.281Z"
   },
   {
    "duration": 19,
    "start_time": "2025-02-23T18:37:25.457Z"
   },
   {
    "duration": 19,
    "start_time": "2025-02-23T18:37:27.109Z"
   },
   {
    "duration": 22,
    "start_time": "2025-02-23T18:37:31.409Z"
   },
   {
    "duration": 17,
    "start_time": "2025-02-23T18:40:34.338Z"
   },
   {
    "duration": 19,
    "start_time": "2025-02-23T18:41:43.371Z"
   },
   {
    "duration": 5,
    "start_time": "2025-02-23T18:41:48.255Z"
   },
   {
    "duration": 18,
    "start_time": "2025-02-23T18:41:49.027Z"
   },
   {
    "duration": 4,
    "start_time": "2025-02-23T18:41:50.546Z"
   },
   {
    "duration": 10,
    "start_time": "2025-02-23T18:42:32.376Z"
   },
   {
    "duration": 10,
    "start_time": "2025-02-23T18:42:48.958Z"
   },
   {
    "duration": 9,
    "start_time": "2025-02-23T18:43:01.700Z"
   },
   {
    "duration": 17,
    "start_time": "2025-02-23T18:44:07.615Z"
   },
   {
    "duration": 16,
    "start_time": "2025-02-23T18:44:29.751Z"
   },
   {
    "duration": 428,
    "start_time": "2025-02-23T18:49:16.602Z"
   },
   {
    "duration": 122,
    "start_time": "2025-02-23T18:49:17.032Z"
   },
   {
    "duration": 22,
    "start_time": "2025-02-23T18:49:17.348Z"
   },
   {
    "duration": 17,
    "start_time": "2025-02-23T18:49:17.555Z"
   },
   {
    "duration": 4,
    "start_time": "2025-02-23T18:49:18.660Z"
   },
   {
    "duration": 4,
    "start_time": "2025-02-23T18:49:18.874Z"
   },
   {
    "duration": 5,
    "start_time": "2025-02-23T18:49:19.095Z"
   },
   {
    "duration": 4,
    "start_time": "2025-02-23T18:49:19.510Z"
   },
   {
    "duration": 4,
    "start_time": "2025-02-23T18:49:19.729Z"
   },
   {
    "duration": 19,
    "start_time": "2025-02-23T18:49:19.980Z"
   },
   {
    "duration": 15,
    "start_time": "2025-02-23T18:49:20.215Z"
   },
   {
    "duration": 11,
    "start_time": "2025-02-23T18:49:21.012Z"
   },
   {
    "duration": 11,
    "start_time": "2025-02-23T18:49:21.556Z"
   },
   {
    "duration": 4,
    "start_time": "2025-02-23T18:49:23.764Z"
   },
   {
    "duration": 5,
    "start_time": "2025-02-23T18:49:24.133Z"
   },
   {
    "duration": 15,
    "start_time": "2025-02-23T18:49:24.538Z"
   },
   {
    "duration": 4,
    "start_time": "2025-02-23T18:49:24.968Z"
   },
   {
    "duration": 12,
    "start_time": "2025-02-23T18:49:25.398Z"
   },
   {
    "duration": 12,
    "start_time": "2025-02-23T18:49:26.915Z"
   },
   {
    "duration": 12,
    "start_time": "2025-02-23T18:49:27.459Z"
   },
   {
    "duration": 17,
    "start_time": "2025-02-23T18:49:27.957Z"
   },
   {
    "duration": 19,
    "start_time": "2025-02-23T18:49:28.463Z"
   },
   {
    "duration": 12,
    "start_time": "2025-02-23T18:49:29.866Z"
   },
   {
    "duration": 9,
    "start_time": "2025-02-23T18:49:30.560Z"
   },
   {
    "duration": 18,
    "start_time": "2025-02-23T18:49:32.226Z"
   },
   {
    "duration": 4,
    "start_time": "2025-02-23T18:49:34.819Z"
   },
   {
    "duration": 17,
    "start_time": "2025-02-23T18:49:35.462Z"
   },
   {
    "duration": 4,
    "start_time": "2025-02-23T18:49:36.301Z"
   },
   {
    "duration": 5,
    "start_time": "2025-02-23T19:12:34.471Z"
   },
   {
    "duration": 5,
    "start_time": "2025-02-23T19:13:26.083Z"
   },
   {
    "duration": 15,
    "start_time": "2025-02-23T19:13:40.953Z"
   },
   {
    "duration": 16,
    "start_time": "2025-02-23T19:17:13.089Z"
   },
   {
    "duration": 15,
    "start_time": "2025-02-23T19:18:07.946Z"
   },
   {
    "duration": 21,
    "start_time": "2025-02-23T19:35:44.273Z"
   },
   {
    "duration": 25,
    "start_time": "2025-02-23T19:35:57.137Z"
   },
   {
    "duration": 24,
    "start_time": "2025-02-23T19:36:45.257Z"
   },
   {
    "duration": 27,
    "start_time": "2025-02-23T19:37:52.852Z"
   },
   {
    "duration": 24,
    "start_time": "2025-02-23T19:38:56.778Z"
   },
   {
    "duration": 26,
    "start_time": "2025-02-23T19:39:07.751Z"
   },
   {
    "duration": 75,
    "start_time": "2025-02-23T19:42:01.884Z"
   },
   {
    "duration": 9,
    "start_time": "2025-02-23T19:42:07.778Z"
   },
   {
    "duration": 9,
    "start_time": "2025-02-23T19:43:06.035Z"
   },
   {
    "duration": 5,
    "start_time": "2025-02-23T19:43:11.335Z"
   },
   {
    "duration": 82,
    "start_time": "2025-02-23T19:43:28.706Z"
   },
   {
    "duration": 8,
    "start_time": "2025-02-23T19:43:39.855Z"
   },
   {
    "duration": 4,
    "start_time": "2025-02-23T19:44:36.066Z"
   },
   {
    "duration": 23,
    "start_time": "2025-02-23T19:44:43.412Z"
   },
   {
    "duration": 13,
    "start_time": "2025-02-23T19:46:38.730Z"
   },
   {
    "duration": 12,
    "start_time": "2025-02-23T19:46:50.888Z"
   },
   {
    "duration": 18,
    "start_time": "2025-02-23T19:52:58.595Z"
   },
   {
    "duration": 11,
    "start_time": "2025-02-23T19:53:04.246Z"
   },
   {
    "duration": 9,
    "start_time": "2025-02-23T19:53:41.720Z"
   },
   {
    "duration": 9,
    "start_time": "2025-02-23T19:54:29.616Z"
   },
   {
    "duration": 28,
    "start_time": "2025-02-23T19:54:57.229Z"
   },
   {
    "duration": 10,
    "start_time": "2025-02-23T19:55:20.320Z"
   },
   {
    "duration": 10,
    "start_time": "2025-02-23T19:55:34.961Z"
   },
   {
    "duration": 10,
    "start_time": "2025-02-23T19:57:20.259Z"
   },
   {
    "duration": 10,
    "start_time": "2025-02-23T20:00:27.653Z"
   },
   {
    "duration": 10,
    "start_time": "2025-02-23T20:01:01.362Z"
   },
   {
    "duration": 9,
    "start_time": "2025-02-23T20:01:33.439Z"
   },
   {
    "duration": 26,
    "start_time": "2025-02-23T20:02:47.511Z"
   },
   {
    "duration": 10,
    "start_time": "2025-02-23T20:05:58.838Z"
   },
   {
    "duration": 51,
    "start_time": "2025-02-23T20:09:12.326Z"
   },
   {
    "duration": 11,
    "start_time": "2025-02-23T20:10:24.546Z"
   },
   {
    "duration": 42,
    "start_time": "2025-02-23T20:10:48.988Z"
   },
   {
    "duration": 12,
    "start_time": "2025-02-23T20:15:26.782Z"
   },
   {
    "duration": 12,
    "start_time": "2025-02-23T20:16:15.047Z"
   },
   {
    "duration": 13,
    "start_time": "2025-02-23T20:18:52.786Z"
   },
   {
    "duration": 13,
    "start_time": "2025-02-23T20:19:23.218Z"
   },
   {
    "duration": 414,
    "start_time": "2025-02-23T20:33:37.035Z"
   },
   {
    "duration": 119,
    "start_time": "2025-02-23T20:33:37.451Z"
   },
   {
    "duration": 24,
    "start_time": "2025-02-23T20:33:38.707Z"
   },
   {
    "duration": 20,
    "start_time": "2025-02-23T20:33:39.101Z"
   },
   {
    "duration": 4,
    "start_time": "2025-02-23T20:33:40.086Z"
   },
   {
    "duration": 4,
    "start_time": "2025-02-23T20:33:40.275Z"
   },
   {
    "duration": 6,
    "start_time": "2025-02-23T20:33:40.444Z"
   },
   {
    "duration": 4,
    "start_time": "2025-02-23T20:33:40.847Z"
   },
   {
    "duration": 4,
    "start_time": "2025-02-23T20:33:41.028Z"
   },
   {
    "duration": 21,
    "start_time": "2025-02-23T20:33:41.199Z"
   },
   {
    "duration": 17,
    "start_time": "2025-02-23T20:33:41.408Z"
   },
   {
    "duration": 11,
    "start_time": "2025-02-23T20:33:42.001Z"
   },
   {
    "duration": 12,
    "start_time": "2025-02-23T20:33:42.209Z"
   },
   {
    "duration": 4,
    "start_time": "2025-02-23T20:33:43.249Z"
   },
   {
    "duration": 5,
    "start_time": "2025-02-23T20:33:43.470Z"
   },
   {
    "duration": 16,
    "start_time": "2025-02-23T20:33:43.679Z"
   },
   {
    "duration": 5,
    "start_time": "2025-02-23T20:33:43.877Z"
   },
   {
    "duration": 16,
    "start_time": "2025-02-23T20:33:44.083Z"
   },
   {
    "duration": 14,
    "start_time": "2025-02-23T20:33:44.707Z"
   },
   {
    "duration": 22,
    "start_time": "2025-02-23T20:33:44.919Z"
   },
   {
    "duration": 18,
    "start_time": "2025-02-23T20:33:45.132Z"
   },
   {
    "duration": 20,
    "start_time": "2025-02-23T20:33:45.325Z"
   },
   {
    "duration": 10,
    "start_time": "2025-02-23T20:33:45.762Z"
   },
   {
    "duration": 9,
    "start_time": "2025-02-23T20:33:45.987Z"
   },
   {
    "duration": 18,
    "start_time": "2025-02-23T20:33:46.202Z"
   },
   {
    "duration": 4,
    "start_time": "2025-02-23T20:33:47.034Z"
   },
   {
    "duration": 16,
    "start_time": "2025-02-23T20:33:47.241Z"
   },
   {
    "duration": 4,
    "start_time": "2025-02-23T20:33:47.446Z"
   },
   {
    "duration": 5,
    "start_time": "2025-02-23T20:33:48.667Z"
   },
   {
    "duration": 4,
    "start_time": "2025-02-23T20:33:48.870Z"
   },
   {
    "duration": 16,
    "start_time": "2025-02-23T20:33:49.090Z"
   },
   {
    "duration": 23,
    "start_time": "2025-02-23T20:33:49.515Z"
   },
   {
    "duration": 25,
    "start_time": "2025-02-23T20:33:49.963Z"
   },
   {
    "duration": 12,
    "start_time": "2025-02-23T20:33:50.437Z"
   },
   {
    "duration": 10,
    "start_time": "2025-02-23T20:33:50.682Z"
   },
   {
    "duration": 14,
    "start_time": "2025-02-23T20:33:51.239Z"
   },
   {
    "duration": 46,
    "start_time": "2025-02-24T09:17:53.950Z"
   },
   {
    "duration": 422,
    "start_time": "2025-02-24T09:18:12.851Z"
   },
   {
    "duration": 129,
    "start_time": "2025-02-24T09:18:13.274Z"
   },
   {
    "duration": 19,
    "start_time": "2025-02-24T09:18:13.422Z"
   },
   {
    "duration": 16,
    "start_time": "2025-02-24T09:18:13.607Z"
   },
   {
    "duration": 4,
    "start_time": "2025-02-24T09:18:14.872Z"
   },
   {
    "duration": 3,
    "start_time": "2025-02-24T09:18:15.183Z"
   },
   {
    "duration": 4,
    "start_time": "2025-02-24T09:18:16.153Z"
   },
   {
    "duration": 4,
    "start_time": "2025-02-24T09:18:17.536Z"
   },
   {
    "duration": 3,
    "start_time": "2025-02-24T09:18:18.210Z"
   },
   {
    "duration": 17,
    "start_time": "2025-02-24T09:18:18.494Z"
   },
   {
    "duration": 14,
    "start_time": "2025-02-24T09:18:19.212Z"
   },
   {
    "duration": 11,
    "start_time": "2025-02-24T09:18:20.352Z"
   },
   {
    "duration": 12,
    "start_time": "2025-02-24T09:18:20.624Z"
   },
   {
    "duration": 3,
    "start_time": "2025-02-24T09:18:25.237Z"
   },
   {
    "duration": 4,
    "start_time": "2025-02-24T09:19:01.874Z"
   },
   {
    "duration": 12,
    "start_time": "2025-02-24T09:19:39.650Z"
   },
   {
    "duration": 4,
    "start_time": "2025-02-24T09:19:41.917Z"
   },
   {
    "duration": 9,
    "start_time": "2025-02-24T09:19:42.886Z"
   },
   {
    "duration": 8,
    "start_time": "2025-02-24T09:21:43.046Z"
   },
   {
    "duration": 9,
    "start_time": "2025-02-24T09:22:12.573Z"
   },
   {
    "duration": 15,
    "start_time": "2025-02-24T09:22:26.225Z"
   },
   {
    "duration": 61,
    "start_time": "2025-02-24T09:23:32.765Z"
   },
   {
    "duration": 395,
    "start_time": "2025-02-24T09:23:52.679Z"
   },
   {
    "duration": 120,
    "start_time": "2025-02-24T09:23:53.076Z"
   },
   {
    "duration": 19,
    "start_time": "2025-02-24T09:23:53.222Z"
   },
   {
    "duration": 15,
    "start_time": "2025-02-24T09:23:53.394Z"
   },
   {
    "duration": 4,
    "start_time": "2025-02-24T09:23:54.487Z"
   },
   {
    "duration": 3,
    "start_time": "2025-02-24T09:23:54.679Z"
   },
   {
    "duration": 4,
    "start_time": "2025-02-24T09:23:55.063Z"
   },
   {
    "duration": 4,
    "start_time": "2025-02-24T09:23:55.489Z"
   },
   {
    "duration": 4,
    "start_time": "2025-02-24T09:23:55.971Z"
   },
   {
    "duration": 18,
    "start_time": "2025-02-24T09:23:56.187Z"
   },
   {
    "duration": 13,
    "start_time": "2025-02-24T09:23:57.405Z"
   },
   {
    "duration": 9,
    "start_time": "2025-02-24T09:23:58.609Z"
   },
   {
    "duration": 11,
    "start_time": "2025-02-24T09:23:59.071Z"
   },
   {
    "duration": 2,
    "start_time": "2025-02-24T09:24:04.231Z"
   },
   {
    "duration": 3,
    "start_time": "2025-02-24T09:24:04.691Z"
   },
   {
    "duration": 13,
    "start_time": "2025-02-24T09:24:05.949Z"
   },
   {
    "duration": 5,
    "start_time": "2025-02-24T09:24:07.042Z"
   },
   {
    "duration": 9,
    "start_time": "2025-02-24T09:24:10.531Z"
   },
   {
    "duration": 9,
    "start_time": "2025-02-24T09:24:18.793Z"
   },
   {
    "duration": 8,
    "start_time": "2025-02-24T09:24:19.138Z"
   },
   {
    "duration": 401,
    "start_time": "2025-02-24T09:24:33.367Z"
   },
   {
    "duration": 122,
    "start_time": "2025-02-24T09:24:33.771Z"
   },
   {
    "duration": 19,
    "start_time": "2025-02-24T09:24:34.194Z"
   },
   {
    "duration": 15,
    "start_time": "2025-02-24T09:24:34.570Z"
   },
   {
    "duration": 3,
    "start_time": "2025-02-24T09:24:35.853Z"
   },
   {
    "duration": 3,
    "start_time": "2025-02-24T09:24:36.024Z"
   },
   {
    "duration": 4,
    "start_time": "2025-02-24T09:24:36.422Z"
   },
   {
    "duration": 3,
    "start_time": "2025-02-24T09:24:36.802Z"
   },
   {
    "duration": 4,
    "start_time": "2025-02-24T09:24:37.164Z"
   },
   {
    "duration": 18,
    "start_time": "2025-02-24T09:24:37.339Z"
   },
   {
    "duration": 14,
    "start_time": "2025-02-24T09:24:37.734Z"
   },
   {
    "duration": 9,
    "start_time": "2025-02-24T09:24:38.356Z"
   },
   {
    "duration": 11,
    "start_time": "2025-02-24T09:24:38.553Z"
   },
   {
    "duration": 3,
    "start_time": "2025-02-24T09:24:40.605Z"
   },
   {
    "duration": 3,
    "start_time": "2025-02-24T09:24:41.142Z"
   },
   {
    "duration": 12,
    "start_time": "2025-02-24T09:24:42.919Z"
   },
   {
    "duration": 4,
    "start_time": "2025-02-24T09:24:44.179Z"
   },
   {
    "duration": 9,
    "start_time": "2025-02-24T09:24:46.125Z"
   },
   {
    "duration": 8,
    "start_time": "2025-02-24T09:24:46.639Z"
   },
   {
    "duration": 11,
    "start_time": "2025-02-24T09:24:59.173Z"
   },
   {
    "duration": 12,
    "start_time": "2025-02-24T09:25:21.157Z"
   },
   {
    "duration": 17,
    "start_time": "2025-02-24T09:25:21.729Z"
   },
   {
    "duration": 17,
    "start_time": "2025-02-24T09:25:22.380Z"
   },
   {
    "duration": 8,
    "start_time": "2025-02-24T09:25:25.369Z"
   },
   {
    "duration": 14,
    "start_time": "2025-02-24T09:25:26.680Z"
   },
   {
    "duration": 14,
    "start_time": "2025-02-24T09:25:40.331Z"
   },
   {
    "duration": 3,
    "start_time": "2025-02-24T09:28:36.230Z"
   },
   {
    "duration": 13,
    "start_time": "2025-02-24T09:28:36.644Z"
   },
   {
    "duration": 4,
    "start_time": "2025-02-24T09:28:37.013Z"
   },
   {
    "duration": 6,
    "start_time": "2025-02-24T09:28:43.550Z"
   },
   {
    "duration": 4,
    "start_time": "2025-02-24T09:28:46.578Z"
   },
   {
    "duration": 14,
    "start_time": "2025-02-24T09:28:47.061Z"
   },
   {
    "duration": 23,
    "start_time": "2025-02-24T09:28:50.381Z"
   },
   {
    "duration": 80,
    "start_time": "2025-02-24T09:31:13.751Z"
   },
   {
    "duration": 10,
    "start_time": "2025-02-24T09:31:31.362Z"
   },
   {
    "duration": 27,
    "start_time": "2025-02-24T09:33:38.725Z"
   },
   {
    "duration": 22,
    "start_time": "2025-02-24T09:34:15.703Z"
   },
   {
    "duration": 23,
    "start_time": "2025-02-24T09:36:05.828Z"
   },
   {
    "duration": 22,
    "start_time": "2025-02-24T09:36:14.664Z"
   },
   {
    "duration": 23,
    "start_time": "2025-02-24T09:36:42.722Z"
   },
   {
    "duration": 9,
    "start_time": "2025-02-24T09:36:58.345Z"
   },
   {
    "duration": 9,
    "start_time": "2025-02-24T09:36:59.132Z"
   },
   {
    "duration": 11,
    "start_time": "2025-02-24T09:37:04.828Z"
   },
   {
    "duration": 416,
    "start_time": "2025-02-24T09:37:38.754Z"
   },
   {
    "duration": 122,
    "start_time": "2025-02-24T09:37:39.197Z"
   },
   {
    "duration": 20,
    "start_time": "2025-02-24T09:37:39.678Z"
   },
   {
    "duration": 15,
    "start_time": "2025-02-24T09:37:39.851Z"
   },
   {
    "duration": 4,
    "start_time": "2025-02-24T09:37:41.132Z"
   },
   {
    "duration": 3,
    "start_time": "2025-02-24T09:37:41.310Z"
   },
   {
    "duration": 3,
    "start_time": "2025-02-24T09:37:41.717Z"
   },
   {
    "duration": 4,
    "start_time": "2025-02-24T09:37:42.403Z"
   },
   {
    "duration": 4,
    "start_time": "2025-02-24T09:37:43.053Z"
   },
   {
    "duration": 16,
    "start_time": "2025-02-24T09:37:43.450Z"
   },
   {
    "duration": 13,
    "start_time": "2025-02-24T09:37:44.666Z"
   },
   {
    "duration": 9,
    "start_time": "2025-02-24T09:37:48.484Z"
   },
   {
    "duration": 11,
    "start_time": "2025-02-24T09:37:48.949Z"
   },
   {
    "duration": 5,
    "start_time": "2025-02-24T09:38:07.564Z"
   },
   {
    "duration": 3,
    "start_time": "2025-02-24T09:38:08.727Z"
   },
   {
    "duration": 11,
    "start_time": "2025-02-24T09:38:12.953Z"
   },
   {
    "duration": 4,
    "start_time": "2025-02-24T09:38:16.436Z"
   },
   {
    "duration": 8,
    "start_time": "2025-02-24T09:38:18.188Z"
   },
   {
    "duration": 8,
    "start_time": "2025-02-24T09:38:19.428Z"
   },
   {
    "duration": 13,
    "start_time": "2025-02-24T09:38:33.712Z"
   },
   {
    "duration": 11,
    "start_time": "2025-02-24T09:39:14.049Z"
   },
   {
    "duration": 15,
    "start_time": "2025-02-24T09:39:14.872Z"
   },
   {
    "duration": 16,
    "start_time": "2025-02-24T09:39:15.724Z"
   },
   {
    "duration": 9,
    "start_time": "2025-02-24T09:39:18.537Z"
   },
   {
    "duration": 16,
    "start_time": "2025-02-24T09:39:19.337Z"
   },
   {
    "duration": 14,
    "start_time": "2025-02-24T09:39:23.598Z"
   },
   {
    "duration": 4,
    "start_time": "2025-02-24T09:39:30.517Z"
   },
   {
    "duration": 13,
    "start_time": "2025-02-24T09:39:32.360Z"
   },
   {
    "duration": 3,
    "start_time": "2025-02-24T09:39:32.825Z"
   },
   {
    "duration": 7,
    "start_time": "2025-02-24T09:39:48.695Z"
   },
   {
    "duration": 4,
    "start_time": "2025-02-24T09:39:49.411Z"
   },
   {
    "duration": 12,
    "start_time": "2025-02-24T09:39:51.022Z"
   },
   {
    "duration": 24,
    "start_time": "2025-02-24T09:39:56.394Z"
   },
   {
    "duration": 23,
    "start_time": "2025-02-24T09:40:10.089Z"
   },
   {
    "duration": 9,
    "start_time": "2025-02-24T09:40:20.813Z"
   },
   {
    "duration": 8,
    "start_time": "2025-02-24T09:40:22.696Z"
   },
   {
    "duration": 11,
    "start_time": "2025-02-24T09:40:27.155Z"
   },
   {
    "duration": 5,
    "start_time": "2025-02-24T09:43:54.485Z"
   },
   {
    "duration": 11,
    "start_time": "2025-02-24T09:44:13.809Z"
   },
   {
    "duration": 16,
    "start_time": "2025-02-24T09:44:17.036Z"
   },
   {
    "duration": 16,
    "start_time": "2025-02-24T09:44:18.590Z"
   },
   {
    "duration": 9,
    "start_time": "2025-02-24T09:44:21.148Z"
   },
   {
    "duration": 12,
    "start_time": "2025-02-24T09:44:22.882Z"
   },
   {
    "duration": 362,
    "start_time": "2025-02-24T09:44:46.929Z"
   },
   {
    "duration": 183,
    "start_time": "2025-02-24T09:44:47.293Z"
   },
   {
    "duration": 20,
    "start_time": "2025-02-24T09:44:47.496Z"
   },
   {
    "duration": 15,
    "start_time": "2025-02-24T09:44:48.127Z"
   },
   {
    "duration": 4,
    "start_time": "2025-02-24T09:44:50.480Z"
   },
   {
    "duration": 3,
    "start_time": "2025-02-24T09:44:51.162Z"
   },
   {
    "duration": 4,
    "start_time": "2025-02-24T09:44:51.983Z"
   },
   {
    "duration": 4,
    "start_time": "2025-02-24T09:44:52.716Z"
   },
   {
    "duration": 4,
    "start_time": "2025-02-24T09:44:53.396Z"
   },
   {
    "duration": 18,
    "start_time": "2025-02-24T09:44:53.908Z"
   },
   {
    "duration": 15,
    "start_time": "2025-02-24T09:44:54.784Z"
   },
   {
    "duration": 9,
    "start_time": "2025-02-24T09:44:56.256Z"
   },
   {
    "duration": 11,
    "start_time": "2025-02-24T09:44:56.705Z"
   },
   {
    "duration": 4,
    "start_time": "2025-02-24T09:45:01.320Z"
   },
   {
    "duration": 4,
    "start_time": "2025-02-24T09:45:02.084Z"
   },
   {
    "duration": 11,
    "start_time": "2025-02-24T09:45:02.850Z"
   },
   {
    "duration": 4,
    "start_time": "2025-02-24T09:45:04.108Z"
   },
   {
    "duration": 9,
    "start_time": "2025-02-24T09:45:04.757Z"
   },
   {
    "duration": 9,
    "start_time": "2025-02-24T09:45:05.205Z"
   },
   {
    "duration": 11,
    "start_time": "2025-02-24T09:45:09.038Z"
   },
   {
    "duration": 4,
    "start_time": "2025-02-24T09:45:14.882Z"
   },
   {
    "duration": 11,
    "start_time": "2025-02-24T09:45:19.342Z"
   },
   {
    "duration": 15,
    "start_time": "2025-02-24T09:45:20.015Z"
   },
   {
    "duration": 16,
    "start_time": "2025-02-24T09:45:20.962Z"
   },
   {
    "duration": 8,
    "start_time": "2025-02-24T09:45:24.118Z"
   },
   {
    "duration": 12,
    "start_time": "2025-02-24T09:45:25.384Z"
   },
   {
    "duration": 14,
    "start_time": "2025-02-24T09:45:31.544Z"
   },
   {
    "duration": 60,
    "start_time": "2025-02-24T09:48:40.543Z"
   },
   {
    "duration": 3,
    "start_time": "2025-02-24T09:48:52.269Z"
   },
   {
    "duration": 13,
    "start_time": "2025-02-24T09:49:27.698Z"
   },
   {
    "duration": 3,
    "start_time": "2025-02-24T09:49:28.313Z"
   },
   {
    "duration": 357,
    "start_time": "2025-02-24T09:58:12.608Z"
   },
   {
    "duration": 130,
    "start_time": "2025-02-24T09:58:12.967Z"
   },
   {
    "duration": 18,
    "start_time": "2025-02-24T09:58:13.157Z"
   },
   {
    "duration": 16,
    "start_time": "2025-02-24T09:58:13.339Z"
   },
   {
    "duration": 4,
    "start_time": "2025-02-24T09:58:14.458Z"
   },
   {
    "duration": 3,
    "start_time": "2025-02-24T09:58:14.656Z"
   },
   {
    "duration": 4,
    "start_time": "2025-02-24T09:58:15.050Z"
   },
   {
    "duration": 3,
    "start_time": "2025-02-24T09:58:15.514Z"
   },
   {
    "duration": 4,
    "start_time": "2025-02-24T09:58:15.935Z"
   },
   {
    "duration": 17,
    "start_time": "2025-02-24T09:58:16.136Z"
   },
   {
    "duration": 14,
    "start_time": "2025-02-24T09:58:16.529Z"
   },
   {
    "duration": 9,
    "start_time": "2025-02-24T09:58:17.100Z"
   },
   {
    "duration": 11,
    "start_time": "2025-02-24T09:58:17.316Z"
   },
   {
    "duration": 4,
    "start_time": "2025-02-24T09:58:19.766Z"
   },
   {
    "duration": 3,
    "start_time": "2025-02-24T09:58:19.986Z"
   },
   {
    "duration": 11,
    "start_time": "2025-02-24T09:58:20.620Z"
   },
   {
    "duration": 4,
    "start_time": "2025-02-24T09:58:21.252Z"
   },
   {
    "duration": 8,
    "start_time": "2025-02-24T09:58:21.713Z"
   },
   {
    "duration": 9,
    "start_time": "2025-02-24T09:58:21.957Z"
   },
   {
    "duration": 12,
    "start_time": "2025-02-24T09:58:23.079Z"
   },
   {
    "duration": 3,
    "start_time": "2025-02-24T09:58:23.424Z"
   },
   {
    "duration": 11,
    "start_time": "2025-02-24T09:58:24.567Z"
   },
   {
    "duration": 15,
    "start_time": "2025-02-24T09:58:25.072Z"
   },
   {
    "duration": 16,
    "start_time": "2025-02-24T09:58:25.557Z"
   },
   {
    "duration": 9,
    "start_time": "2025-02-24T09:58:26.847Z"
   },
   {
    "duration": 18,
    "start_time": "2025-02-24T09:58:27.644Z"
   },
   {
    "duration": 14,
    "start_time": "2025-02-24T09:58:29.071Z"
   },
   {
    "duration": 3,
    "start_time": "2025-02-24T09:58:32.260Z"
   },
   {
    "duration": 4,
    "start_time": "2025-02-24T09:58:32.865Z"
   },
   {
    "duration": 5,
    "start_time": "2025-02-24T09:58:57.626Z"
   },
   {
    "duration": 13,
    "start_time": "2025-02-24T09:59:00.328Z"
   },
   {
    "duration": 3,
    "start_time": "2025-02-24T09:59:01.763Z"
   },
   {
    "duration": 352,
    "start_time": "2025-02-24T11:50:12.030Z"
   },
   {
    "duration": 83,
    "start_time": "2025-02-24T11:50:12.384Z"
   },
   {
    "duration": 19,
    "start_time": "2025-02-24T11:50:12.631Z"
   },
   {
    "duration": 15,
    "start_time": "2025-02-24T11:50:12.849Z"
   },
   {
    "duration": 3,
    "start_time": "2025-02-24T11:50:14.050Z"
   },
   {
    "duration": 3,
    "start_time": "2025-02-24T11:50:14.255Z"
   },
   {
    "duration": 4,
    "start_time": "2025-02-24T11:50:14.689Z"
   },
   {
    "duration": 4,
    "start_time": "2025-02-24T11:50:15.097Z"
   },
   {
    "duration": 4,
    "start_time": "2025-02-24T11:50:15.507Z"
   },
   {
    "duration": 18,
    "start_time": "2025-02-24T11:50:15.713Z"
   },
   {
    "duration": 14,
    "start_time": "2025-02-24T11:50:16.172Z"
   },
   {
    "duration": 9,
    "start_time": "2025-02-24T11:50:16.918Z"
   },
   {
    "duration": 11,
    "start_time": "2025-02-24T11:50:17.145Z"
   },
   {
    "duration": 3,
    "start_time": "2025-02-24T11:50:20.045Z"
   },
   {
    "duration": 3,
    "start_time": "2025-02-24T11:50:20.290Z"
   },
   {
    "duration": 13,
    "start_time": "2025-02-24T11:50:20.999Z"
   },
   {
    "duration": 4,
    "start_time": "2025-02-24T11:50:21.499Z"
   },
   {
    "duration": 8,
    "start_time": "2025-02-24T11:50:22.003Z"
   },
   {
    "duration": 9,
    "start_time": "2025-02-24T11:50:22.247Z"
   },
   {
    "duration": 14,
    "start_time": "2025-02-24T11:50:23.608Z"
   },
   {
    "duration": 4,
    "start_time": "2025-02-24T11:50:23.868Z"
   },
   {
    "duration": 11,
    "start_time": "2025-02-24T11:50:25.476Z"
   },
   {
    "duration": 16,
    "start_time": "2025-02-24T11:50:26.589Z"
   },
   {
    "duration": 16,
    "start_time": "2025-02-24T11:50:27.000Z"
   },
   {
    "duration": 10,
    "start_time": "2025-02-24T11:50:29.906Z"
   },
   {
    "duration": 11,
    "start_time": "2025-02-24T11:50:30.146Z"
   },
   {
    "duration": 14,
    "start_time": "2025-02-24T11:50:33.040Z"
   },
   {
    "duration": 417,
    "start_time": "2025-02-24T11:54:31.954Z"
   },
   {
    "duration": 160,
    "start_time": "2025-02-24T11:54:32.373Z"
   },
   {
    "duration": 19,
    "start_time": "2025-02-24T11:54:32.596Z"
   },
   {
    "duration": 15,
    "start_time": "2025-02-24T11:54:32.971Z"
   },
   {
    "duration": 4,
    "start_time": "2025-02-24T11:54:35.504Z"
   },
   {
    "duration": 3,
    "start_time": "2025-02-24T11:54:35.837Z"
   },
   {
    "duration": 4,
    "start_time": "2025-02-24T11:54:36.736Z"
   },
   {
    "duration": 3,
    "start_time": "2025-02-24T11:54:38.452Z"
   },
   {
    "duration": 4,
    "start_time": "2025-02-24T11:54:44.309Z"
   },
   {
    "duration": 16,
    "start_time": "2025-02-24T11:54:44.677Z"
   },
   {
    "duration": 14,
    "start_time": "2025-02-24T11:54:48.986Z"
   },
   {
    "duration": 9,
    "start_time": "2025-02-24T11:54:52.477Z"
   },
   {
    "duration": 11,
    "start_time": "2025-02-24T11:54:53.910Z"
   },
   {
    "duration": 14,
    "start_time": "2025-02-24T11:55:00.682Z"
   },
   {
    "duration": 15,
    "start_time": "2025-02-24T11:55:47.293Z"
   },
   {
    "duration": 4,
    "start_time": "2025-02-24T11:55:47.518Z"
   },
   {
    "duration": 3,
    "start_time": "2025-02-24T11:55:48.033Z"
   },
   {
    "duration": 12,
    "start_time": "2025-02-24T11:55:48.264Z"
   },
   {
    "duration": 4,
    "start_time": "2025-02-24T11:55:48.433Z"
   },
   {
    "duration": 8,
    "start_time": "2025-02-24T11:55:48.602Z"
   },
   {
    "duration": 11,
    "start_time": "2025-02-24T11:55:48.686Z"
   },
   {
    "duration": 12,
    "start_time": "2025-02-24T11:55:49.027Z"
   },
   {
    "duration": 3,
    "start_time": "2025-02-24T11:55:49.107Z"
   },
   {
    "duration": 10,
    "start_time": "2025-02-24T11:55:49.358Z"
   },
   {
    "duration": 14,
    "start_time": "2025-02-24T11:55:50.482Z"
   },
   {
    "duration": 16,
    "start_time": "2025-02-24T11:55:50.943Z"
   },
   {
    "duration": 8,
    "start_time": "2025-02-24T11:55:51.911Z"
   },
   {
    "duration": 13,
    "start_time": "2025-02-24T11:55:52.973Z"
   },
   {
    "duration": 14,
    "start_time": "2025-02-24T11:55:54.740Z"
   },
   {
    "duration": 4,
    "start_time": "2025-02-24T11:55:56.887Z"
   },
   {
    "duration": 13,
    "start_time": "2025-02-24T11:55:57.988Z"
   },
   {
    "duration": 3,
    "start_time": "2025-02-24T11:55:58.928Z"
   },
   {
    "duration": 15,
    "start_time": "2025-02-24T12:01:30.945Z"
   },
   {
    "duration": 4,
    "start_time": "2025-02-24T12:01:31.511Z"
   },
   {
    "duration": 3,
    "start_time": "2025-02-24T12:01:31.723Z"
   },
   {
    "duration": 9,
    "start_time": "2025-02-24T12:01:32.527Z"
   },
   {
    "duration": 4,
    "start_time": "2025-02-24T12:01:32.688Z"
   },
   {
    "duration": 9,
    "start_time": "2025-02-24T12:01:32.853Z"
   },
   {
    "duration": 8,
    "start_time": "2025-02-24T12:01:33.354Z"
   },
   {
    "duration": 12,
    "start_time": "2025-02-24T12:01:34.882Z"
   },
   {
    "duration": 5,
    "start_time": "2025-02-24T12:01:35.220Z"
   },
   {
    "duration": 11,
    "start_time": "2025-02-24T12:01:36.730Z"
   },
   {
    "duration": 15,
    "start_time": "2025-02-24T12:01:36.933Z"
   },
   {
    "duration": 16,
    "start_time": "2025-02-24T12:01:37.352Z"
   },
   {
    "duration": 9,
    "start_time": "2025-02-24T12:01:37.907Z"
   },
   {
    "duration": 13,
    "start_time": "2025-02-24T12:01:39.240Z"
   },
   {
    "duration": 14,
    "start_time": "2025-02-24T12:01:40.611Z"
   },
   {
    "duration": 4,
    "start_time": "2025-02-24T12:02:22.011Z"
   },
   {
    "duration": 4,
    "start_time": "2025-02-24T12:02:28.125Z"
   },
   {
    "duration": 4,
    "start_time": "2025-02-24T12:02:40.467Z"
   },
   {
    "duration": 3,
    "start_time": "2025-02-24T12:02:47.082Z"
   },
   {
    "duration": 9,
    "start_time": "2025-02-24T12:08:50.139Z"
   },
   {
    "duration": 45,
    "start_time": "2025-02-24T12:09:06.880Z"
   },
   {
    "duration": 354,
    "start_time": "2025-02-24T12:09:16.016Z"
   },
   {
    "duration": 78,
    "start_time": "2025-02-24T12:09:16.372Z"
   },
   {
    "duration": 20,
    "start_time": "2025-02-24T12:09:16.845Z"
   },
   {
    "duration": 17,
    "start_time": "2025-02-24T12:09:17.027Z"
   },
   {
    "duration": 5,
    "start_time": "2025-02-24T12:09:18.194Z"
   },
   {
    "duration": 3,
    "start_time": "2025-02-24T12:09:18.387Z"
   },
   {
    "duration": 4,
    "start_time": "2025-02-24T12:09:18.864Z"
   },
   {
    "duration": 4,
    "start_time": "2025-02-24T12:09:19.727Z"
   },
   {
    "duration": 4,
    "start_time": "2025-02-24T12:09:20.427Z"
   },
   {
    "duration": 17,
    "start_time": "2025-02-24T12:09:20.841Z"
   },
   {
    "duration": 14,
    "start_time": "2025-02-24T12:09:21.776Z"
   },
   {
    "duration": 9,
    "start_time": "2025-02-24T12:09:23.707Z"
   },
   {
    "duration": 14,
    "start_time": "2025-02-24T12:09:52.458Z"
   },
   {
    "duration": 13,
    "start_time": "2025-02-24T12:09:55.068Z"
   },
   {
    "duration": 28,
    "start_time": "2025-02-24T12:10:11.172Z"
   },
   {
    "duration": 18,
    "start_time": "2025-02-24T12:11:31.689Z"
   },
   {
    "duration": 10,
    "start_time": "2025-02-24T12:11:55.537Z"
   },
   {
    "duration": 16,
    "start_time": "2025-02-24T12:13:37.034Z"
   },
   {
    "duration": 3,
    "start_time": "2025-02-24T12:14:31.011Z"
   },
   {
    "duration": 18,
    "start_time": "2025-02-24T12:14:46.301Z"
   },
   {
    "duration": 4,
    "start_time": "2025-02-24T12:14:46.881Z"
   },
   {
    "duration": 18,
    "start_time": "2025-02-24T12:15:15.792Z"
   },
   {
    "duration": 423,
    "start_time": "2025-02-24T12:15:30.152Z"
   },
   {
    "duration": 117,
    "start_time": "2025-02-24T12:15:30.577Z"
   },
   {
    "duration": 19,
    "start_time": "2025-02-24T12:15:31.011Z"
   },
   {
    "duration": 17,
    "start_time": "2025-02-24T12:15:31.816Z"
   },
   {
    "duration": 3,
    "start_time": "2025-02-24T12:15:35.482Z"
   },
   {
    "duration": 4,
    "start_time": "2025-02-24T12:15:35.893Z"
   },
   {
    "duration": 4,
    "start_time": "2025-02-24T12:15:36.781Z"
   },
   {
    "duration": 3,
    "start_time": "2025-02-24T12:15:38.311Z"
   },
   {
    "duration": 4,
    "start_time": "2025-02-24T12:15:40.435Z"
   },
   {
    "duration": 17,
    "start_time": "2025-02-24T12:15:42.129Z"
   },
   {
    "duration": 15,
    "start_time": "2025-02-24T12:15:43.501Z"
   },
   {
    "duration": 20,
    "start_time": "2025-02-24T12:15:52.836Z"
   },
   {
    "duration": 12,
    "start_time": "2025-02-24T12:16:05.389Z"
   },
   {
    "duration": 3,
    "start_time": "2025-02-24T12:16:16.346Z"
   },
   {
    "duration": 4,
    "start_time": "2025-02-24T12:16:16.923Z"
   },
   {
    "duration": 13,
    "start_time": "2025-02-24T12:16:18.348Z"
   },
   {
    "duration": 4,
    "start_time": "2025-02-24T12:16:20.225Z"
   },
   {
    "duration": 8,
    "start_time": "2025-02-24T12:16:20.876Z"
   },
   {
    "duration": 8,
    "start_time": "2025-02-24T12:16:26.571Z"
   },
   {
    "duration": 12,
    "start_time": "2025-02-24T12:16:35.206Z"
   },
   {
    "duration": 4,
    "start_time": "2025-02-24T12:16:41.109Z"
   },
   {
    "duration": 15,
    "start_time": "2025-02-24T12:16:45.128Z"
   },
   {
    "duration": 15,
    "start_time": "2025-02-24T12:16:51.416Z"
   },
   {
    "duration": 15,
    "start_time": "2025-02-24T12:16:53.357Z"
   },
   {
    "duration": 9,
    "start_time": "2025-02-24T12:16:56.225Z"
   },
   {
    "duration": 12,
    "start_time": "2025-02-24T12:16:58.129Z"
   },
   {
    "duration": 14,
    "start_time": "2025-02-24T12:17:01.422Z"
   },
   {
    "duration": 4,
    "start_time": "2025-02-24T12:17:08.359Z"
   },
   {
    "duration": 13,
    "start_time": "2025-02-24T12:17:09.253Z"
   },
   {
    "duration": 3,
    "start_time": "2025-02-24T12:17:10.255Z"
   },
   {
    "duration": 6,
    "start_time": "2025-02-24T12:17:18.942Z"
   },
   {
    "duration": 3,
    "start_time": "2025-02-24T12:17:19.512Z"
   },
   {
    "duration": 12,
    "start_time": "2025-02-24T12:17:19.824Z"
   },
   {
    "duration": 23,
    "start_time": "2025-02-24T12:17:21.005Z"
   },
   {
    "duration": 24,
    "start_time": "2025-02-24T12:17:22.554Z"
   },
   {
    "duration": 8,
    "start_time": "2025-02-24T12:17:23.706Z"
   },
   {
    "duration": 9,
    "start_time": "2025-02-24T12:17:23.985Z"
   },
   {
    "duration": 12,
    "start_time": "2025-02-24T12:17:24.532Z"
   },
   {
    "duration": 14,
    "start_time": "2025-02-24T12:17:46.381Z"
   },
   {
    "duration": 15,
    "start_time": "2025-02-24T12:17:51.965Z"
   },
   {
    "duration": 9,
    "start_time": "2025-02-24T12:19:13.156Z"
   },
   {
    "duration": 410,
    "start_time": "2025-02-24T12:19:28.289Z"
   },
   {
    "duration": 106,
    "start_time": "2025-02-24T12:19:28.705Z"
   },
   {
    "duration": 20,
    "start_time": "2025-02-24T12:19:29.143Z"
   },
   {
    "duration": 15,
    "start_time": "2025-02-24T12:19:29.211Z"
   },
   {
    "duration": 4,
    "start_time": "2025-02-24T12:19:29.725Z"
   },
   {
    "duration": 3,
    "start_time": "2025-02-24T12:19:29.805Z"
   },
   {
    "duration": 4,
    "start_time": "2025-02-24T12:19:29.967Z"
   },
   {
    "duration": 4,
    "start_time": "2025-02-24T12:19:30.134Z"
   },
   {
    "duration": 4,
    "start_time": "2025-02-24T12:19:30.302Z"
   },
   {
    "duration": 17,
    "start_time": "2025-02-24T12:19:30.389Z"
   },
   {
    "duration": 14,
    "start_time": "2025-02-24T12:19:30.555Z"
   },
   {
    "duration": 10,
    "start_time": "2025-02-24T12:19:30.807Z"
   },
   {
    "duration": 11,
    "start_time": "2025-02-24T12:19:36.119Z"
   },
   {
    "duration": 4,
    "start_time": "2025-02-24T12:19:37.527Z"
   },
   {
    "duration": 3,
    "start_time": "2025-02-24T12:19:37.604Z"
   },
   {
    "duration": 14,
    "start_time": "2025-02-24T12:19:38.702Z"
   },
   {
    "duration": 5,
    "start_time": "2025-02-24T12:19:39.460Z"
   },
   {
    "duration": 8,
    "start_time": "2025-02-24T12:19:39.847Z"
   },
   {
    "duration": 9,
    "start_time": "2025-02-24T12:19:40.031Z"
   },
   {
    "duration": 11,
    "start_time": "2025-02-24T12:19:42.642Z"
   },
   {
    "duration": 4,
    "start_time": "2025-02-24T12:19:42.962Z"
   },
   {
    "duration": 10,
    "start_time": "2025-02-24T12:19:43.889Z"
   },
   {
    "duration": 15,
    "start_time": "2025-02-24T12:19:44.363Z"
   },
   {
    "duration": 15,
    "start_time": "2025-02-24T12:19:44.812Z"
   },
   {
    "duration": 8,
    "start_time": "2025-02-24T12:19:45.926Z"
   },
   {
    "duration": 12,
    "start_time": "2025-02-24T12:19:46.380Z"
   },
   {
    "duration": 14,
    "start_time": "2025-02-24T12:19:50.318Z"
   },
   {
    "duration": 77,
    "start_time": "2025-02-24T12:20:00.513Z"
   },
   {
    "duration": 10,
    "start_time": "2025-02-24T12:20:07.831Z"
   },
   {
    "duration": 4,
    "start_time": "2025-02-24T12:20:32.063Z"
   },
   {
    "duration": 4,
    "start_time": "2025-02-24T12:35:01.667Z"
   },
   {
    "duration": 430,
    "start_time": "2025-02-24T12:35:19.363Z"
   },
   {
    "duration": 109,
    "start_time": "2025-02-24T12:35:19.794Z"
   },
   {
    "duration": 18,
    "start_time": "2025-02-24T12:35:19.929Z"
   },
   {
    "duration": 15,
    "start_time": "2025-02-24T12:35:20.103Z"
   },
   {
    "duration": 3,
    "start_time": "2025-02-24T12:35:21.166Z"
   },
   {
    "duration": 3,
    "start_time": "2025-02-24T12:35:21.358Z"
   },
   {
    "duration": 3,
    "start_time": "2025-02-24T12:35:21.711Z"
   },
   {
    "duration": 4,
    "start_time": "2025-02-24T12:35:22.066Z"
   },
   {
    "duration": 4,
    "start_time": "2025-02-24T12:35:22.435Z"
   },
   {
    "duration": 16,
    "start_time": "2025-02-24T12:35:22.621Z"
   },
   {
    "duration": 21,
    "start_time": "2025-02-24T12:35:22.967Z"
   },
   {
    "duration": 10,
    "start_time": "2025-02-24T12:35:23.545Z"
   },
   {
    "duration": 10,
    "start_time": "2025-02-24T12:35:23.727Z"
   },
   {
    "duration": 67,
    "start_time": "2025-02-24T12:35:23.927Z"
   },
   {
    "duration": 3,
    "start_time": "2025-02-24T12:35:43.912Z"
   },
   {
    "duration": 4,
    "start_time": "2025-02-24T12:38:12.664Z"
   },
   {
    "duration": 3,
    "start_time": "2025-02-24T12:38:17.526Z"
   },
   {
    "duration": 3,
    "start_time": "2025-02-24T12:38:18.451Z"
   },
   {
    "duration": 13,
    "start_time": "2025-02-24T12:38:19.962Z"
   },
   {
    "duration": 4,
    "start_time": "2025-02-24T12:38:20.873Z"
   },
   {
    "duration": 8,
    "start_time": "2025-02-24T12:38:24.194Z"
   },
   {
    "duration": 9,
    "start_time": "2025-02-24T12:38:26.677Z"
   },
   {
    "duration": 4,
    "start_time": "2025-02-24T12:39:24.229Z"
   },
   {
    "duration": 12,
    "start_time": "2025-02-24T12:39:40.434Z"
   },
   {
    "duration": 3,
    "start_time": "2025-02-24T12:39:43.214Z"
   },
   {
    "duration": 10,
    "start_time": "2025-02-24T12:39:46.018Z"
   },
   {
    "duration": 15,
    "start_time": "2025-02-24T12:39:49.743Z"
   },
   {
    "duration": 16,
    "start_time": "2025-02-24T12:39:51.802Z"
   },
   {
    "duration": 8,
    "start_time": "2025-02-24T12:39:58.920Z"
   },
   {
    "duration": 12,
    "start_time": "2025-02-24T12:40:02.284Z"
   },
   {
    "duration": 17,
    "start_time": "2025-02-24T12:40:07.476Z"
   },
   {
    "duration": 4,
    "start_time": "2025-02-24T12:40:22.167Z"
   },
   {
    "duration": 12,
    "start_time": "2025-02-24T12:40:55.544Z"
   },
   {
    "duration": 3,
    "start_time": "2025-02-24T12:40:58.030Z"
   },
   {
    "duration": 467,
    "start_time": "2025-02-24T12:44:58.370Z"
   },
   {
    "duration": 124,
    "start_time": "2025-02-24T12:44:58.839Z"
   },
   {
    "duration": 28,
    "start_time": "2025-02-24T12:44:59.170Z"
   },
   {
    "duration": 16,
    "start_time": "2025-02-24T12:44:59.252Z"
   },
   {
    "duration": 4,
    "start_time": "2025-02-24T12:45:01.346Z"
   },
   {
    "duration": 48,
    "start_time": "2025-02-24T12:45:01.352Z"
   },
   {
    "duration": 4,
    "start_time": "2025-02-24T12:45:01.686Z"
   },
   {
    "duration": 3,
    "start_time": "2025-02-24T12:45:02.146Z"
   },
   {
    "duration": 6,
    "start_time": "2025-02-24T12:45:02.878Z"
   },
   {
    "duration": 17,
    "start_time": "2025-02-24T12:45:03.102Z"
   },
   {
    "duration": 14,
    "start_time": "2025-02-24T12:45:03.731Z"
   },
   {
    "duration": 10,
    "start_time": "2025-02-24T12:45:05.549Z"
   },
   {
    "duration": 16,
    "start_time": "2025-02-24T12:45:08.961Z"
   },
   {
    "duration": 4,
    "start_time": "2025-02-24T12:45:15.211Z"
   },
   {
    "duration": 8,
    "start_time": "2025-02-24T12:45:20.267Z"
   },
   {
    "duration": 5,
    "start_time": "2025-02-24T12:45:29.779Z"
   },
   {
    "duration": 3,
    "start_time": "2025-02-24T12:45:30.634Z"
   },
   {
    "duration": 12,
    "start_time": "2025-02-24T12:45:34.206Z"
   },
   {
    "duration": 4,
    "start_time": "2025-02-24T12:45:36.863Z"
   },
   {
    "duration": 8,
    "start_time": "2025-02-24T12:45:37.403Z"
   },
   {
    "duration": 8,
    "start_time": "2025-02-24T12:45:37.827Z"
   },
   {
    "duration": 4,
    "start_time": "2025-02-24T12:46:58.823Z"
   },
   {
    "duration": 4,
    "start_time": "2025-02-24T12:47:19.325Z"
   },
   {
    "duration": 6,
    "start_time": "2025-02-24T12:47:32.669Z"
   },
   {
    "duration": 15,
    "start_time": "2025-02-24T12:47:50.203Z"
   },
   {
    "duration": 5,
    "start_time": "2025-02-24T12:47:51.068Z"
   },
   {
    "duration": 46,
    "start_time": "2025-02-24T12:48:55.398Z"
   },
   {
    "duration": 443,
    "start_time": "2025-02-24T12:49:06.450Z"
   },
   {
    "duration": 107,
    "start_time": "2025-02-24T12:49:06.955Z"
   },
   {
    "duration": 19,
    "start_time": "2025-02-24T12:49:07.103Z"
   },
   {
    "duration": 15,
    "start_time": "2025-02-24T12:49:07.186Z"
   },
   {
    "duration": 4,
    "start_time": "2025-02-24T12:49:07.697Z"
   },
   {
    "duration": 6,
    "start_time": "2025-02-24T12:49:07.777Z"
   },
   {
    "duration": 3,
    "start_time": "2025-02-24T12:49:07.941Z"
   },
   {
    "duration": 3,
    "start_time": "2025-02-24T12:49:08.110Z"
   },
   {
    "duration": 6,
    "start_time": "2025-02-24T12:49:08.279Z"
   },
   {
    "duration": 24,
    "start_time": "2025-02-24T12:49:08.362Z"
   },
   {
    "duration": 13,
    "start_time": "2025-02-24T12:49:08.528Z"
   },
   {
    "duration": 12,
    "start_time": "2025-02-24T12:49:08.784Z"
   },
   {
    "duration": 20,
    "start_time": "2025-02-24T12:49:08.861Z"
   },
   {
    "duration": 4,
    "start_time": "2025-02-24T12:49:08.942Z"
   },
   {
    "duration": 3,
    "start_time": "2025-02-24T12:49:09.706Z"
   },
   {
    "duration": 5,
    "start_time": "2025-02-24T12:49:09.781Z"
   },
   {
    "duration": 12,
    "start_time": "2025-02-24T12:49:10.029Z"
   },
   {
    "duration": 4,
    "start_time": "2025-02-24T12:49:10.194Z"
   },
   {
    "duration": 9,
    "start_time": "2025-02-24T12:49:10.362Z"
   },
   {
    "duration": 8,
    "start_time": "2025-02-24T12:49:10.444Z"
   },
   {
    "duration": 5,
    "start_time": "2025-02-24T12:49:10.528Z"
   },
   {
    "duration": 12,
    "start_time": "2025-02-24T12:49:10.870Z"
   },
   {
    "duration": 4,
    "start_time": "2025-02-24T12:49:10.944Z"
   },
   {
    "duration": 11,
    "start_time": "2025-02-24T12:49:11.197Z"
   },
   {
    "duration": 16,
    "start_time": "2025-02-24T12:49:11.277Z"
   },
   {
    "duration": 16,
    "start_time": "2025-02-24T12:49:11.361Z"
   },
   {
    "duration": 10,
    "start_time": "2025-02-24T12:49:11.528Z"
   },
   {
    "duration": 13,
    "start_time": "2025-02-24T12:49:11.611Z"
   },
   {
    "duration": 16,
    "start_time": "2025-02-24T12:49:11.861Z"
   },
   {
    "duration": 4,
    "start_time": "2025-02-24T12:49:12.201Z"
   },
   {
    "duration": 4,
    "start_time": "2025-02-24T12:49:12.280Z"
   },
   {
    "duration": 14,
    "start_time": "2025-02-24T12:49:12.361Z"
   },
   {
    "duration": 4,
    "start_time": "2025-02-24T12:49:12.445Z"
   },
   {
    "duration": 6,
    "start_time": "2025-02-24T12:49:13.203Z"
   },
   {
    "duration": 4,
    "start_time": "2025-02-24T12:49:13.362Z"
   },
   {
    "duration": 14,
    "start_time": "2025-02-24T12:49:13.445Z"
   },
   {
    "duration": 24,
    "start_time": "2025-02-24T12:49:13.613Z"
   },
   {
    "duration": 26,
    "start_time": "2025-02-24T12:49:13.953Z"
   },
   {
    "duration": 9,
    "start_time": "2025-02-24T12:49:14.284Z"
   },
   {
    "duration": 8,
    "start_time": "2025-02-24T12:49:14.362Z"
   },
   {
    "duration": 12,
    "start_time": "2025-02-24T12:49:14.529Z"
   },
   {
    "duration": 59,
    "start_time": "2025-02-24T12:56:29.896Z"
   },
   {
    "duration": 410,
    "start_time": "2025-02-24T12:56:42.057Z"
   },
   {
    "duration": 117,
    "start_time": "2025-02-24T12:56:42.469Z"
   },
   {
    "duration": 19,
    "start_time": "2025-02-24T12:56:42.721Z"
   },
   {
    "duration": 14,
    "start_time": "2025-02-24T12:56:42.891Z"
   },
   {
    "duration": 4,
    "start_time": "2025-02-24T12:56:43.942Z"
   },
   {
    "duration": 3,
    "start_time": "2025-02-24T12:56:44.108Z"
   },
   {
    "duration": 4,
    "start_time": "2025-02-24T12:56:44.621Z"
   },
   {
    "duration": 4,
    "start_time": "2025-02-24T12:56:45.007Z"
   },
   {
    "duration": 4,
    "start_time": "2025-02-24T12:56:45.536Z"
   },
   {
    "duration": 18,
    "start_time": "2025-02-24T12:56:45.723Z"
   },
   {
    "duration": 15,
    "start_time": "2025-02-24T12:56:46.149Z"
   },
   {
    "duration": 11,
    "start_time": "2025-02-24T12:56:47.168Z"
   },
   {
    "duration": 11,
    "start_time": "2025-02-24T12:56:47.427Z"
   },
   {
    "duration": 4,
    "start_time": "2025-02-24T12:56:47.636Z"
   },
   {
    "duration": 3,
    "start_time": "2025-02-24T12:56:49.344Z"
   },
   {
    "duration": 4,
    "start_time": "2025-02-24T12:56:49.521Z"
   },
   {
    "duration": 12,
    "start_time": "2025-02-24T12:56:50.359Z"
   },
   {
    "duration": 4,
    "start_time": "2025-02-24T12:56:50.729Z"
   },
   {
    "duration": 7,
    "start_time": "2025-02-24T12:56:51.102Z"
   },
   {
    "duration": 9,
    "start_time": "2025-02-24T12:56:51.424Z"
   },
   {
    "duration": 3,
    "start_time": "2025-02-24T12:56:51.621Z"
   },
   {
    "duration": 11,
    "start_time": "2025-02-24T12:56:52.458Z"
   },
   {
    "duration": 4,
    "start_time": "2025-02-24T12:56:52.686Z"
   },
   {
    "duration": 11,
    "start_time": "2025-02-24T12:56:53.367Z"
   },
   {
    "duration": 15,
    "start_time": "2025-02-24T12:56:53.570Z"
   },
   {
    "duration": 16,
    "start_time": "2025-02-24T12:56:53.790Z"
   },
   {
    "duration": 9,
    "start_time": "2025-02-24T12:56:54.160Z"
   },
   {
    "duration": 12,
    "start_time": "2025-02-24T12:56:54.609Z"
   },
   {
    "duration": 14,
    "start_time": "2025-02-24T12:56:55.703Z"
   },
   {
    "duration": 61,
    "start_time": "2025-02-24T12:57:00.237Z"
   },
   {
    "duration": 9,
    "start_time": "2025-02-24T12:57:21.447Z"
   },
   {
    "duration": 3,
    "start_time": "2025-02-24T12:57:43.258Z"
   },
   {
    "duration": 3,
    "start_time": "2025-02-24T12:57:43.543Z"
   },
   {
    "duration": 12,
    "start_time": "2025-02-24T12:57:43.867Z"
   },
   {
    "duration": 3,
    "start_time": "2025-02-24T12:57:44.241Z"
   },
   {
    "duration": 5,
    "start_time": "2025-02-24T12:57:45.026Z"
   },
   {
    "duration": 4,
    "start_time": "2025-02-24T12:58:13.134Z"
   },
   {
    "duration": 5,
    "start_time": "2025-02-24T12:58:55.901Z"
   },
   {
    "duration": 383,
    "start_time": "2025-02-24T13:00:23.194Z"
   },
   {
    "duration": 99,
    "start_time": "2025-02-24T13:00:23.579Z"
   },
   {
    "duration": 19,
    "start_time": "2025-02-24T13:00:23.985Z"
   },
   {
    "duration": 14,
    "start_time": "2025-02-24T13:00:24.241Z"
   },
   {
    "duration": 3,
    "start_time": "2025-02-24T13:00:25.862Z"
   },
   {
    "duration": 3,
    "start_time": "2025-02-24T13:00:26.175Z"
   },
   {
    "duration": 4,
    "start_time": "2025-02-24T13:00:26.794Z"
   },
   {
    "duration": 4,
    "start_time": "2025-02-24T13:00:27.303Z"
   },
   {
    "duration": 3,
    "start_time": "2025-02-24T13:00:28.078Z"
   },
   {
    "duration": 18,
    "start_time": "2025-02-24T13:00:28.401Z"
   },
   {
    "duration": 13,
    "start_time": "2025-02-24T13:00:28.955Z"
   },
   {
    "duration": 10,
    "start_time": "2025-02-24T13:00:30.165Z"
   },
   {
    "duration": 11,
    "start_time": "2025-02-24T13:00:30.386Z"
   },
   {
    "duration": 4,
    "start_time": "2025-02-24T13:00:30.663Z"
   },
   {
    "duration": 3,
    "start_time": "2025-02-24T13:00:33.816Z"
   },
   {
    "duration": 4,
    "start_time": "2025-02-24T13:00:34.216Z"
   },
   {
    "duration": 12,
    "start_time": "2025-02-24T13:00:35.154Z"
   },
   {
    "duration": 4,
    "start_time": "2025-02-24T13:00:35.816Z"
   },
   {
    "duration": 9,
    "start_time": "2025-02-24T13:00:36.622Z"
   },
   {
    "duration": 9,
    "start_time": "2025-02-24T13:00:37.839Z"
   },
   {
    "duration": 12,
    "start_time": "2025-02-24T13:00:39.952Z"
   },
   {
    "duration": 4,
    "start_time": "2025-02-24T13:00:40.703Z"
   },
   {
    "duration": 11,
    "start_time": "2025-02-24T13:00:41.800Z"
   },
   {
    "duration": 15,
    "start_time": "2025-02-24T13:00:42.249Z"
   },
   {
    "duration": 15,
    "start_time": "2025-02-24T13:00:42.681Z"
   },
   {
    "duration": 8,
    "start_time": "2025-02-24T13:00:43.472Z"
   },
   {
    "duration": 12,
    "start_time": "2025-02-24T13:00:43.815Z"
   },
   {
    "duration": 15,
    "start_time": "2025-02-24T13:00:44.996Z"
   },
   {
    "duration": 4,
    "start_time": "2025-02-24T13:00:46.977Z"
   },
   {
    "duration": 4,
    "start_time": "2025-02-24T13:00:51.010Z"
   },
   {
    "duration": 13,
    "start_time": "2025-02-24T13:01:04.746Z"
   },
   {
    "duration": 4,
    "start_time": "2025-02-24T13:01:05.957Z"
   },
   {
    "duration": 7,
    "start_time": "2025-02-24T13:01:07.569Z"
   },
   {
    "duration": 373,
    "start_time": "2025-02-24T13:09:25.434Z"
   },
   {
    "duration": 299,
    "start_time": "2025-02-24T13:09:25.984Z"
   },
   {
    "duration": 19,
    "start_time": "2025-02-24T13:09:26.599Z"
   },
   {
    "duration": 15,
    "start_time": "2025-02-24T13:09:27.324Z"
   },
   {
    "duration": 6,
    "start_time": "2025-02-24T13:09:30.707Z"
   },
   {
    "duration": 4,
    "start_time": "2025-02-24T13:09:31.063Z"
   },
   {
    "duration": 3,
    "start_time": "2025-02-24T13:09:31.719Z"
   },
   {
    "duration": 3,
    "start_time": "2025-02-24T13:09:32.424Z"
   },
   {
    "duration": 6,
    "start_time": "2025-02-24T13:09:34.269Z"
   },
   {
    "duration": 17,
    "start_time": "2025-02-24T13:09:34.692Z"
   },
   {
    "duration": 24,
    "start_time": "2025-02-24T13:09:36.266Z"
   },
   {
    "duration": 12,
    "start_time": "2025-02-24T13:09:38.437Z"
   },
   {
    "duration": 21,
    "start_time": "2025-02-24T13:09:39.866Z"
   },
   {
    "duration": 4,
    "start_time": "2025-02-24T13:09:40.365Z"
   },
   {
    "duration": 6,
    "start_time": "2025-02-24T13:09:54.277Z"
   },
   {
    "duration": 4,
    "start_time": "2025-02-24T13:09:55.591Z"
   },
   {
    "duration": 13,
    "start_time": "2025-02-24T13:09:56.892Z"
   },
   {
    "duration": 6,
    "start_time": "2025-02-24T13:09:58.621Z"
   },
   {
    "duration": 8,
    "start_time": "2025-02-24T13:10:02.255Z"
   },
   {
    "duration": 9,
    "start_time": "2025-02-24T13:10:02.627Z"
   },
   {
    "duration": 11,
    "start_time": "2025-02-24T13:10:06.899Z"
   },
   {
    "duration": 4,
    "start_time": "2025-02-24T13:10:09.157Z"
   },
   {
    "duration": 12,
    "start_time": "2025-02-24T13:10:10.391Z"
   },
   {
    "duration": 34,
    "start_time": "2025-02-24T13:10:11.068Z"
   },
   {
    "duration": 16,
    "start_time": "2025-02-24T13:10:11.812Z"
   },
   {
    "duration": 9,
    "start_time": "2025-02-24T13:10:15.051Z"
   },
   {
    "duration": 20,
    "start_time": "2025-02-24T13:10:19.481Z"
   },
   {
    "duration": 25,
    "start_time": "2025-02-24T13:10:20.963Z"
   },
   {
    "duration": 4,
    "start_time": "2025-02-24T13:10:24.349Z"
   },
   {
    "duration": 4,
    "start_time": "2025-02-24T13:10:31.416Z"
   },
   {
    "duration": 33,
    "start_time": "2025-02-24T13:10:32.757Z"
   },
   {
    "duration": 4,
    "start_time": "2025-02-24T13:10:35.408Z"
   },
   {
    "duration": 8,
    "start_time": "2025-02-24T13:10:48.666Z"
   },
   {
    "duration": 6,
    "start_time": "2025-02-24T13:11:01.944Z"
   },
   {
    "duration": 4,
    "start_time": "2025-02-24T13:11:03.283Z"
   },
   {
    "duration": 15,
    "start_time": "2025-02-24T13:11:15.558Z"
   },
   {
    "duration": 22,
    "start_time": "2025-02-24T13:11:16.311Z"
   },
   {
    "duration": 25,
    "start_time": "2025-02-24T13:11:18.199Z"
   },
   {
    "duration": 8,
    "start_time": "2025-02-24T13:11:20.827Z"
   },
   {
    "duration": 9,
    "start_time": "2025-02-24T13:11:25.328Z"
   },
   {
    "duration": 12,
    "start_time": "2025-02-24T13:11:26.589Z"
   }
  ],
  "colab": {
   "provenance": []
  },
  "kernelspec": {
   "display_name": "Python [conda env:base] *",
   "language": "python",
   "name": "conda-base-py"
  },
  "language_info": {
   "codemirror_mode": {
    "name": "ipython",
    "version": 3
   },
   "file_extension": ".py",
   "mimetype": "text/x-python",
   "name": "python",
   "nbconvert_exporter": "python",
   "pygments_lexer": "ipython3",
   "version": "3.12.7"
  },
  "toc": {
   "base_numbering": 1,
   "nav_menu": {},
   "number_sections": true,
   "sideBar": true,
   "skip_h1_title": true,
   "title_cell": "Table of Contents",
   "title_sidebar": "Contents",
   "toc_cell": false,
   "toc_position": {},
   "toc_section_display": true,
   "toc_window_display": false
  }
 },
 "nbformat": 4,
 "nbformat_minor": 5
}
